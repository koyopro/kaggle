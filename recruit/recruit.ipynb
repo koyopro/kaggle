{
  "nbformat": 4,
  "nbformat_minor": 0,
  "metadata": {
    "colab": {
      "name": "recruit.ipynb",
      "version": "0.3.2",
      "provenance": [],
      "collapsed_sections": []
    },
    "kernelspec": {
      "name": "python3",
      "display_name": "Python 3"
    }
  },
  "cells": [
    {
      "cell_type": "markdown",
      "metadata": {
        "id": "view-in-github",
        "colab_type": "text"
      },
      "source": [
        "[View in Colaboratory](https://colab.research.google.com/github/koyopro/kaggle/blob/master/recruit/recruit.ipynb)"
      ]
    },
    {
      "metadata": {
        "id": "q1NokUusZOIH",
        "colab_type": "text"
      },
      "cell_type": "markdown",
      "source": [
        "# Recruit Restaurant Visitor Forecasting\n",
        "\n",
        "https://www.kaggle.com/c/recruit-restaurant-visitor-forecasting  \n",
        "2018/05/17\n",
        "\n",
        "- 予約数から客数を予測する問題\n",
        "- お店毎に2017/4/23~2017/5/31の数を予測する？\n",
        "  - ゴールデンウィークを含むことに注意\n",
        "- 日付データは2016/01/01~2017/05/31\n",
        "- お店は全150店舗\n",
        "- 学習データ(実際の来店客数)はair_visit_data.csv\n",
        "  - 2016/01~2017/04/22までのデータ\n",
        "- 学習データとテストデータはairのIDなので、先にhpgは無視してairだけでやってみるのもアリか。"
      ]
    },
    {
      "metadata": {
        "id": "9oMMRr4QIEj_",
        "colab_type": "code",
        "colab": {}
      },
      "cell_type": "code",
      "source": [
        "import pandas as pd\n",
        "import os\n",
        "import requests\n",
        "import xgboost as xgb\n",
        "import numpy as np\n",
        "from sklearn import preprocessing\n",
        "import seaborn as sns\n",
        "import matplotlib.pyplot as plt\n",
        "%matplotlib inline \n",
        "from google.colab import files"
      ],
      "execution_count": 0,
      "outputs": []
    },
    {
      "metadata": {
        "id": "kevv0DB8YaGi",
        "colab_type": "code",
        "colab": {
          "base_uri": "https://localhost:8080/",
          "height": 51
        },
        "outputId": "fccea5f8-ca73-4dfb-b430-f88aad7be2fb"
      },
      "cell_type": "code",
      "source": [
        "open('storage.py', 'wb').write(requests.get('https://www.dropbox.com/s/xaohy7hkltic6kv/storage.py?dl=1', allow_redirects=True).content)\n",
        "import storage\n",
        "storage.sync_from_storage('common')\n",
        "\n",
        "# !pip install kaggle"
      ],
      "execution_count": 2,
      "outputs": [
        {
          "output_type": "stream",
          "text": [
            "gsutil rsync -r gs://staging.kaggle-ky.appspot.com/common .\n",
            "\n"
          ],
          "name": "stdout"
        }
      ]
    },
    {
      "metadata": {
        "id": "Zl42G4ayYcE9",
        "colab_type": "code",
        "colab": {
          "base_uri": "https://localhost:8080/",
          "height": 85
        },
        "outputId": "90576cbe-d103-4642-f7b1-b7f1cc7ef42f"
      },
      "cell_type": "code",
      "source": [
        "ls"
      ],
      "execution_count": 3,
      "outputs": [
        {
          "output_type": "stream",
          "text": [
            "air_reserve.csv     date_info.csv       sample_submission.csv\r\n",
            "air_store_info.csv  hpg_reserve.csv     storage.py\r\n",
            "air_visit_data.csv  hpg_store_info.csv  store_id_relation.csv\r\n",
            "\u001b[0m\u001b[01;34mdatalab\u001b[0m/            \u001b[01;34m__pycache__\u001b[0m/\r\n"
          ],
          "name": "stdout"
        }
      ]
    },
    {
      "metadata": {
        "id": "kos9wE_lY6Ul",
        "colab_type": "code",
        "colab": {
          "base_uri": "https://localhost:8080/",
          "height": 51
        },
        "outputId": "ef611512-4436-465b-9bda-1385f06c20ff"
      },
      "cell_type": "code",
      "source": [
        "storage.sync_from_storage('recruit')"
      ],
      "execution_count": 4,
      "outputs": [
        {
          "output_type": "stream",
          "text": [
            "gsutil rsync -r gs://staging.kaggle-ky.appspot.com/recruit .\n",
            "\n"
          ],
          "name": "stdout"
        }
      ]
    },
    {
      "metadata": {
        "id": "t4lcIdZwYqyQ",
        "colab_type": "code",
        "colab": {
          "base_uri": "https://localhost:8080/",
          "height": 85
        },
        "outputId": "df3e0b85-7e1a-4aa3-e298-4d294441d2ba"
      },
      "cell_type": "code",
      "source": [
        "ls"
      ],
      "execution_count": 5,
      "outputs": [
        {
          "output_type": "stream",
          "text": [
            "air_reserve.csv     date_info.csv       sample_submission.csv\r\n",
            "air_store_info.csv  hpg_reserve.csv     storage.py\r\n",
            "air_visit_data.csv  hpg_store_info.csv  store_id_relation.csv\r\n",
            "\u001b[0m\u001b[01;34mdatalab\u001b[0m/            \u001b[01;34m__pycache__\u001b[0m/\r\n"
          ],
          "name": "stdout"
        }
      ]
    },
    {
      "metadata": {
        "id": "IG-cIZQFZJSH",
        "colab_type": "code",
        "colab": {}
      },
      "cell_type": "code",
      "source": [
        "submission = pd.read_csv('sample_submission.csv')"
      ],
      "execution_count": 0,
      "outputs": []
    },
    {
      "metadata": {
        "id": "pXeD10c-Zo4w",
        "colab_type": "code",
        "colab": {
          "base_uri": "https://localhost:8080/",
          "height": 204
        },
        "outputId": "6c54122e-d37c-4f28-c922-dd0454fa7013"
      },
      "cell_type": "code",
      "source": [
        "submission.head()"
      ],
      "execution_count": 7,
      "outputs": [
        {
          "output_type": "execute_result",
          "data": {
            "text/html": [
              "<div>\n",
              "<style scoped>\n",
              "    .dataframe tbody tr th:only-of-type {\n",
              "        vertical-align: middle;\n",
              "    }\n",
              "\n",
              "    .dataframe tbody tr th {\n",
              "        vertical-align: top;\n",
              "    }\n",
              "\n",
              "    .dataframe thead th {\n",
              "        text-align: right;\n",
              "    }\n",
              "</style>\n",
              "<table border=\"1\" class=\"dataframe\">\n",
              "  <thead>\n",
              "    <tr style=\"text-align: right;\">\n",
              "      <th></th>\n",
              "      <th>id</th>\n",
              "      <th>visitors</th>\n",
              "    </tr>\n",
              "  </thead>\n",
              "  <tbody>\n",
              "    <tr>\n",
              "      <th>0</th>\n",
              "      <td>air_00a91d42b08b08d9_2017-04-23</td>\n",
              "      <td>0</td>\n",
              "    </tr>\n",
              "    <tr>\n",
              "      <th>1</th>\n",
              "      <td>air_00a91d42b08b08d9_2017-04-24</td>\n",
              "      <td>0</td>\n",
              "    </tr>\n",
              "    <tr>\n",
              "      <th>2</th>\n",
              "      <td>air_00a91d42b08b08d9_2017-04-25</td>\n",
              "      <td>0</td>\n",
              "    </tr>\n",
              "    <tr>\n",
              "      <th>3</th>\n",
              "      <td>air_00a91d42b08b08d9_2017-04-26</td>\n",
              "      <td>0</td>\n",
              "    </tr>\n",
              "    <tr>\n",
              "      <th>4</th>\n",
              "      <td>air_00a91d42b08b08d9_2017-04-27</td>\n",
              "      <td>0</td>\n",
              "    </tr>\n",
              "  </tbody>\n",
              "</table>\n",
              "</div>"
            ],
            "text/plain": [
              "                                id  visitors\n",
              "0  air_00a91d42b08b08d9_2017-04-23         0\n",
              "1  air_00a91d42b08b08d9_2017-04-24         0\n",
              "2  air_00a91d42b08b08d9_2017-04-25         0\n",
              "3  air_00a91d42b08b08d9_2017-04-26         0\n",
              "4  air_00a91d42b08b08d9_2017-04-27         0"
            ]
          },
          "metadata": {
            "tags": []
          },
          "execution_count": 7
        }
      ]
    },
    {
      "metadata": {
        "id": "ENvQeFv4Zp6P",
        "colab_type": "code",
        "colab": {
          "base_uri": "https://localhost:8080/",
          "height": 204
        },
        "outputId": "326e8655-b2d9-4967-f125-44b2f70c094a"
      },
      "cell_type": "code",
      "source": [
        "submission.tail()"
      ],
      "execution_count": 8,
      "outputs": [
        {
          "output_type": "execute_result",
          "data": {
            "text/html": [
              "<div>\n",
              "<style scoped>\n",
              "    .dataframe tbody tr th:only-of-type {\n",
              "        vertical-align: middle;\n",
              "    }\n",
              "\n",
              "    .dataframe tbody tr th {\n",
              "        vertical-align: top;\n",
              "    }\n",
              "\n",
              "    .dataframe thead th {\n",
              "        text-align: right;\n",
              "    }\n",
              "</style>\n",
              "<table border=\"1\" class=\"dataframe\">\n",
              "  <thead>\n",
              "    <tr style=\"text-align: right;\">\n",
              "      <th></th>\n",
              "      <th>id</th>\n",
              "      <th>visitors</th>\n",
              "    </tr>\n",
              "  </thead>\n",
              "  <tbody>\n",
              "    <tr>\n",
              "      <th>32014</th>\n",
              "      <td>air_fff68b929994bfbd_2017-05-27</td>\n",
              "      <td>0</td>\n",
              "    </tr>\n",
              "    <tr>\n",
              "      <th>32015</th>\n",
              "      <td>air_fff68b929994bfbd_2017-05-28</td>\n",
              "      <td>0</td>\n",
              "    </tr>\n",
              "    <tr>\n",
              "      <th>32016</th>\n",
              "      <td>air_fff68b929994bfbd_2017-05-29</td>\n",
              "      <td>0</td>\n",
              "    </tr>\n",
              "    <tr>\n",
              "      <th>32017</th>\n",
              "      <td>air_fff68b929994bfbd_2017-05-30</td>\n",
              "      <td>0</td>\n",
              "    </tr>\n",
              "    <tr>\n",
              "      <th>32018</th>\n",
              "      <td>air_fff68b929994bfbd_2017-05-31</td>\n",
              "      <td>0</td>\n",
              "    </tr>\n",
              "  </tbody>\n",
              "</table>\n",
              "</div>"
            ],
            "text/plain": [
              "                                    id  visitors\n",
              "32014  air_fff68b929994bfbd_2017-05-27         0\n",
              "32015  air_fff68b929994bfbd_2017-05-28         0\n",
              "32016  air_fff68b929994bfbd_2017-05-29         0\n",
              "32017  air_fff68b929994bfbd_2017-05-30         0\n",
              "32018  air_fff68b929994bfbd_2017-05-31         0"
            ]
          },
          "metadata": {
            "tags": []
          },
          "execution_count": 8
        }
      ]
    },
    {
      "metadata": {
        "id": "VjEjZs8oaUlu",
        "colab_type": "code",
        "colab": {}
      },
      "cell_type": "code",
      "source": [
        "date_info = pd.read_csv('date_info.csv')"
      ],
      "execution_count": 0,
      "outputs": []
    },
    {
      "metadata": {
        "id": "GJh1v3TaaZUe",
        "colab_type": "code",
        "colab": {
          "base_uri": "https://localhost:8080/",
          "height": 204
        },
        "outputId": "2999bb3c-d22b-4c40-fdab-0bcda3d4bffa"
      },
      "cell_type": "code",
      "source": [
        "date_info.head()"
      ],
      "execution_count": 10,
      "outputs": [
        {
          "output_type": "execute_result",
          "data": {
            "text/html": [
              "<div>\n",
              "<style scoped>\n",
              "    .dataframe tbody tr th:only-of-type {\n",
              "        vertical-align: middle;\n",
              "    }\n",
              "\n",
              "    .dataframe tbody tr th {\n",
              "        vertical-align: top;\n",
              "    }\n",
              "\n",
              "    .dataframe thead th {\n",
              "        text-align: right;\n",
              "    }\n",
              "</style>\n",
              "<table border=\"1\" class=\"dataframe\">\n",
              "  <thead>\n",
              "    <tr style=\"text-align: right;\">\n",
              "      <th></th>\n",
              "      <th>calendar_date</th>\n",
              "      <th>day_of_week</th>\n",
              "      <th>holiday_flg</th>\n",
              "    </tr>\n",
              "  </thead>\n",
              "  <tbody>\n",
              "    <tr>\n",
              "      <th>0</th>\n",
              "      <td>2016-01-01</td>\n",
              "      <td>Friday</td>\n",
              "      <td>1</td>\n",
              "    </tr>\n",
              "    <tr>\n",
              "      <th>1</th>\n",
              "      <td>2016-01-02</td>\n",
              "      <td>Saturday</td>\n",
              "      <td>1</td>\n",
              "    </tr>\n",
              "    <tr>\n",
              "      <th>2</th>\n",
              "      <td>2016-01-03</td>\n",
              "      <td>Sunday</td>\n",
              "      <td>1</td>\n",
              "    </tr>\n",
              "    <tr>\n",
              "      <th>3</th>\n",
              "      <td>2016-01-04</td>\n",
              "      <td>Monday</td>\n",
              "      <td>0</td>\n",
              "    </tr>\n",
              "    <tr>\n",
              "      <th>4</th>\n",
              "      <td>2016-01-05</td>\n",
              "      <td>Tuesday</td>\n",
              "      <td>0</td>\n",
              "    </tr>\n",
              "  </tbody>\n",
              "</table>\n",
              "</div>"
            ],
            "text/plain": [
              "  calendar_date day_of_week  holiday_flg\n",
              "0    2016-01-01      Friday            1\n",
              "1    2016-01-02    Saturday            1\n",
              "2    2016-01-03      Sunday            1\n",
              "3    2016-01-04      Monday            0\n",
              "4    2016-01-05     Tuesday            0"
            ]
          },
          "metadata": {
            "tags": []
          },
          "execution_count": 10
        }
      ]
    },
    {
      "metadata": {
        "id": "iGWlhcHuaaRz",
        "colab_type": "code",
        "colab": {
          "base_uri": "https://localhost:8080/",
          "height": 204
        },
        "outputId": "726d64eb-291f-4012-969b-8bfc01bd8e75"
      },
      "cell_type": "code",
      "source": [
        "date_info.tail()"
      ],
      "execution_count": 11,
      "outputs": [
        {
          "output_type": "execute_result",
          "data": {
            "text/html": [
              "<div>\n",
              "<style scoped>\n",
              "    .dataframe tbody tr th:only-of-type {\n",
              "        vertical-align: middle;\n",
              "    }\n",
              "\n",
              "    .dataframe tbody tr th {\n",
              "        vertical-align: top;\n",
              "    }\n",
              "\n",
              "    .dataframe thead th {\n",
              "        text-align: right;\n",
              "    }\n",
              "</style>\n",
              "<table border=\"1\" class=\"dataframe\">\n",
              "  <thead>\n",
              "    <tr style=\"text-align: right;\">\n",
              "      <th></th>\n",
              "      <th>calendar_date</th>\n",
              "      <th>day_of_week</th>\n",
              "      <th>holiday_flg</th>\n",
              "    </tr>\n",
              "  </thead>\n",
              "  <tbody>\n",
              "    <tr>\n",
              "      <th>512</th>\n",
              "      <td>2017-05-27</td>\n",
              "      <td>Saturday</td>\n",
              "      <td>0</td>\n",
              "    </tr>\n",
              "    <tr>\n",
              "      <th>513</th>\n",
              "      <td>2017-05-28</td>\n",
              "      <td>Sunday</td>\n",
              "      <td>0</td>\n",
              "    </tr>\n",
              "    <tr>\n",
              "      <th>514</th>\n",
              "      <td>2017-05-29</td>\n",
              "      <td>Monday</td>\n",
              "      <td>0</td>\n",
              "    </tr>\n",
              "    <tr>\n",
              "      <th>515</th>\n",
              "      <td>2017-05-30</td>\n",
              "      <td>Tuesday</td>\n",
              "      <td>0</td>\n",
              "    </tr>\n",
              "    <tr>\n",
              "      <th>516</th>\n",
              "      <td>2017-05-31</td>\n",
              "      <td>Wednesday</td>\n",
              "      <td>0</td>\n",
              "    </tr>\n",
              "  </tbody>\n",
              "</table>\n",
              "</div>"
            ],
            "text/plain": [
              "    calendar_date day_of_week  holiday_flg\n",
              "512    2017-05-27    Saturday            0\n",
              "513    2017-05-28      Sunday            0\n",
              "514    2017-05-29      Monday            0\n",
              "515    2017-05-30     Tuesday            0\n",
              "516    2017-05-31   Wednesday            0"
            ]
          },
          "metadata": {
            "tags": []
          },
          "execution_count": 11
        }
      ]
    },
    {
      "metadata": {
        "id": "YE02wDmYahES",
        "colab_type": "code",
        "colab": {
          "base_uri": "https://localhost:8080/",
          "height": 204
        },
        "outputId": "d400fa6c-e843-47b0-8ed3-a062b30ae3d3"
      },
      "cell_type": "code",
      "source": [
        "air_reserve = pd.read_csv('air_reserve.csv')\n",
        "air_reserve.head()"
      ],
      "execution_count": 12,
      "outputs": [
        {
          "output_type": "execute_result",
          "data": {
            "text/html": [
              "<div>\n",
              "<style scoped>\n",
              "    .dataframe tbody tr th:only-of-type {\n",
              "        vertical-align: middle;\n",
              "    }\n",
              "\n",
              "    .dataframe tbody tr th {\n",
              "        vertical-align: top;\n",
              "    }\n",
              "\n",
              "    .dataframe thead th {\n",
              "        text-align: right;\n",
              "    }\n",
              "</style>\n",
              "<table border=\"1\" class=\"dataframe\">\n",
              "  <thead>\n",
              "    <tr style=\"text-align: right;\">\n",
              "      <th></th>\n",
              "      <th>air_store_id</th>\n",
              "      <th>visit_datetime</th>\n",
              "      <th>reserve_datetime</th>\n",
              "      <th>reserve_visitors</th>\n",
              "    </tr>\n",
              "  </thead>\n",
              "  <tbody>\n",
              "    <tr>\n",
              "      <th>0</th>\n",
              "      <td>air_877f79706adbfb06</td>\n",
              "      <td>2016-01-01 19:00:00</td>\n",
              "      <td>2016-01-01 16:00:00</td>\n",
              "      <td>1</td>\n",
              "    </tr>\n",
              "    <tr>\n",
              "      <th>1</th>\n",
              "      <td>air_db4b38ebe7a7ceff</td>\n",
              "      <td>2016-01-01 19:00:00</td>\n",
              "      <td>2016-01-01 19:00:00</td>\n",
              "      <td>3</td>\n",
              "    </tr>\n",
              "    <tr>\n",
              "      <th>2</th>\n",
              "      <td>air_db4b38ebe7a7ceff</td>\n",
              "      <td>2016-01-01 19:00:00</td>\n",
              "      <td>2016-01-01 19:00:00</td>\n",
              "      <td>6</td>\n",
              "    </tr>\n",
              "    <tr>\n",
              "      <th>3</th>\n",
              "      <td>air_877f79706adbfb06</td>\n",
              "      <td>2016-01-01 20:00:00</td>\n",
              "      <td>2016-01-01 16:00:00</td>\n",
              "      <td>2</td>\n",
              "    </tr>\n",
              "    <tr>\n",
              "      <th>4</th>\n",
              "      <td>air_db80363d35f10926</td>\n",
              "      <td>2016-01-01 20:00:00</td>\n",
              "      <td>2016-01-01 01:00:00</td>\n",
              "      <td>5</td>\n",
              "    </tr>\n",
              "  </tbody>\n",
              "</table>\n",
              "</div>"
            ],
            "text/plain": [
              "           air_store_id       visit_datetime     reserve_datetime  \\\n",
              "0  air_877f79706adbfb06  2016-01-01 19:00:00  2016-01-01 16:00:00   \n",
              "1  air_db4b38ebe7a7ceff  2016-01-01 19:00:00  2016-01-01 19:00:00   \n",
              "2  air_db4b38ebe7a7ceff  2016-01-01 19:00:00  2016-01-01 19:00:00   \n",
              "3  air_877f79706adbfb06  2016-01-01 20:00:00  2016-01-01 16:00:00   \n",
              "4  air_db80363d35f10926  2016-01-01 20:00:00  2016-01-01 01:00:00   \n",
              "\n",
              "   reserve_visitors  \n",
              "0                 1  \n",
              "1                 3  \n",
              "2                 6  \n",
              "3                 2  \n",
              "4                 5  "
            ]
          },
          "metadata": {
            "tags": []
          },
          "execution_count": 12
        }
      ]
    },
    {
      "metadata": {
        "id": "KIUgr3kXa5VS",
        "colab_type": "code",
        "colab": {
          "base_uri": "https://localhost:8080/",
          "height": 204
        },
        "outputId": "ac65dc13-7ec8-433f-db83-2db0d0c1b379"
      },
      "cell_type": "code",
      "source": [
        "air_reserve.tail()"
      ],
      "execution_count": 13,
      "outputs": [
        {
          "output_type": "execute_result",
          "data": {
            "text/html": [
              "<div>\n",
              "<style scoped>\n",
              "    .dataframe tbody tr th:only-of-type {\n",
              "        vertical-align: middle;\n",
              "    }\n",
              "\n",
              "    .dataframe tbody tr th {\n",
              "        vertical-align: top;\n",
              "    }\n",
              "\n",
              "    .dataframe thead th {\n",
              "        text-align: right;\n",
              "    }\n",
              "</style>\n",
              "<table border=\"1\" class=\"dataframe\">\n",
              "  <thead>\n",
              "    <tr style=\"text-align: right;\">\n",
              "      <th></th>\n",
              "      <th>air_store_id</th>\n",
              "      <th>visit_datetime</th>\n",
              "      <th>reserve_datetime</th>\n",
              "      <th>reserve_visitors</th>\n",
              "    </tr>\n",
              "  </thead>\n",
              "  <tbody>\n",
              "    <tr>\n",
              "      <th>92373</th>\n",
              "      <td>air_db4b38ebe7a7ceff</td>\n",
              "      <td>2017-05-29 18:00:00</td>\n",
              "      <td>2017-04-17 19:00:00</td>\n",
              "      <td>6</td>\n",
              "    </tr>\n",
              "    <tr>\n",
              "      <th>92374</th>\n",
              "      <td>air_1033310359ceeac1</td>\n",
              "      <td>2017-05-30 23:00:00</td>\n",
              "      <td>2017-04-19 17:00:00</td>\n",
              "      <td>8</td>\n",
              "    </tr>\n",
              "    <tr>\n",
              "      <th>92375</th>\n",
              "      <td>air_877f79706adbfb06</td>\n",
              "      <td>2017-05-31 20:00:00</td>\n",
              "      <td>2017-04-12 23:00:00</td>\n",
              "      <td>3</td>\n",
              "    </tr>\n",
              "    <tr>\n",
              "      <th>92376</th>\n",
              "      <td>air_900d755ebd2f7bbd</td>\n",
              "      <td>2017-05-31 20:00:00</td>\n",
              "      <td>2017-04-19 16:00:00</td>\n",
              "      <td>10</td>\n",
              "    </tr>\n",
              "    <tr>\n",
              "      <th>92377</th>\n",
              "      <td>air_3cad29d1a23209d2</td>\n",
              "      <td>2017-05-31 21:00:00</td>\n",
              "      <td>2017-04-22 10:00:00</td>\n",
              "      <td>3</td>\n",
              "    </tr>\n",
              "  </tbody>\n",
              "</table>\n",
              "</div>"
            ],
            "text/plain": [
              "               air_store_id       visit_datetime     reserve_datetime  \\\n",
              "92373  air_db4b38ebe7a7ceff  2017-05-29 18:00:00  2017-04-17 19:00:00   \n",
              "92374  air_1033310359ceeac1  2017-05-30 23:00:00  2017-04-19 17:00:00   \n",
              "92375  air_877f79706adbfb06  2017-05-31 20:00:00  2017-04-12 23:00:00   \n",
              "92376  air_900d755ebd2f7bbd  2017-05-31 20:00:00  2017-04-19 16:00:00   \n",
              "92377  air_3cad29d1a23209d2  2017-05-31 21:00:00  2017-04-22 10:00:00   \n",
              "\n",
              "       reserve_visitors  \n",
              "92373                 6  \n",
              "92374                 8  \n",
              "92375                 3  \n",
              "92376                10  \n",
              "92377                 3  "
            ]
          },
          "metadata": {
            "tags": []
          },
          "execution_count": 13
        }
      ]
    },
    {
      "metadata": {
        "id": "d3eUDyxta8KR",
        "colab_type": "code",
        "colab": {}
      },
      "cell_type": "code",
      "source": [
        "hpg_reserve = pd.read_csv('hpg_reserve.csv')"
      ],
      "execution_count": 0,
      "outputs": []
    },
    {
      "metadata": {
        "id": "mOxuyuGTbO9d",
        "colab_type": "code",
        "colab": {
          "base_uri": "https://localhost:8080/",
          "height": 204
        },
        "outputId": "cc9d85b4-4bf8-4cc5-ed02-d53ea6b6baa1"
      },
      "cell_type": "code",
      "source": [
        "hpg_reserve.head()"
      ],
      "execution_count": 15,
      "outputs": [
        {
          "output_type": "execute_result",
          "data": {
            "text/html": [
              "<div>\n",
              "<style scoped>\n",
              "    .dataframe tbody tr th:only-of-type {\n",
              "        vertical-align: middle;\n",
              "    }\n",
              "\n",
              "    .dataframe tbody tr th {\n",
              "        vertical-align: top;\n",
              "    }\n",
              "\n",
              "    .dataframe thead th {\n",
              "        text-align: right;\n",
              "    }\n",
              "</style>\n",
              "<table border=\"1\" class=\"dataframe\">\n",
              "  <thead>\n",
              "    <tr style=\"text-align: right;\">\n",
              "      <th></th>\n",
              "      <th>hpg_store_id</th>\n",
              "      <th>visit_datetime</th>\n",
              "      <th>reserve_datetime</th>\n",
              "      <th>reserve_visitors</th>\n",
              "    </tr>\n",
              "  </thead>\n",
              "  <tbody>\n",
              "    <tr>\n",
              "      <th>0</th>\n",
              "      <td>hpg_c63f6f42e088e50f</td>\n",
              "      <td>2016-01-01 11:00:00</td>\n",
              "      <td>2016-01-01 09:00:00</td>\n",
              "      <td>1</td>\n",
              "    </tr>\n",
              "    <tr>\n",
              "      <th>1</th>\n",
              "      <td>hpg_dac72789163a3f47</td>\n",
              "      <td>2016-01-01 13:00:00</td>\n",
              "      <td>2016-01-01 06:00:00</td>\n",
              "      <td>3</td>\n",
              "    </tr>\n",
              "    <tr>\n",
              "      <th>2</th>\n",
              "      <td>hpg_c8e24dcf51ca1eb5</td>\n",
              "      <td>2016-01-01 16:00:00</td>\n",
              "      <td>2016-01-01 14:00:00</td>\n",
              "      <td>2</td>\n",
              "    </tr>\n",
              "    <tr>\n",
              "      <th>3</th>\n",
              "      <td>hpg_24bb207e5fd49d4a</td>\n",
              "      <td>2016-01-01 17:00:00</td>\n",
              "      <td>2016-01-01 11:00:00</td>\n",
              "      <td>5</td>\n",
              "    </tr>\n",
              "    <tr>\n",
              "      <th>4</th>\n",
              "      <td>hpg_25291c542ebb3bc2</td>\n",
              "      <td>2016-01-01 17:00:00</td>\n",
              "      <td>2016-01-01 03:00:00</td>\n",
              "      <td>13</td>\n",
              "    </tr>\n",
              "  </tbody>\n",
              "</table>\n",
              "</div>"
            ],
            "text/plain": [
              "           hpg_store_id       visit_datetime     reserve_datetime  \\\n",
              "0  hpg_c63f6f42e088e50f  2016-01-01 11:00:00  2016-01-01 09:00:00   \n",
              "1  hpg_dac72789163a3f47  2016-01-01 13:00:00  2016-01-01 06:00:00   \n",
              "2  hpg_c8e24dcf51ca1eb5  2016-01-01 16:00:00  2016-01-01 14:00:00   \n",
              "3  hpg_24bb207e5fd49d4a  2016-01-01 17:00:00  2016-01-01 11:00:00   \n",
              "4  hpg_25291c542ebb3bc2  2016-01-01 17:00:00  2016-01-01 03:00:00   \n",
              "\n",
              "   reserve_visitors  \n",
              "0                 1  \n",
              "1                 3  \n",
              "2                 2  \n",
              "3                 5  \n",
              "4                13  "
            ]
          },
          "metadata": {
            "tags": []
          },
          "execution_count": 15
        }
      ]
    },
    {
      "metadata": {
        "id": "5WWuk43AbQC0",
        "colab_type": "code",
        "colab": {
          "base_uri": "https://localhost:8080/",
          "height": 204
        },
        "outputId": "8adcbc0f-b186-460f-f564-5c7d6491229a"
      },
      "cell_type": "code",
      "source": [
        "hpg_reserve.tail()"
      ],
      "execution_count": 16,
      "outputs": [
        {
          "output_type": "execute_result",
          "data": {
            "text/html": [
              "<div>\n",
              "<style scoped>\n",
              "    .dataframe tbody tr th:only-of-type {\n",
              "        vertical-align: middle;\n",
              "    }\n",
              "\n",
              "    .dataframe tbody tr th {\n",
              "        vertical-align: top;\n",
              "    }\n",
              "\n",
              "    .dataframe thead th {\n",
              "        text-align: right;\n",
              "    }\n",
              "</style>\n",
              "<table border=\"1\" class=\"dataframe\">\n",
              "  <thead>\n",
              "    <tr style=\"text-align: right;\">\n",
              "      <th></th>\n",
              "      <th>hpg_store_id</th>\n",
              "      <th>visit_datetime</th>\n",
              "      <th>reserve_datetime</th>\n",
              "      <th>reserve_visitors</th>\n",
              "    </tr>\n",
              "  </thead>\n",
              "  <tbody>\n",
              "    <tr>\n",
              "      <th>2000315</th>\n",
              "      <td>hpg_2b293477ea4642fb</td>\n",
              "      <td>2017-05-31 20:00:00</td>\n",
              "      <td>2017-04-19 07:00:00</td>\n",
              "      <td>2</td>\n",
              "    </tr>\n",
              "    <tr>\n",
              "      <th>2000316</th>\n",
              "      <td>hpg_f922aeca48ca5a29</td>\n",
              "      <td>2017-05-31 20:00:00</td>\n",
              "      <td>2017-03-19 00:00:00</td>\n",
              "      <td>3</td>\n",
              "    </tr>\n",
              "    <tr>\n",
              "      <th>2000317</th>\n",
              "      <td>hpg_e9151de687b93aa3</td>\n",
              "      <td>2017-05-31 21:00:00</td>\n",
              "      <td>2017-04-14 20:00:00</td>\n",
              "      <td>49</td>\n",
              "    </tr>\n",
              "    <tr>\n",
              "      <th>2000318</th>\n",
              "      <td>hpg_fae6c96189b4a122</td>\n",
              "      <td>2017-05-31 21:00:00</td>\n",
              "      <td>2017-04-19 17:00:00</td>\n",
              "      <td>9</td>\n",
              "    </tr>\n",
              "    <tr>\n",
              "      <th>2000319</th>\n",
              "      <td>hpg_0b70de808b55ad1e</td>\n",
              "      <td>2017-05-31 23:00:00</td>\n",
              "      <td>2017-04-21 13:00:00</td>\n",
              "      <td>6</td>\n",
              "    </tr>\n",
              "  </tbody>\n",
              "</table>\n",
              "</div>"
            ],
            "text/plain": [
              "                 hpg_store_id       visit_datetime     reserve_datetime  \\\n",
              "2000315  hpg_2b293477ea4642fb  2017-05-31 20:00:00  2017-04-19 07:00:00   \n",
              "2000316  hpg_f922aeca48ca5a29  2017-05-31 20:00:00  2017-03-19 00:00:00   \n",
              "2000317  hpg_e9151de687b93aa3  2017-05-31 21:00:00  2017-04-14 20:00:00   \n",
              "2000318  hpg_fae6c96189b4a122  2017-05-31 21:00:00  2017-04-19 17:00:00   \n",
              "2000319  hpg_0b70de808b55ad1e  2017-05-31 23:00:00  2017-04-21 13:00:00   \n",
              "\n",
              "         reserve_visitors  \n",
              "2000315                 2  \n",
              "2000316                 3  \n",
              "2000317                49  \n",
              "2000318                 9  \n",
              "2000319                 6  "
            ]
          },
          "metadata": {
            "tags": []
          },
          "execution_count": 16
        }
      ]
    },
    {
      "metadata": {
        "id": "r7TSEor5bQzs",
        "colab_type": "code",
        "colab": {}
      },
      "cell_type": "code",
      "source": [
        "store_id_relation = pd.read_csv('store_id_relation.csv')"
      ],
      "execution_count": 0,
      "outputs": []
    },
    {
      "metadata": {
        "id": "lnYZuXZ1cdAm",
        "colab_type": "code",
        "colab": {
          "base_uri": "https://localhost:8080/",
          "height": 204
        },
        "outputId": "e6ae39dc-2109-45a8-b725-8c90bd6706a2"
      },
      "cell_type": "code",
      "source": [
        "store_id_relation.head()"
      ],
      "execution_count": 18,
      "outputs": [
        {
          "output_type": "execute_result",
          "data": {
            "text/html": [
              "<div>\n",
              "<style scoped>\n",
              "    .dataframe tbody tr th:only-of-type {\n",
              "        vertical-align: middle;\n",
              "    }\n",
              "\n",
              "    .dataframe tbody tr th {\n",
              "        vertical-align: top;\n",
              "    }\n",
              "\n",
              "    .dataframe thead th {\n",
              "        text-align: right;\n",
              "    }\n",
              "</style>\n",
              "<table border=\"1\" class=\"dataframe\">\n",
              "  <thead>\n",
              "    <tr style=\"text-align: right;\">\n",
              "      <th></th>\n",
              "      <th>air_store_id</th>\n",
              "      <th>hpg_store_id</th>\n",
              "    </tr>\n",
              "  </thead>\n",
              "  <tbody>\n",
              "    <tr>\n",
              "      <th>0</th>\n",
              "      <td>air_63b13c56b7201bd9</td>\n",
              "      <td>hpg_4bc649e72e2a239a</td>\n",
              "    </tr>\n",
              "    <tr>\n",
              "      <th>1</th>\n",
              "      <td>air_a24bf50c3e90d583</td>\n",
              "      <td>hpg_c34b496d0305a809</td>\n",
              "    </tr>\n",
              "    <tr>\n",
              "      <th>2</th>\n",
              "      <td>air_c7f78b4f3cba33ff</td>\n",
              "      <td>hpg_cd8ae0d9bbd58ff9</td>\n",
              "    </tr>\n",
              "    <tr>\n",
              "      <th>3</th>\n",
              "      <td>air_947eb2cae4f3e8f2</td>\n",
              "      <td>hpg_de24ea49dc25d6b8</td>\n",
              "    </tr>\n",
              "    <tr>\n",
              "      <th>4</th>\n",
              "      <td>air_965b2e0cf4119003</td>\n",
              "      <td>hpg_653238a84804d8e7</td>\n",
              "    </tr>\n",
              "  </tbody>\n",
              "</table>\n",
              "</div>"
            ],
            "text/plain": [
              "           air_store_id          hpg_store_id\n",
              "0  air_63b13c56b7201bd9  hpg_4bc649e72e2a239a\n",
              "1  air_a24bf50c3e90d583  hpg_c34b496d0305a809\n",
              "2  air_c7f78b4f3cba33ff  hpg_cd8ae0d9bbd58ff9\n",
              "3  air_947eb2cae4f3e8f2  hpg_de24ea49dc25d6b8\n",
              "4  air_965b2e0cf4119003  hpg_653238a84804d8e7"
            ]
          },
          "metadata": {
            "tags": []
          },
          "execution_count": 18
        }
      ]
    },
    {
      "metadata": {
        "id": "q0sIBH5Ncd7e",
        "colab_type": "code",
        "colab": {
          "base_uri": "https://localhost:8080/",
          "height": 34
        },
        "outputId": "70bc9f00-6fce-4233-fcff-67054e768cb4"
      },
      "cell_type": "code",
      "source": [
        "store_id_relation.shape"
      ],
      "execution_count": 19,
      "outputs": [
        {
          "output_type": "execute_result",
          "data": {
            "text/plain": [
              "(150, 2)"
            ]
          },
          "metadata": {
            "tags": []
          },
          "execution_count": 19
        }
      ]
    },
    {
      "metadata": {
        "id": "5M7DJaNecebR",
        "colab_type": "code",
        "colab": {}
      },
      "cell_type": "code",
      "source": [
        "air_visit_data = pd.read_csv('air_visit_data.csv')"
      ],
      "execution_count": 0,
      "outputs": []
    },
    {
      "metadata": {
        "id": "CnoQF67Ic3hw",
        "colab_type": "code",
        "colab": {
          "base_uri": "https://localhost:8080/",
          "height": 204
        },
        "outputId": "ef56f59c-a925-4a17-c553-97402ccfa6dc"
      },
      "cell_type": "code",
      "source": [
        "air_visit_data.head()"
      ],
      "execution_count": 21,
      "outputs": [
        {
          "output_type": "execute_result",
          "data": {
            "text/html": [
              "<div>\n",
              "<style scoped>\n",
              "    .dataframe tbody tr th:only-of-type {\n",
              "        vertical-align: middle;\n",
              "    }\n",
              "\n",
              "    .dataframe tbody tr th {\n",
              "        vertical-align: top;\n",
              "    }\n",
              "\n",
              "    .dataframe thead th {\n",
              "        text-align: right;\n",
              "    }\n",
              "</style>\n",
              "<table border=\"1\" class=\"dataframe\">\n",
              "  <thead>\n",
              "    <tr style=\"text-align: right;\">\n",
              "      <th></th>\n",
              "      <th>air_store_id</th>\n",
              "      <th>visit_date</th>\n",
              "      <th>visitors</th>\n",
              "    </tr>\n",
              "  </thead>\n",
              "  <tbody>\n",
              "    <tr>\n",
              "      <th>0</th>\n",
              "      <td>air_ba937bf13d40fb24</td>\n",
              "      <td>2016-01-13</td>\n",
              "      <td>25</td>\n",
              "    </tr>\n",
              "    <tr>\n",
              "      <th>1</th>\n",
              "      <td>air_ba937bf13d40fb24</td>\n",
              "      <td>2016-01-14</td>\n",
              "      <td>32</td>\n",
              "    </tr>\n",
              "    <tr>\n",
              "      <th>2</th>\n",
              "      <td>air_ba937bf13d40fb24</td>\n",
              "      <td>2016-01-15</td>\n",
              "      <td>29</td>\n",
              "    </tr>\n",
              "    <tr>\n",
              "      <th>3</th>\n",
              "      <td>air_ba937bf13d40fb24</td>\n",
              "      <td>2016-01-16</td>\n",
              "      <td>22</td>\n",
              "    </tr>\n",
              "    <tr>\n",
              "      <th>4</th>\n",
              "      <td>air_ba937bf13d40fb24</td>\n",
              "      <td>2016-01-18</td>\n",
              "      <td>6</td>\n",
              "    </tr>\n",
              "  </tbody>\n",
              "</table>\n",
              "</div>"
            ],
            "text/plain": [
              "           air_store_id  visit_date  visitors\n",
              "0  air_ba937bf13d40fb24  2016-01-13        25\n",
              "1  air_ba937bf13d40fb24  2016-01-14        32\n",
              "2  air_ba937bf13d40fb24  2016-01-15        29\n",
              "3  air_ba937bf13d40fb24  2016-01-16        22\n",
              "4  air_ba937bf13d40fb24  2016-01-18         6"
            ]
          },
          "metadata": {
            "tags": []
          },
          "execution_count": 21
        }
      ]
    },
    {
      "metadata": {
        "id": "Dw3ZpdyFc4eq",
        "colab_type": "code",
        "colab": {
          "base_uri": "https://localhost:8080/",
          "height": 204
        },
        "outputId": "08b09ab9-7744-4fa9-ba14-0d5323d1c79b"
      },
      "cell_type": "code",
      "source": [
        "air_visit_data.tail()"
      ],
      "execution_count": 22,
      "outputs": [
        {
          "output_type": "execute_result",
          "data": {
            "text/html": [
              "<div>\n",
              "<style scoped>\n",
              "    .dataframe tbody tr th:only-of-type {\n",
              "        vertical-align: middle;\n",
              "    }\n",
              "\n",
              "    .dataframe tbody tr th {\n",
              "        vertical-align: top;\n",
              "    }\n",
              "\n",
              "    .dataframe thead th {\n",
              "        text-align: right;\n",
              "    }\n",
              "</style>\n",
              "<table border=\"1\" class=\"dataframe\">\n",
              "  <thead>\n",
              "    <tr style=\"text-align: right;\">\n",
              "      <th></th>\n",
              "      <th>air_store_id</th>\n",
              "      <th>visit_date</th>\n",
              "      <th>visitors</th>\n",
              "    </tr>\n",
              "  </thead>\n",
              "  <tbody>\n",
              "    <tr>\n",
              "      <th>252103</th>\n",
              "      <td>air_24e8414b9b07decb</td>\n",
              "      <td>2017-04-18</td>\n",
              "      <td>6</td>\n",
              "    </tr>\n",
              "    <tr>\n",
              "      <th>252104</th>\n",
              "      <td>air_24e8414b9b07decb</td>\n",
              "      <td>2017-04-19</td>\n",
              "      <td>6</td>\n",
              "    </tr>\n",
              "    <tr>\n",
              "      <th>252105</th>\n",
              "      <td>air_24e8414b9b07decb</td>\n",
              "      <td>2017-04-20</td>\n",
              "      <td>7</td>\n",
              "    </tr>\n",
              "    <tr>\n",
              "      <th>252106</th>\n",
              "      <td>air_24e8414b9b07decb</td>\n",
              "      <td>2017-04-21</td>\n",
              "      <td>8</td>\n",
              "    </tr>\n",
              "    <tr>\n",
              "      <th>252107</th>\n",
              "      <td>air_24e8414b9b07decb</td>\n",
              "      <td>2017-04-22</td>\n",
              "      <td>5</td>\n",
              "    </tr>\n",
              "  </tbody>\n",
              "</table>\n",
              "</div>"
            ],
            "text/plain": [
              "                air_store_id  visit_date  visitors\n",
              "252103  air_24e8414b9b07decb  2017-04-18         6\n",
              "252104  air_24e8414b9b07decb  2017-04-19         6\n",
              "252105  air_24e8414b9b07decb  2017-04-20         7\n",
              "252106  air_24e8414b9b07decb  2017-04-21         8\n",
              "252107  air_24e8414b9b07decb  2017-04-22         5"
            ]
          },
          "metadata": {
            "tags": []
          },
          "execution_count": 22
        }
      ]
    },
    {
      "metadata": {
        "id": "FA5EXBB2c5r-",
        "colab_type": "code",
        "colab": {
          "base_uri": "https://localhost:8080/",
          "height": 221
        },
        "outputId": "1ec2a28b-a21b-4e3b-f183-99c10b9b7382"
      },
      "cell_type": "code",
      "source": [
        "dates = pd.DataFrame(np.unique(air_visit_data['visit_date']))\n",
        "print(dates.head())\n",
        "print(dates.tail())"
      ],
      "execution_count": 23,
      "outputs": [
        {
          "output_type": "stream",
          "text": [
            "            0\n",
            "0  2016-01-01\n",
            "1  2016-01-02\n",
            "2  2016-01-03\n",
            "3  2016-01-04\n",
            "4  2016-01-05\n",
            "              0\n",
            "473  2017-04-18\n",
            "474  2017-04-19\n",
            "475  2017-04-20\n",
            "476  2017-04-21\n",
            "477  2017-04-22\n"
          ],
          "name": "stdout"
        }
      ]
    },
    {
      "metadata": {
        "id": "CfJNebhldNHm",
        "colab_type": "code",
        "colab": {}
      },
      "cell_type": "code",
      "source": [
        "air_store_info = pd.read_csv('air_store_info.csv')"
      ],
      "execution_count": 0,
      "outputs": []
    },
    {
      "metadata": {
        "id": "LE_6UBbKfHjl",
        "colab_type": "code",
        "colab": {
          "base_uri": "https://localhost:8080/",
          "height": 204
        },
        "outputId": "fd795386-d998-48b9-ba51-fbb3d7d0c1d4"
      },
      "cell_type": "code",
      "source": [
        "air_store_info.head()"
      ],
      "execution_count": 25,
      "outputs": [
        {
          "output_type": "execute_result",
          "data": {
            "text/html": [
              "<div>\n",
              "<style scoped>\n",
              "    .dataframe tbody tr th:only-of-type {\n",
              "        vertical-align: middle;\n",
              "    }\n",
              "\n",
              "    .dataframe tbody tr th {\n",
              "        vertical-align: top;\n",
              "    }\n",
              "\n",
              "    .dataframe thead th {\n",
              "        text-align: right;\n",
              "    }\n",
              "</style>\n",
              "<table border=\"1\" class=\"dataframe\">\n",
              "  <thead>\n",
              "    <tr style=\"text-align: right;\">\n",
              "      <th></th>\n",
              "      <th>air_store_id</th>\n",
              "      <th>air_genre_name</th>\n",
              "      <th>air_area_name</th>\n",
              "      <th>latitude</th>\n",
              "      <th>longitude</th>\n",
              "    </tr>\n",
              "  </thead>\n",
              "  <tbody>\n",
              "    <tr>\n",
              "      <th>0</th>\n",
              "      <td>air_0f0cdeee6c9bf3d7</td>\n",
              "      <td>Italian/French</td>\n",
              "      <td>Hyōgo-ken Kōbe-shi Kumoidōri</td>\n",
              "      <td>34.695124</td>\n",
              "      <td>135.197852</td>\n",
              "    </tr>\n",
              "    <tr>\n",
              "      <th>1</th>\n",
              "      <td>air_7cc17a324ae5c7dc</td>\n",
              "      <td>Italian/French</td>\n",
              "      <td>Hyōgo-ken Kōbe-shi Kumoidōri</td>\n",
              "      <td>34.695124</td>\n",
              "      <td>135.197852</td>\n",
              "    </tr>\n",
              "    <tr>\n",
              "      <th>2</th>\n",
              "      <td>air_fee8dcf4d619598e</td>\n",
              "      <td>Italian/French</td>\n",
              "      <td>Hyōgo-ken Kōbe-shi Kumoidōri</td>\n",
              "      <td>34.695124</td>\n",
              "      <td>135.197852</td>\n",
              "    </tr>\n",
              "    <tr>\n",
              "      <th>3</th>\n",
              "      <td>air_a17f0778617c76e2</td>\n",
              "      <td>Italian/French</td>\n",
              "      <td>Hyōgo-ken Kōbe-shi Kumoidōri</td>\n",
              "      <td>34.695124</td>\n",
              "      <td>135.197852</td>\n",
              "    </tr>\n",
              "    <tr>\n",
              "      <th>4</th>\n",
              "      <td>air_83db5aff8f50478e</td>\n",
              "      <td>Italian/French</td>\n",
              "      <td>Tōkyō-to Minato-ku Shibakōen</td>\n",
              "      <td>35.658068</td>\n",
              "      <td>139.751599</td>\n",
              "    </tr>\n",
              "  </tbody>\n",
              "</table>\n",
              "</div>"
            ],
            "text/plain": [
              "           air_store_id  air_genre_name                 air_area_name  \\\n",
              "0  air_0f0cdeee6c9bf3d7  Italian/French  Hyōgo-ken Kōbe-shi Kumoidōri   \n",
              "1  air_7cc17a324ae5c7dc  Italian/French  Hyōgo-ken Kōbe-shi Kumoidōri   \n",
              "2  air_fee8dcf4d619598e  Italian/French  Hyōgo-ken Kōbe-shi Kumoidōri   \n",
              "3  air_a17f0778617c76e2  Italian/French  Hyōgo-ken Kōbe-shi Kumoidōri   \n",
              "4  air_83db5aff8f50478e  Italian/French  Tōkyō-to Minato-ku Shibakōen   \n",
              "\n",
              "    latitude   longitude  \n",
              "0  34.695124  135.197852  \n",
              "1  34.695124  135.197852  \n",
              "2  34.695124  135.197852  \n",
              "3  34.695124  135.197852  \n",
              "4  35.658068  139.751599  "
            ]
          },
          "metadata": {
            "tags": []
          },
          "execution_count": 25
        }
      ]
    },
    {
      "metadata": {
        "id": "Ps_dAt6gfIMc",
        "colab_type": "code",
        "colab": {
          "base_uri": "https://localhost:8080/",
          "height": 204
        },
        "outputId": "b2021846-4c71-4e9f-b37d-07032a55829b"
      },
      "cell_type": "code",
      "source": [
        "air_store_info.tail()"
      ],
      "execution_count": 26,
      "outputs": [
        {
          "output_type": "execute_result",
          "data": {
            "text/html": [
              "<div>\n",
              "<style scoped>\n",
              "    .dataframe tbody tr th:only-of-type {\n",
              "        vertical-align: middle;\n",
              "    }\n",
              "\n",
              "    .dataframe tbody tr th {\n",
              "        vertical-align: top;\n",
              "    }\n",
              "\n",
              "    .dataframe thead th {\n",
              "        text-align: right;\n",
              "    }\n",
              "</style>\n",
              "<table border=\"1\" class=\"dataframe\">\n",
              "  <thead>\n",
              "    <tr style=\"text-align: right;\">\n",
              "      <th></th>\n",
              "      <th>air_store_id</th>\n",
              "      <th>air_genre_name</th>\n",
              "      <th>air_area_name</th>\n",
              "      <th>latitude</th>\n",
              "      <th>longitude</th>\n",
              "    </tr>\n",
              "  </thead>\n",
              "  <tbody>\n",
              "    <tr>\n",
              "      <th>824</th>\n",
              "      <td>air_9bf595ef095572fb</td>\n",
              "      <td>International cuisine</td>\n",
              "      <td>Tōkyō-to Shibuya-ku Shibuya</td>\n",
              "      <td>35.661777</td>\n",
              "      <td>139.704051</td>\n",
              "    </tr>\n",
              "    <tr>\n",
              "      <th>825</th>\n",
              "      <td>air_764f71040a413d4d</td>\n",
              "      <td>Asian</td>\n",
              "      <td>Tōkyō-to Shibuya-ku Shibuya</td>\n",
              "      <td>35.661777</td>\n",
              "      <td>139.704051</td>\n",
              "    </tr>\n",
              "    <tr>\n",
              "      <th>826</th>\n",
              "      <td>air_10bbe8acd943d8f6</td>\n",
              "      <td>Asian</td>\n",
              "      <td>Tōkyō-to Shibuya-ku Shibuya</td>\n",
              "      <td>35.661777</td>\n",
              "      <td>139.704051</td>\n",
              "    </tr>\n",
              "    <tr>\n",
              "      <th>827</th>\n",
              "      <td>air_7514d90009613cd6</td>\n",
              "      <td>Karaoke/Party</td>\n",
              "      <td>Hokkaidō Sapporo-shi Minami 3 Jōnishi</td>\n",
              "      <td>43.055460</td>\n",
              "      <td>141.340956</td>\n",
              "    </tr>\n",
              "    <tr>\n",
              "      <th>828</th>\n",
              "      <td>air_c8fe396d6c46275d</td>\n",
              "      <td>Karaoke/Party</td>\n",
              "      <td>Hokkaidō Sapporo-shi Minami 3 Jōnishi</td>\n",
              "      <td>43.055460</td>\n",
              "      <td>141.340956</td>\n",
              "    </tr>\n",
              "  </tbody>\n",
              "</table>\n",
              "</div>"
            ],
            "text/plain": [
              "             air_store_id         air_genre_name  \\\n",
              "824  air_9bf595ef095572fb  International cuisine   \n",
              "825  air_764f71040a413d4d                  Asian   \n",
              "826  air_10bbe8acd943d8f6                  Asian   \n",
              "827  air_7514d90009613cd6          Karaoke/Party   \n",
              "828  air_c8fe396d6c46275d          Karaoke/Party   \n",
              "\n",
              "                             air_area_name   latitude   longitude  \n",
              "824            Tōkyō-to Shibuya-ku Shibuya  35.661777  139.704051  \n",
              "825            Tōkyō-to Shibuya-ku Shibuya  35.661777  139.704051  \n",
              "826            Tōkyō-to Shibuya-ku Shibuya  35.661777  139.704051  \n",
              "827  Hokkaidō Sapporo-shi Minami 3 Jōnishi  43.055460  141.340956  \n",
              "828  Hokkaidō Sapporo-shi Minami 3 Jōnishi  43.055460  141.340956  "
            ]
          },
          "metadata": {
            "tags": []
          },
          "execution_count": 26
        }
      ]
    },
    {
      "metadata": {
        "id": "-sFHUcF1lSgx",
        "colab_type": "code",
        "colab": {
          "base_uri": "https://localhost:8080/",
          "height": 34
        },
        "outputId": "288fff74-071b-44df-8fa8-c77b294fe3d8"
      },
      "cell_type": "code",
      "source": [
        "air_store_info.shape"
      ],
      "execution_count": 27,
      "outputs": [
        {
          "output_type": "execute_result",
          "data": {
            "text/plain": [
              "(829, 5)"
            ]
          },
          "metadata": {
            "tags": []
          },
          "execution_count": 27
        }
      ]
    },
    {
      "metadata": {
        "id": "B9kH6gfsfJJw",
        "colab_type": "code",
        "colab": {}
      },
      "cell_type": "code",
      "source": [
        "hpg_store_info = pd.read_csv('hpg_store_info.csv')"
      ],
      "execution_count": 0,
      "outputs": []
    },
    {
      "metadata": {
        "id": "CM5v0hBNg6Do",
        "colab_type": "code",
        "colab": {
          "base_uri": "https://localhost:8080/",
          "height": 204
        },
        "outputId": "8bddf429-9310-4f10-f428-a44d316d0665"
      },
      "cell_type": "code",
      "source": [
        "hpg_store_info.head()"
      ],
      "execution_count": 29,
      "outputs": [
        {
          "output_type": "execute_result",
          "data": {
            "text/html": [
              "<div>\n",
              "<style scoped>\n",
              "    .dataframe tbody tr th:only-of-type {\n",
              "        vertical-align: middle;\n",
              "    }\n",
              "\n",
              "    .dataframe tbody tr th {\n",
              "        vertical-align: top;\n",
              "    }\n",
              "\n",
              "    .dataframe thead th {\n",
              "        text-align: right;\n",
              "    }\n",
              "</style>\n",
              "<table border=\"1\" class=\"dataframe\">\n",
              "  <thead>\n",
              "    <tr style=\"text-align: right;\">\n",
              "      <th></th>\n",
              "      <th>hpg_store_id</th>\n",
              "      <th>hpg_genre_name</th>\n",
              "      <th>hpg_area_name</th>\n",
              "      <th>latitude</th>\n",
              "      <th>longitude</th>\n",
              "    </tr>\n",
              "  </thead>\n",
              "  <tbody>\n",
              "    <tr>\n",
              "      <th>0</th>\n",
              "      <td>hpg_6622b62385aec8bf</td>\n",
              "      <td>Japanese style</td>\n",
              "      <td>Tōkyō-to Setagaya-ku Taishidō</td>\n",
              "      <td>35.643675</td>\n",
              "      <td>139.668221</td>\n",
              "    </tr>\n",
              "    <tr>\n",
              "      <th>1</th>\n",
              "      <td>hpg_e9e068dd49c5fa00</td>\n",
              "      <td>Japanese style</td>\n",
              "      <td>Tōkyō-to Setagaya-ku Taishidō</td>\n",
              "      <td>35.643675</td>\n",
              "      <td>139.668221</td>\n",
              "    </tr>\n",
              "    <tr>\n",
              "      <th>2</th>\n",
              "      <td>hpg_2976f7acb4b3a3bc</td>\n",
              "      <td>Japanese style</td>\n",
              "      <td>Tōkyō-to Setagaya-ku Taishidō</td>\n",
              "      <td>35.643675</td>\n",
              "      <td>139.668221</td>\n",
              "    </tr>\n",
              "    <tr>\n",
              "      <th>3</th>\n",
              "      <td>hpg_e51a522e098f024c</td>\n",
              "      <td>Japanese style</td>\n",
              "      <td>Tōkyō-to Setagaya-ku Taishidō</td>\n",
              "      <td>35.643675</td>\n",
              "      <td>139.668221</td>\n",
              "    </tr>\n",
              "    <tr>\n",
              "      <th>4</th>\n",
              "      <td>hpg_e3d0e1519894f275</td>\n",
              "      <td>Japanese style</td>\n",
              "      <td>Tōkyō-to Setagaya-ku Taishidō</td>\n",
              "      <td>35.643675</td>\n",
              "      <td>139.668221</td>\n",
              "    </tr>\n",
              "  </tbody>\n",
              "</table>\n",
              "</div>"
            ],
            "text/plain": [
              "           hpg_store_id  hpg_genre_name                  hpg_area_name  \\\n",
              "0  hpg_6622b62385aec8bf  Japanese style  Tōkyō-to Setagaya-ku Taishidō   \n",
              "1  hpg_e9e068dd49c5fa00  Japanese style  Tōkyō-to Setagaya-ku Taishidō   \n",
              "2  hpg_2976f7acb4b3a3bc  Japanese style  Tōkyō-to Setagaya-ku Taishidō   \n",
              "3  hpg_e51a522e098f024c  Japanese style  Tōkyō-to Setagaya-ku Taishidō   \n",
              "4  hpg_e3d0e1519894f275  Japanese style  Tōkyō-to Setagaya-ku Taishidō   \n",
              "\n",
              "    latitude   longitude  \n",
              "0  35.643675  139.668221  \n",
              "1  35.643675  139.668221  \n",
              "2  35.643675  139.668221  \n",
              "3  35.643675  139.668221  \n",
              "4  35.643675  139.668221  "
            ]
          },
          "metadata": {
            "tags": []
          },
          "execution_count": 29
        }
      ]
    },
    {
      "metadata": {
        "id": "G5rNCPKeg6zY",
        "colab_type": "code",
        "colab": {
          "base_uri": "https://localhost:8080/",
          "height": 204
        },
        "outputId": "df186a4c-488c-4ac5-a297-99d44f9641eb"
      },
      "cell_type": "code",
      "source": [
        "hpg_store_info.tail()"
      ],
      "execution_count": 30,
      "outputs": [
        {
          "output_type": "execute_result",
          "data": {
            "text/html": [
              "<div>\n",
              "<style scoped>\n",
              "    .dataframe tbody tr th:only-of-type {\n",
              "        vertical-align: middle;\n",
              "    }\n",
              "\n",
              "    .dataframe tbody tr th {\n",
              "        vertical-align: top;\n",
              "    }\n",
              "\n",
              "    .dataframe thead th {\n",
              "        text-align: right;\n",
              "    }\n",
              "</style>\n",
              "<table border=\"1\" class=\"dataframe\">\n",
              "  <thead>\n",
              "    <tr style=\"text-align: right;\">\n",
              "      <th></th>\n",
              "      <th>hpg_store_id</th>\n",
              "      <th>hpg_genre_name</th>\n",
              "      <th>hpg_area_name</th>\n",
              "      <th>latitude</th>\n",
              "      <th>longitude</th>\n",
              "    </tr>\n",
              "  </thead>\n",
              "  <tbody>\n",
              "    <tr>\n",
              "      <th>4685</th>\n",
              "      <td>hpg_c6ed353a48c7c93e</td>\n",
              "      <td>Sichuan food</td>\n",
              "      <td>Tōkyō-to Chiyoda-ku None</td>\n",
              "      <td>35.695780</td>\n",
              "      <td>139.768453</td>\n",
              "    </tr>\n",
              "    <tr>\n",
              "      <th>4686</th>\n",
              "      <td>hpg_a58d2423360b2fb4</td>\n",
              "      <td>Sichuan food</td>\n",
              "      <td>Tōkyō-to Minato-ku Roppongi</td>\n",
              "      <td>35.666137</td>\n",
              "      <td>139.733978</td>\n",
              "    </tr>\n",
              "    <tr>\n",
              "      <th>4687</th>\n",
              "      <td>hpg_d2021704076cdd70</td>\n",
              "      <td>Shanghai food</td>\n",
              "      <td>Tōkyō-to Chiyoda-ku None</td>\n",
              "      <td>35.695780</td>\n",
              "      <td>139.768453</td>\n",
              "    </tr>\n",
              "    <tr>\n",
              "      <th>4688</th>\n",
              "      <td>hpg_602472570d65e219</td>\n",
              "      <td>Spain/Mediterranean cuisine</td>\n",
              "      <td>Tōkyō-to Toshima-ku None</td>\n",
              "      <td>35.730068</td>\n",
              "      <td>139.711742</td>\n",
              "    </tr>\n",
              "    <tr>\n",
              "      <th>4689</th>\n",
              "      <td>hpg_11801306ce8bfb4f</td>\n",
              "      <td>Udon/Soba</td>\n",
              "      <td>Osaka Prefecture Osaka None</td>\n",
              "      <td>34.701519</td>\n",
              "      <td>135.498859</td>\n",
              "    </tr>\n",
              "  </tbody>\n",
              "</table>\n",
              "</div>"
            ],
            "text/plain": [
              "              hpg_store_id               hpg_genre_name  \\\n",
              "4685  hpg_c6ed353a48c7c93e                 Sichuan food   \n",
              "4686  hpg_a58d2423360b2fb4                 Sichuan food   \n",
              "4687  hpg_d2021704076cdd70                Shanghai food   \n",
              "4688  hpg_602472570d65e219  Spain/Mediterranean cuisine   \n",
              "4689  hpg_11801306ce8bfb4f                    Udon/Soba   \n",
              "\n",
              "                    hpg_area_name   latitude   longitude  \n",
              "4685     Tōkyō-to Chiyoda-ku None  35.695780  139.768453  \n",
              "4686  Tōkyō-to Minato-ku Roppongi  35.666137  139.733978  \n",
              "4687     Tōkyō-to Chiyoda-ku None  35.695780  139.768453  \n",
              "4688     Tōkyō-to Toshima-ku None  35.730068  139.711742  \n",
              "4689  Osaka Prefecture Osaka None  34.701519  135.498859  "
            ]
          },
          "metadata": {
            "tags": []
          },
          "execution_count": 30
        }
      ]
    },
    {
      "metadata": {
        "id": "w95I-KYdg8X3",
        "colab_type": "text"
      },
      "cell_type": "markdown",
      "source": [
        "hpg_store_id多くない…？\n",
        "よく見たらair_store_idも828あるわ。\n",
        "そういうことか。air_storeの828が正だけど、hpg_storeにも入ってるのはそのうち150店だけで、\n",
        "予測と関係ない店も4500件くらい入ってるわけね…。"
      ]
    },
    {
      "metadata": {
        "id": "SU9pEHTQiEy8",
        "colab_type": "text"
      },
      "cell_type": "markdown",
      "source": [
        "とりあえずどんな特徴でやるか。  \n",
        "- air_store_id\n",
        "- 休日の何日前か(休日なら0)\n",
        "- 前日のvisitor数\n",
        "- 前回の休日のvisitor数\n",
        "- 前回の平日のvisitor数\n",
        "\n",
        "よく見たらholiday_flgは祝日だけ1なんやな"
      ]
    },
    {
      "metadata": {
        "id": "Bjhf5b_molPo",
        "colab_type": "code",
        "colab": {
          "base_uri": "https://localhost:8080/",
          "height": 204
        },
        "outputId": "4c6cf8b4-dbbb-4cbf-dd26-99fccd83ad49"
      },
      "cell_type": "code",
      "source": [
        "date_info = pd.read_csv('date_info.csv')\n",
        "date_info.head()"
      ],
      "execution_count": 31,
      "outputs": [
        {
          "output_type": "execute_result",
          "data": {
            "text/html": [
              "<div>\n",
              "<style scoped>\n",
              "    .dataframe tbody tr th:only-of-type {\n",
              "        vertical-align: middle;\n",
              "    }\n",
              "\n",
              "    .dataframe tbody tr th {\n",
              "        vertical-align: top;\n",
              "    }\n",
              "\n",
              "    .dataframe thead th {\n",
              "        text-align: right;\n",
              "    }\n",
              "</style>\n",
              "<table border=\"1\" class=\"dataframe\">\n",
              "  <thead>\n",
              "    <tr style=\"text-align: right;\">\n",
              "      <th></th>\n",
              "      <th>calendar_date</th>\n",
              "      <th>day_of_week</th>\n",
              "      <th>holiday_flg</th>\n",
              "    </tr>\n",
              "  </thead>\n",
              "  <tbody>\n",
              "    <tr>\n",
              "      <th>0</th>\n",
              "      <td>2016-01-01</td>\n",
              "      <td>Friday</td>\n",
              "      <td>1</td>\n",
              "    </tr>\n",
              "    <tr>\n",
              "      <th>1</th>\n",
              "      <td>2016-01-02</td>\n",
              "      <td>Saturday</td>\n",
              "      <td>1</td>\n",
              "    </tr>\n",
              "    <tr>\n",
              "      <th>2</th>\n",
              "      <td>2016-01-03</td>\n",
              "      <td>Sunday</td>\n",
              "      <td>1</td>\n",
              "    </tr>\n",
              "    <tr>\n",
              "      <th>3</th>\n",
              "      <td>2016-01-04</td>\n",
              "      <td>Monday</td>\n",
              "      <td>0</td>\n",
              "    </tr>\n",
              "    <tr>\n",
              "      <th>4</th>\n",
              "      <td>2016-01-05</td>\n",
              "      <td>Tuesday</td>\n",
              "      <td>0</td>\n",
              "    </tr>\n",
              "  </tbody>\n",
              "</table>\n",
              "</div>"
            ],
            "text/plain": [
              "  calendar_date day_of_week  holiday_flg\n",
              "0    2016-01-01      Friday            1\n",
              "1    2016-01-02    Saturday            1\n",
              "2    2016-01-03      Sunday            1\n",
              "3    2016-01-04      Monday            0\n",
              "4    2016-01-05     Tuesday            0"
            ]
          },
          "metadata": {
            "tags": []
          },
          "execution_count": 31
        }
      ]
    },
    {
      "metadata": {
        "id": "OWkUioWYsAqd",
        "colab_type": "code",
        "colab": {}
      },
      "cell_type": "code",
      "source": [
        "_df = pd.DataFrame({\n",
        "    'calendar_date': ['2017-06-01', '2017-06-02', '2017-06-03', '2017-06-04', '2017-06-05', '2017-06-06', '2017-06-07'],\n",
        "    'day_of_week': ['Tuesday', 'Wednesday', 'Thursday', 'Friday', 'Saturday', 'Sunday', 'Monday'],\n",
        "    'holiday_flg': [0, 0, 0, 0, 1, 1, 0],\n",
        "})\n",
        "date_info = pd.concat([date_info, _df]).reset_index(drop=True)"
      ],
      "execution_count": 0,
      "outputs": []
    },
    {
      "metadata": {
        "id": "WK7zIXQ4ybJJ",
        "colab_type": "code",
        "colab": {}
      },
      "cell_type": "code",
      "source": [
        "saturday = date_info['day_of_week'] == 'Saturday'\n",
        "sunday = date_info['day_of_week'] == 'Sunday'\n",
        "date_info.loc[saturday | sunday, 'holiday_flg'] = 1"
      ],
      "execution_count": 0,
      "outputs": []
    },
    {
      "metadata": {
        "id": "SKGO2mk0o7Jt",
        "colab_type": "code",
        "colab": {}
      },
      "cell_type": "code",
      "source": [
        "for i in range(7):\n",
        "  key = f'{i}_days_to_holiday'\n",
        "  date_info[key] = date_info['holiday_flg'][i:].reset_index(drop=True).astype('bool')\n",
        "  date_info[key] = date_info[key].astype('bool')"
      ],
      "execution_count": 0,
      "outputs": []
    },
    {
      "metadata": {
        "id": "s_htsno_lyKs",
        "colab_type": "code",
        "colab": {
          "base_uri": "https://localhost:8080/",
          "height": 221
        },
        "outputId": "947ba4eb-d4a5-42c5-8288-7acc5482f7ef"
      },
      "cell_type": "code",
      "source": [
        "print(date_info.shape)\n",
        "date_info.dtypes"
      ],
      "execution_count": 35,
      "outputs": [
        {
          "output_type": "stream",
          "text": [
            "(524, 10)\n"
          ],
          "name": "stdout"
        },
        {
          "output_type": "execute_result",
          "data": {
            "text/plain": [
              "calendar_date        object\n",
              "day_of_week          object\n",
              "holiday_flg           int64\n",
              "0_days_to_holiday      bool\n",
              "1_days_to_holiday      bool\n",
              "2_days_to_holiday      bool\n",
              "3_days_to_holiday      bool\n",
              "4_days_to_holiday      bool\n",
              "5_days_to_holiday      bool\n",
              "6_days_to_holiday      bool\n",
              "dtype: object"
            ]
          },
          "metadata": {
            "tags": []
          },
          "execution_count": 35
        }
      ]
    },
    {
      "metadata": {
        "id": "vbzhpPzwpP1C",
        "colab_type": "code",
        "colab": {
          "base_uri": "https://localhost:8080/",
          "height": 359
        },
        "outputId": "b83df10a-5b71-4909-c57f-fdb7822ab96b"
      },
      "cell_type": "code",
      "source": [
        "date_info.head(10)"
      ],
      "execution_count": 36,
      "outputs": [
        {
          "output_type": "execute_result",
          "data": {
            "text/html": [
              "<div>\n",
              "<style scoped>\n",
              "    .dataframe tbody tr th:only-of-type {\n",
              "        vertical-align: middle;\n",
              "    }\n",
              "\n",
              "    .dataframe tbody tr th {\n",
              "        vertical-align: top;\n",
              "    }\n",
              "\n",
              "    .dataframe thead th {\n",
              "        text-align: right;\n",
              "    }\n",
              "</style>\n",
              "<table border=\"1\" class=\"dataframe\">\n",
              "  <thead>\n",
              "    <tr style=\"text-align: right;\">\n",
              "      <th></th>\n",
              "      <th>calendar_date</th>\n",
              "      <th>day_of_week</th>\n",
              "      <th>holiday_flg</th>\n",
              "      <th>0_days_to_holiday</th>\n",
              "      <th>1_days_to_holiday</th>\n",
              "      <th>2_days_to_holiday</th>\n",
              "      <th>3_days_to_holiday</th>\n",
              "      <th>4_days_to_holiday</th>\n",
              "      <th>5_days_to_holiday</th>\n",
              "      <th>6_days_to_holiday</th>\n",
              "    </tr>\n",
              "  </thead>\n",
              "  <tbody>\n",
              "    <tr>\n",
              "      <th>0</th>\n",
              "      <td>2016-01-01</td>\n",
              "      <td>Friday</td>\n",
              "      <td>1</td>\n",
              "      <td>True</td>\n",
              "      <td>True</td>\n",
              "      <td>True</td>\n",
              "      <td>False</td>\n",
              "      <td>False</td>\n",
              "      <td>False</td>\n",
              "      <td>False</td>\n",
              "    </tr>\n",
              "    <tr>\n",
              "      <th>1</th>\n",
              "      <td>2016-01-02</td>\n",
              "      <td>Saturday</td>\n",
              "      <td>1</td>\n",
              "      <td>True</td>\n",
              "      <td>True</td>\n",
              "      <td>False</td>\n",
              "      <td>False</td>\n",
              "      <td>False</td>\n",
              "      <td>False</td>\n",
              "      <td>False</td>\n",
              "    </tr>\n",
              "    <tr>\n",
              "      <th>2</th>\n",
              "      <td>2016-01-03</td>\n",
              "      <td>Sunday</td>\n",
              "      <td>1</td>\n",
              "      <td>True</td>\n",
              "      <td>False</td>\n",
              "      <td>False</td>\n",
              "      <td>False</td>\n",
              "      <td>False</td>\n",
              "      <td>False</td>\n",
              "      <td>True</td>\n",
              "    </tr>\n",
              "    <tr>\n",
              "      <th>3</th>\n",
              "      <td>2016-01-04</td>\n",
              "      <td>Monday</td>\n",
              "      <td>0</td>\n",
              "      <td>False</td>\n",
              "      <td>False</td>\n",
              "      <td>False</td>\n",
              "      <td>False</td>\n",
              "      <td>False</td>\n",
              "      <td>True</td>\n",
              "      <td>True</td>\n",
              "    </tr>\n",
              "    <tr>\n",
              "      <th>4</th>\n",
              "      <td>2016-01-05</td>\n",
              "      <td>Tuesday</td>\n",
              "      <td>0</td>\n",
              "      <td>False</td>\n",
              "      <td>False</td>\n",
              "      <td>False</td>\n",
              "      <td>False</td>\n",
              "      <td>True</td>\n",
              "      <td>True</td>\n",
              "      <td>True</td>\n",
              "    </tr>\n",
              "    <tr>\n",
              "      <th>5</th>\n",
              "      <td>2016-01-06</td>\n",
              "      <td>Wednesday</td>\n",
              "      <td>0</td>\n",
              "      <td>False</td>\n",
              "      <td>False</td>\n",
              "      <td>False</td>\n",
              "      <td>True</td>\n",
              "      <td>True</td>\n",
              "      <td>True</td>\n",
              "      <td>False</td>\n",
              "    </tr>\n",
              "    <tr>\n",
              "      <th>6</th>\n",
              "      <td>2016-01-07</td>\n",
              "      <td>Thursday</td>\n",
              "      <td>0</td>\n",
              "      <td>False</td>\n",
              "      <td>False</td>\n",
              "      <td>True</td>\n",
              "      <td>True</td>\n",
              "      <td>True</td>\n",
              "      <td>False</td>\n",
              "      <td>False</td>\n",
              "    </tr>\n",
              "    <tr>\n",
              "      <th>7</th>\n",
              "      <td>2016-01-08</td>\n",
              "      <td>Friday</td>\n",
              "      <td>0</td>\n",
              "      <td>False</td>\n",
              "      <td>True</td>\n",
              "      <td>True</td>\n",
              "      <td>True</td>\n",
              "      <td>False</td>\n",
              "      <td>False</td>\n",
              "      <td>False</td>\n",
              "    </tr>\n",
              "    <tr>\n",
              "      <th>8</th>\n",
              "      <td>2016-01-09</td>\n",
              "      <td>Saturday</td>\n",
              "      <td>1</td>\n",
              "      <td>True</td>\n",
              "      <td>True</td>\n",
              "      <td>True</td>\n",
              "      <td>False</td>\n",
              "      <td>False</td>\n",
              "      <td>False</td>\n",
              "      <td>False</td>\n",
              "    </tr>\n",
              "    <tr>\n",
              "      <th>9</th>\n",
              "      <td>2016-01-10</td>\n",
              "      <td>Sunday</td>\n",
              "      <td>1</td>\n",
              "      <td>True</td>\n",
              "      <td>True</td>\n",
              "      <td>False</td>\n",
              "      <td>False</td>\n",
              "      <td>False</td>\n",
              "      <td>False</td>\n",
              "      <td>True</td>\n",
              "    </tr>\n",
              "  </tbody>\n",
              "</table>\n",
              "</div>"
            ],
            "text/plain": [
              "  calendar_date day_of_week  holiday_flg  0_days_to_holiday  \\\n",
              "0    2016-01-01      Friday            1               True   \n",
              "1    2016-01-02    Saturday            1               True   \n",
              "2    2016-01-03      Sunday            1               True   \n",
              "3    2016-01-04      Monday            0              False   \n",
              "4    2016-01-05     Tuesday            0              False   \n",
              "5    2016-01-06   Wednesday            0              False   \n",
              "6    2016-01-07    Thursday            0              False   \n",
              "7    2016-01-08      Friday            0              False   \n",
              "8    2016-01-09    Saturday            1               True   \n",
              "9    2016-01-10      Sunday            1               True   \n",
              "\n",
              "   1_days_to_holiday  2_days_to_holiday  3_days_to_holiday  4_days_to_holiday  \\\n",
              "0               True               True              False              False   \n",
              "1               True              False              False              False   \n",
              "2              False              False              False              False   \n",
              "3              False              False              False              False   \n",
              "4              False              False              False               True   \n",
              "5              False              False               True               True   \n",
              "6              False               True               True               True   \n",
              "7               True               True               True              False   \n",
              "8               True               True              False              False   \n",
              "9               True              False              False              False   \n",
              "\n",
              "   5_days_to_holiday  6_days_to_holiday  \n",
              "0              False              False  \n",
              "1              False              False  \n",
              "2              False               True  \n",
              "3               True               True  \n",
              "4               True               True  \n",
              "5               True              False  \n",
              "6              False              False  \n",
              "7              False              False  \n",
              "8              False              False  \n",
              "9              False               True  "
            ]
          },
          "metadata": {
            "tags": []
          },
          "execution_count": 36
        }
      ]
    },
    {
      "metadata": {
        "id": "WNmHqSw1p35-",
        "colab_type": "code",
        "colab": {
          "base_uri": "https://localhost:8080/",
          "height": 359
        },
        "outputId": "4930fe5c-30e4-4f80-bb7d-00b6017ce9e4"
      },
      "cell_type": "code",
      "source": [
        "date_info.tail(10)"
      ],
      "execution_count": 37,
      "outputs": [
        {
          "output_type": "execute_result",
          "data": {
            "text/html": [
              "<div>\n",
              "<style scoped>\n",
              "    .dataframe tbody tr th:only-of-type {\n",
              "        vertical-align: middle;\n",
              "    }\n",
              "\n",
              "    .dataframe tbody tr th {\n",
              "        vertical-align: top;\n",
              "    }\n",
              "\n",
              "    .dataframe thead th {\n",
              "        text-align: right;\n",
              "    }\n",
              "</style>\n",
              "<table border=\"1\" class=\"dataframe\">\n",
              "  <thead>\n",
              "    <tr style=\"text-align: right;\">\n",
              "      <th></th>\n",
              "      <th>calendar_date</th>\n",
              "      <th>day_of_week</th>\n",
              "      <th>holiday_flg</th>\n",
              "      <th>0_days_to_holiday</th>\n",
              "      <th>1_days_to_holiday</th>\n",
              "      <th>2_days_to_holiday</th>\n",
              "      <th>3_days_to_holiday</th>\n",
              "      <th>4_days_to_holiday</th>\n",
              "      <th>5_days_to_holiday</th>\n",
              "      <th>6_days_to_holiday</th>\n",
              "    </tr>\n",
              "  </thead>\n",
              "  <tbody>\n",
              "    <tr>\n",
              "      <th>514</th>\n",
              "      <td>2017-05-29</td>\n",
              "      <td>Monday</td>\n",
              "      <td>0</td>\n",
              "      <td>False</td>\n",
              "      <td>False</td>\n",
              "      <td>False</td>\n",
              "      <td>False</td>\n",
              "      <td>False</td>\n",
              "      <td>False</td>\n",
              "      <td>False</td>\n",
              "    </tr>\n",
              "    <tr>\n",
              "      <th>515</th>\n",
              "      <td>2017-05-30</td>\n",
              "      <td>Tuesday</td>\n",
              "      <td>0</td>\n",
              "      <td>False</td>\n",
              "      <td>False</td>\n",
              "      <td>False</td>\n",
              "      <td>False</td>\n",
              "      <td>False</td>\n",
              "      <td>False</td>\n",
              "      <td>True</td>\n",
              "    </tr>\n",
              "    <tr>\n",
              "      <th>516</th>\n",
              "      <td>2017-05-31</td>\n",
              "      <td>Wednesday</td>\n",
              "      <td>0</td>\n",
              "      <td>False</td>\n",
              "      <td>False</td>\n",
              "      <td>False</td>\n",
              "      <td>False</td>\n",
              "      <td>False</td>\n",
              "      <td>True</td>\n",
              "      <td>True</td>\n",
              "    </tr>\n",
              "    <tr>\n",
              "      <th>517</th>\n",
              "      <td>2017-06-01</td>\n",
              "      <td>Tuesday</td>\n",
              "      <td>0</td>\n",
              "      <td>False</td>\n",
              "      <td>False</td>\n",
              "      <td>False</td>\n",
              "      <td>False</td>\n",
              "      <td>True</td>\n",
              "      <td>True</td>\n",
              "      <td>False</td>\n",
              "    </tr>\n",
              "    <tr>\n",
              "      <th>518</th>\n",
              "      <td>2017-06-02</td>\n",
              "      <td>Wednesday</td>\n",
              "      <td>0</td>\n",
              "      <td>False</td>\n",
              "      <td>False</td>\n",
              "      <td>False</td>\n",
              "      <td>True</td>\n",
              "      <td>True</td>\n",
              "      <td>False</td>\n",
              "      <td>True</td>\n",
              "    </tr>\n",
              "    <tr>\n",
              "      <th>519</th>\n",
              "      <td>2017-06-03</td>\n",
              "      <td>Thursday</td>\n",
              "      <td>0</td>\n",
              "      <td>False</td>\n",
              "      <td>False</td>\n",
              "      <td>True</td>\n",
              "      <td>True</td>\n",
              "      <td>False</td>\n",
              "      <td>True</td>\n",
              "      <td>True</td>\n",
              "    </tr>\n",
              "    <tr>\n",
              "      <th>520</th>\n",
              "      <td>2017-06-04</td>\n",
              "      <td>Friday</td>\n",
              "      <td>0</td>\n",
              "      <td>False</td>\n",
              "      <td>True</td>\n",
              "      <td>True</td>\n",
              "      <td>False</td>\n",
              "      <td>True</td>\n",
              "      <td>True</td>\n",
              "      <td>True</td>\n",
              "    </tr>\n",
              "    <tr>\n",
              "      <th>521</th>\n",
              "      <td>2017-06-05</td>\n",
              "      <td>Saturday</td>\n",
              "      <td>1</td>\n",
              "      <td>True</td>\n",
              "      <td>True</td>\n",
              "      <td>False</td>\n",
              "      <td>True</td>\n",
              "      <td>True</td>\n",
              "      <td>True</td>\n",
              "      <td>True</td>\n",
              "    </tr>\n",
              "    <tr>\n",
              "      <th>522</th>\n",
              "      <td>2017-06-06</td>\n",
              "      <td>Sunday</td>\n",
              "      <td>1</td>\n",
              "      <td>True</td>\n",
              "      <td>False</td>\n",
              "      <td>True</td>\n",
              "      <td>True</td>\n",
              "      <td>True</td>\n",
              "      <td>True</td>\n",
              "      <td>True</td>\n",
              "    </tr>\n",
              "    <tr>\n",
              "      <th>523</th>\n",
              "      <td>2017-06-07</td>\n",
              "      <td>Monday</td>\n",
              "      <td>0</td>\n",
              "      <td>False</td>\n",
              "      <td>True</td>\n",
              "      <td>True</td>\n",
              "      <td>True</td>\n",
              "      <td>True</td>\n",
              "      <td>True</td>\n",
              "      <td>True</td>\n",
              "    </tr>\n",
              "  </tbody>\n",
              "</table>\n",
              "</div>"
            ],
            "text/plain": [
              "    calendar_date day_of_week  holiday_flg  0_days_to_holiday  \\\n",
              "514    2017-05-29      Monday            0              False   \n",
              "515    2017-05-30     Tuesday            0              False   \n",
              "516    2017-05-31   Wednesday            0              False   \n",
              "517    2017-06-01     Tuesday            0              False   \n",
              "518    2017-06-02   Wednesday            0              False   \n",
              "519    2017-06-03    Thursday            0              False   \n",
              "520    2017-06-04      Friday            0              False   \n",
              "521    2017-06-05    Saturday            1               True   \n",
              "522    2017-06-06      Sunday            1               True   \n",
              "523    2017-06-07      Monday            0              False   \n",
              "\n",
              "     1_days_to_holiday  2_days_to_holiday  3_days_to_holiday  \\\n",
              "514              False              False              False   \n",
              "515              False              False              False   \n",
              "516              False              False              False   \n",
              "517              False              False              False   \n",
              "518              False              False               True   \n",
              "519              False               True               True   \n",
              "520               True               True              False   \n",
              "521               True              False               True   \n",
              "522              False               True               True   \n",
              "523               True               True               True   \n",
              "\n",
              "     4_days_to_holiday  5_days_to_holiday  6_days_to_holiday  \n",
              "514              False              False              False  \n",
              "515              False              False               True  \n",
              "516              False               True               True  \n",
              "517               True               True              False  \n",
              "518               True              False               True  \n",
              "519              False               True               True  \n",
              "520               True               True               True  \n",
              "521               True               True               True  \n",
              "522               True               True               True  \n",
              "523               True               True               True  "
            ]
          },
          "metadata": {
            "tags": []
          },
          "execution_count": 37
        }
      ]
    },
    {
      "metadata": {
        "id": "whm2beHc4RHO",
        "colab_type": "text"
      },
      "cell_type": "markdown",
      "source": [
        "date_infoの準備OK"
      ]
    },
    {
      "metadata": {
        "id": "bXCNX7m3oACW",
        "colab_type": "code",
        "colab": {}
      },
      "cell_type": "code",
      "source": [
        "train = air_visit_data.copy()"
      ],
      "execution_count": 0,
      "outputs": []
    },
    {
      "metadata": {
        "id": "Tnrv5IgUrEae",
        "colab_type": "code",
        "colab": {
          "base_uri": "https://localhost:8080/",
          "height": 221
        },
        "outputId": "e763b7b8-1af4-426b-fb19-75db8e1b9669"
      },
      "cell_type": "code",
      "source": [
        "print(train.shape)\n",
        "train.head()"
      ],
      "execution_count": 39,
      "outputs": [
        {
          "output_type": "stream",
          "text": [
            "(252108, 3)\n"
          ],
          "name": "stdout"
        },
        {
          "output_type": "execute_result",
          "data": {
            "text/html": [
              "<div>\n",
              "<style scoped>\n",
              "    .dataframe tbody tr th:only-of-type {\n",
              "        vertical-align: middle;\n",
              "    }\n",
              "\n",
              "    .dataframe tbody tr th {\n",
              "        vertical-align: top;\n",
              "    }\n",
              "\n",
              "    .dataframe thead th {\n",
              "        text-align: right;\n",
              "    }\n",
              "</style>\n",
              "<table border=\"1\" class=\"dataframe\">\n",
              "  <thead>\n",
              "    <tr style=\"text-align: right;\">\n",
              "      <th></th>\n",
              "      <th>air_store_id</th>\n",
              "      <th>visit_date</th>\n",
              "      <th>visitors</th>\n",
              "    </tr>\n",
              "  </thead>\n",
              "  <tbody>\n",
              "    <tr>\n",
              "      <th>0</th>\n",
              "      <td>air_ba937bf13d40fb24</td>\n",
              "      <td>2016-01-13</td>\n",
              "      <td>25</td>\n",
              "    </tr>\n",
              "    <tr>\n",
              "      <th>1</th>\n",
              "      <td>air_ba937bf13d40fb24</td>\n",
              "      <td>2016-01-14</td>\n",
              "      <td>32</td>\n",
              "    </tr>\n",
              "    <tr>\n",
              "      <th>2</th>\n",
              "      <td>air_ba937bf13d40fb24</td>\n",
              "      <td>2016-01-15</td>\n",
              "      <td>29</td>\n",
              "    </tr>\n",
              "    <tr>\n",
              "      <th>3</th>\n",
              "      <td>air_ba937bf13d40fb24</td>\n",
              "      <td>2016-01-16</td>\n",
              "      <td>22</td>\n",
              "    </tr>\n",
              "    <tr>\n",
              "      <th>4</th>\n",
              "      <td>air_ba937bf13d40fb24</td>\n",
              "      <td>2016-01-18</td>\n",
              "      <td>6</td>\n",
              "    </tr>\n",
              "  </tbody>\n",
              "</table>\n",
              "</div>"
            ],
            "text/plain": [
              "           air_store_id  visit_date  visitors\n",
              "0  air_ba937bf13d40fb24  2016-01-13        25\n",
              "1  air_ba937bf13d40fb24  2016-01-14        32\n",
              "2  air_ba937bf13d40fb24  2016-01-15        29\n",
              "3  air_ba937bf13d40fb24  2016-01-16        22\n",
              "4  air_ba937bf13d40fb24  2016-01-18         6"
            ]
          },
          "metadata": {
            "tags": []
          },
          "execution_count": 39
        }
      ]
    },
    {
      "metadata": {
        "id": "jSEhdSKfv1o_",
        "colab_type": "code",
        "colab": {
          "base_uri": "https://localhost:8080/",
          "height": 204
        },
        "outputId": "d3b8ea27-6d12-49ab-e550-17916a312d94"
      },
      "cell_type": "code",
      "source": [
        "test = pd.read_csv('sample_submission.csv')\n",
        "test.head()"
      ],
      "execution_count": 40,
      "outputs": [
        {
          "output_type": "execute_result",
          "data": {
            "text/html": [
              "<div>\n",
              "<style scoped>\n",
              "    .dataframe tbody tr th:only-of-type {\n",
              "        vertical-align: middle;\n",
              "    }\n",
              "\n",
              "    .dataframe tbody tr th {\n",
              "        vertical-align: top;\n",
              "    }\n",
              "\n",
              "    .dataframe thead th {\n",
              "        text-align: right;\n",
              "    }\n",
              "</style>\n",
              "<table border=\"1\" class=\"dataframe\">\n",
              "  <thead>\n",
              "    <tr style=\"text-align: right;\">\n",
              "      <th></th>\n",
              "      <th>id</th>\n",
              "      <th>visitors</th>\n",
              "    </tr>\n",
              "  </thead>\n",
              "  <tbody>\n",
              "    <tr>\n",
              "      <th>0</th>\n",
              "      <td>air_00a91d42b08b08d9_2017-04-23</td>\n",
              "      <td>0</td>\n",
              "    </tr>\n",
              "    <tr>\n",
              "      <th>1</th>\n",
              "      <td>air_00a91d42b08b08d9_2017-04-24</td>\n",
              "      <td>0</td>\n",
              "    </tr>\n",
              "    <tr>\n",
              "      <th>2</th>\n",
              "      <td>air_00a91d42b08b08d9_2017-04-25</td>\n",
              "      <td>0</td>\n",
              "    </tr>\n",
              "    <tr>\n",
              "      <th>3</th>\n",
              "      <td>air_00a91d42b08b08d9_2017-04-26</td>\n",
              "      <td>0</td>\n",
              "    </tr>\n",
              "    <tr>\n",
              "      <th>4</th>\n",
              "      <td>air_00a91d42b08b08d9_2017-04-27</td>\n",
              "      <td>0</td>\n",
              "    </tr>\n",
              "  </tbody>\n",
              "</table>\n",
              "</div>"
            ],
            "text/plain": [
              "                                id  visitors\n",
              "0  air_00a91d42b08b08d9_2017-04-23         0\n",
              "1  air_00a91d42b08b08d9_2017-04-24         0\n",
              "2  air_00a91d42b08b08d9_2017-04-25         0\n",
              "3  air_00a91d42b08b08d9_2017-04-26         0\n",
              "4  air_00a91d42b08b08d9_2017-04-27         0"
            ]
          },
          "metadata": {
            "tags": []
          },
          "execution_count": 40
        }
      ]
    },
    {
      "metadata": {
        "id": "FEXfNv0FwxZ6",
        "colab_type": "code",
        "colab": {
          "base_uri": "https://localhost:8080/",
          "height": 221
        },
        "outputId": "49437dc5-3f59-4ff9-bc7b-4aaffd71369c"
      },
      "cell_type": "code",
      "source": [
        "test = submission['id'].str.split('_', expand=True)\n",
        "test.columns = ['air', 'store_id', 'visit_date']\n",
        "test['air_store_id'] = test['air'] + '_' + test['store_id']\n",
        "test = test.drop(columns=['air', 'store_id'])\n",
        "print(test.shape)\n",
        "test.head()"
      ],
      "execution_count": 41,
      "outputs": [
        {
          "output_type": "stream",
          "text": [
            "(32019, 2)\n"
          ],
          "name": "stdout"
        },
        {
          "output_type": "execute_result",
          "data": {
            "text/html": [
              "<div>\n",
              "<style scoped>\n",
              "    .dataframe tbody tr th:only-of-type {\n",
              "        vertical-align: middle;\n",
              "    }\n",
              "\n",
              "    .dataframe tbody tr th {\n",
              "        vertical-align: top;\n",
              "    }\n",
              "\n",
              "    .dataframe thead th {\n",
              "        text-align: right;\n",
              "    }\n",
              "</style>\n",
              "<table border=\"1\" class=\"dataframe\">\n",
              "  <thead>\n",
              "    <tr style=\"text-align: right;\">\n",
              "      <th></th>\n",
              "      <th>visit_date</th>\n",
              "      <th>air_store_id</th>\n",
              "    </tr>\n",
              "  </thead>\n",
              "  <tbody>\n",
              "    <tr>\n",
              "      <th>0</th>\n",
              "      <td>2017-04-23</td>\n",
              "      <td>air_00a91d42b08b08d9</td>\n",
              "    </tr>\n",
              "    <tr>\n",
              "      <th>1</th>\n",
              "      <td>2017-04-24</td>\n",
              "      <td>air_00a91d42b08b08d9</td>\n",
              "    </tr>\n",
              "    <tr>\n",
              "      <th>2</th>\n",
              "      <td>2017-04-25</td>\n",
              "      <td>air_00a91d42b08b08d9</td>\n",
              "    </tr>\n",
              "    <tr>\n",
              "      <th>3</th>\n",
              "      <td>2017-04-26</td>\n",
              "      <td>air_00a91d42b08b08d9</td>\n",
              "    </tr>\n",
              "    <tr>\n",
              "      <th>4</th>\n",
              "      <td>2017-04-27</td>\n",
              "      <td>air_00a91d42b08b08d9</td>\n",
              "    </tr>\n",
              "  </tbody>\n",
              "</table>\n",
              "</div>"
            ],
            "text/plain": [
              "   visit_date          air_store_id\n",
              "0  2017-04-23  air_00a91d42b08b08d9\n",
              "1  2017-04-24  air_00a91d42b08b08d9\n",
              "2  2017-04-25  air_00a91d42b08b08d9\n",
              "3  2017-04-26  air_00a91d42b08b08d9\n",
              "4  2017-04-27  air_00a91d42b08b08d9"
            ]
          },
          "metadata": {
            "tags": []
          },
          "execution_count": 41
        }
      ]
    },
    {
      "metadata": {
        "id": "Gt1FfB4W4yHt",
        "colab_type": "code",
        "colab": {
          "base_uri": "https://localhost:8080/",
          "height": 221
        },
        "outputId": "31103103-82e3-4d63-88ea-e36c4b7138f0"
      },
      "cell_type": "code",
      "source": [
        "all_data = pd.concat([train.drop(columns=['visitors']), test])\n",
        "print(all_data.shape)\n",
        "all_data.head()"
      ],
      "execution_count": 42,
      "outputs": [
        {
          "output_type": "stream",
          "text": [
            "(284127, 2)\n"
          ],
          "name": "stdout"
        },
        {
          "output_type": "execute_result",
          "data": {
            "text/html": [
              "<div>\n",
              "<style scoped>\n",
              "    .dataframe tbody tr th:only-of-type {\n",
              "        vertical-align: middle;\n",
              "    }\n",
              "\n",
              "    .dataframe tbody tr th {\n",
              "        vertical-align: top;\n",
              "    }\n",
              "\n",
              "    .dataframe thead th {\n",
              "        text-align: right;\n",
              "    }\n",
              "</style>\n",
              "<table border=\"1\" class=\"dataframe\">\n",
              "  <thead>\n",
              "    <tr style=\"text-align: right;\">\n",
              "      <th></th>\n",
              "      <th>air_store_id</th>\n",
              "      <th>visit_date</th>\n",
              "    </tr>\n",
              "  </thead>\n",
              "  <tbody>\n",
              "    <tr>\n",
              "      <th>0</th>\n",
              "      <td>air_ba937bf13d40fb24</td>\n",
              "      <td>2016-01-13</td>\n",
              "    </tr>\n",
              "    <tr>\n",
              "      <th>1</th>\n",
              "      <td>air_ba937bf13d40fb24</td>\n",
              "      <td>2016-01-14</td>\n",
              "    </tr>\n",
              "    <tr>\n",
              "      <th>2</th>\n",
              "      <td>air_ba937bf13d40fb24</td>\n",
              "      <td>2016-01-15</td>\n",
              "    </tr>\n",
              "    <tr>\n",
              "      <th>3</th>\n",
              "      <td>air_ba937bf13d40fb24</td>\n",
              "      <td>2016-01-16</td>\n",
              "    </tr>\n",
              "    <tr>\n",
              "      <th>4</th>\n",
              "      <td>air_ba937bf13d40fb24</td>\n",
              "      <td>2016-01-18</td>\n",
              "    </tr>\n",
              "  </tbody>\n",
              "</table>\n",
              "</div>"
            ],
            "text/plain": [
              "           air_store_id  visit_date\n",
              "0  air_ba937bf13d40fb24  2016-01-13\n",
              "1  air_ba937bf13d40fb24  2016-01-14\n",
              "2  air_ba937bf13d40fb24  2016-01-15\n",
              "3  air_ba937bf13d40fb24  2016-01-16\n",
              "4  air_ba937bf13d40fb24  2016-01-18"
            ]
          },
          "metadata": {
            "tags": []
          },
          "execution_count": 42
        }
      ]
    },
    {
      "metadata": {
        "id": "tK5udGi5u_6K",
        "colab_type": "code",
        "colab": {
          "base_uri": "https://localhost:8080/",
          "height": 221
        },
        "outputId": "9335fc7a-6d24-4f63-bfa4-fa8e67cc2e7e"
      },
      "cell_type": "code",
      "source": [
        "all_data = pd.merge(all_data, date_info, how='left', left_on='visit_date', right_on='calendar_date')\n",
        "all_data = all_data.drop(columns=['visit_date', 'calendar_date'])\n",
        "print(all_data.shape)\n",
        "all_data.head()"
      ],
      "execution_count": 43,
      "outputs": [
        {
          "output_type": "stream",
          "text": [
            "(284127, 10)\n"
          ],
          "name": "stdout"
        },
        {
          "output_type": "execute_result",
          "data": {
            "text/html": [
              "<div>\n",
              "<style scoped>\n",
              "    .dataframe tbody tr th:only-of-type {\n",
              "        vertical-align: middle;\n",
              "    }\n",
              "\n",
              "    .dataframe tbody tr th {\n",
              "        vertical-align: top;\n",
              "    }\n",
              "\n",
              "    .dataframe thead th {\n",
              "        text-align: right;\n",
              "    }\n",
              "</style>\n",
              "<table border=\"1\" class=\"dataframe\">\n",
              "  <thead>\n",
              "    <tr style=\"text-align: right;\">\n",
              "      <th></th>\n",
              "      <th>air_store_id</th>\n",
              "      <th>day_of_week</th>\n",
              "      <th>holiday_flg</th>\n",
              "      <th>0_days_to_holiday</th>\n",
              "      <th>1_days_to_holiday</th>\n",
              "      <th>2_days_to_holiday</th>\n",
              "      <th>3_days_to_holiday</th>\n",
              "      <th>4_days_to_holiday</th>\n",
              "      <th>5_days_to_holiday</th>\n",
              "      <th>6_days_to_holiday</th>\n",
              "    </tr>\n",
              "  </thead>\n",
              "  <tbody>\n",
              "    <tr>\n",
              "      <th>0</th>\n",
              "      <td>air_ba937bf13d40fb24</td>\n",
              "      <td>Wednesday</td>\n",
              "      <td>0</td>\n",
              "      <td>False</td>\n",
              "      <td>False</td>\n",
              "      <td>False</td>\n",
              "      <td>True</td>\n",
              "      <td>True</td>\n",
              "      <td>False</td>\n",
              "      <td>False</td>\n",
              "    </tr>\n",
              "    <tr>\n",
              "      <th>1</th>\n",
              "      <td>air_ba937bf13d40fb24</td>\n",
              "      <td>Thursday</td>\n",
              "      <td>0</td>\n",
              "      <td>False</td>\n",
              "      <td>False</td>\n",
              "      <td>True</td>\n",
              "      <td>True</td>\n",
              "      <td>False</td>\n",
              "      <td>False</td>\n",
              "      <td>False</td>\n",
              "    </tr>\n",
              "    <tr>\n",
              "      <th>2</th>\n",
              "      <td>air_ba937bf13d40fb24</td>\n",
              "      <td>Friday</td>\n",
              "      <td>0</td>\n",
              "      <td>False</td>\n",
              "      <td>True</td>\n",
              "      <td>True</td>\n",
              "      <td>False</td>\n",
              "      <td>False</td>\n",
              "      <td>False</td>\n",
              "      <td>False</td>\n",
              "    </tr>\n",
              "    <tr>\n",
              "      <th>3</th>\n",
              "      <td>air_ba937bf13d40fb24</td>\n",
              "      <td>Saturday</td>\n",
              "      <td>1</td>\n",
              "      <td>True</td>\n",
              "      <td>True</td>\n",
              "      <td>False</td>\n",
              "      <td>False</td>\n",
              "      <td>False</td>\n",
              "      <td>False</td>\n",
              "      <td>False</td>\n",
              "    </tr>\n",
              "    <tr>\n",
              "      <th>4</th>\n",
              "      <td>air_ba937bf13d40fb24</td>\n",
              "      <td>Monday</td>\n",
              "      <td>0</td>\n",
              "      <td>False</td>\n",
              "      <td>False</td>\n",
              "      <td>False</td>\n",
              "      <td>False</td>\n",
              "      <td>False</td>\n",
              "      <td>True</td>\n",
              "      <td>True</td>\n",
              "    </tr>\n",
              "  </tbody>\n",
              "</table>\n",
              "</div>"
            ],
            "text/plain": [
              "           air_store_id day_of_week  holiday_flg  0_days_to_holiday  \\\n",
              "0  air_ba937bf13d40fb24   Wednesday            0              False   \n",
              "1  air_ba937bf13d40fb24    Thursday            0              False   \n",
              "2  air_ba937bf13d40fb24      Friday            0              False   \n",
              "3  air_ba937bf13d40fb24    Saturday            1               True   \n",
              "4  air_ba937bf13d40fb24      Monday            0              False   \n",
              "\n",
              "   1_days_to_holiday  2_days_to_holiday  3_days_to_holiday  4_days_to_holiday  \\\n",
              "0              False              False               True               True   \n",
              "1              False               True               True              False   \n",
              "2               True               True              False              False   \n",
              "3               True              False              False              False   \n",
              "4              False              False              False              False   \n",
              "\n",
              "   5_days_to_holiday  6_days_to_holiday  \n",
              "0              False              False  \n",
              "1              False              False  \n",
              "2              False              False  \n",
              "3              False              False  \n",
              "4               True               True  "
            ]
          },
          "metadata": {
            "tags": []
          },
          "execution_count": 43
        }
      ]
    },
    {
      "metadata": {
        "id": "7TVu2Zryk13o",
        "colab_type": "code",
        "colab": {
          "base_uri": "https://localhost:8080/",
          "height": 204
        },
        "outputId": "84e77cd7-9ee8-46bc-fc0b-bd511f5a713a"
      },
      "cell_type": "code",
      "source": [
        "all_data.dtypes"
      ],
      "execution_count": 44,
      "outputs": [
        {
          "output_type": "execute_result",
          "data": {
            "text/plain": [
              "air_store_id         object\n",
              "day_of_week          object\n",
              "holiday_flg           int64\n",
              "0_days_to_holiday      bool\n",
              "1_days_to_holiday      bool\n",
              "2_days_to_holiday      bool\n",
              "3_days_to_holiday      bool\n",
              "4_days_to_holiday      bool\n",
              "5_days_to_holiday      bool\n",
              "6_days_to_holiday      bool\n",
              "dtype: object"
            ]
          },
          "metadata": {
            "tags": []
          },
          "execution_count": 44
        }
      ]
    },
    {
      "metadata": {
        "id": "Brf3ITwvk69X",
        "colab_type": "text"
      },
      "cell_type": "markdown",
      "source": [
        "学習用データの完成(後はget_dummiesをやる)"
      ]
    },
    {
      "metadata": {
        "id": "5ZeUI5Rjxptb",
        "colab_type": "code",
        "colab": {
          "base_uri": "https://localhost:8080/",
          "height": 253
        },
        "outputId": "48b3ac0e-e098-415b-d1aa-5bf9890b552f"
      },
      "cell_type": "code",
      "source": [
        "X = pd.get_dummies(all_data)\n",
        "X.head()"
      ],
      "execution_count": 45,
      "outputs": [
        {
          "output_type": "execute_result",
          "data": {
            "text/html": [
              "<div>\n",
              "<style scoped>\n",
              "    .dataframe tbody tr th:only-of-type {\n",
              "        vertical-align: middle;\n",
              "    }\n",
              "\n",
              "    .dataframe tbody tr th {\n",
              "        vertical-align: top;\n",
              "    }\n",
              "\n",
              "    .dataframe thead th {\n",
              "        text-align: right;\n",
              "    }\n",
              "</style>\n",
              "<table border=\"1\" class=\"dataframe\">\n",
              "  <thead>\n",
              "    <tr style=\"text-align: right;\">\n",
              "      <th></th>\n",
              "      <th>holiday_flg</th>\n",
              "      <th>0_days_to_holiday</th>\n",
              "      <th>1_days_to_holiday</th>\n",
              "      <th>2_days_to_holiday</th>\n",
              "      <th>3_days_to_holiday</th>\n",
              "      <th>4_days_to_holiday</th>\n",
              "      <th>5_days_to_holiday</th>\n",
              "      <th>6_days_to_holiday</th>\n",
              "      <th>air_store_id_air_00a91d42b08b08d9</th>\n",
              "      <th>air_store_id_air_0164b9927d20bcc3</th>\n",
              "      <th>...</th>\n",
              "      <th>air_store_id_air_fef9ccb3ba0da2f7</th>\n",
              "      <th>air_store_id_air_ffcc2d5087e1b476</th>\n",
              "      <th>air_store_id_air_fff68b929994bfbd</th>\n",
              "      <th>day_of_week_Friday</th>\n",
              "      <th>day_of_week_Monday</th>\n",
              "      <th>day_of_week_Saturday</th>\n",
              "      <th>day_of_week_Sunday</th>\n",
              "      <th>day_of_week_Thursday</th>\n",
              "      <th>day_of_week_Tuesday</th>\n",
              "      <th>day_of_week_Wednesday</th>\n",
              "    </tr>\n",
              "  </thead>\n",
              "  <tbody>\n",
              "    <tr>\n",
              "      <th>0</th>\n",
              "      <td>0</td>\n",
              "      <td>False</td>\n",
              "      <td>False</td>\n",
              "      <td>False</td>\n",
              "      <td>True</td>\n",
              "      <td>True</td>\n",
              "      <td>False</td>\n",
              "      <td>False</td>\n",
              "      <td>0</td>\n",
              "      <td>0</td>\n",
              "      <td>...</td>\n",
              "      <td>0</td>\n",
              "      <td>0</td>\n",
              "      <td>0</td>\n",
              "      <td>0</td>\n",
              "      <td>0</td>\n",
              "      <td>0</td>\n",
              "      <td>0</td>\n",
              "      <td>0</td>\n",
              "      <td>0</td>\n",
              "      <td>1</td>\n",
              "    </tr>\n",
              "    <tr>\n",
              "      <th>1</th>\n",
              "      <td>0</td>\n",
              "      <td>False</td>\n",
              "      <td>False</td>\n",
              "      <td>True</td>\n",
              "      <td>True</td>\n",
              "      <td>False</td>\n",
              "      <td>False</td>\n",
              "      <td>False</td>\n",
              "      <td>0</td>\n",
              "      <td>0</td>\n",
              "      <td>...</td>\n",
              "      <td>0</td>\n",
              "      <td>0</td>\n",
              "      <td>0</td>\n",
              "      <td>0</td>\n",
              "      <td>0</td>\n",
              "      <td>0</td>\n",
              "      <td>0</td>\n",
              "      <td>1</td>\n",
              "      <td>0</td>\n",
              "      <td>0</td>\n",
              "    </tr>\n",
              "    <tr>\n",
              "      <th>2</th>\n",
              "      <td>0</td>\n",
              "      <td>False</td>\n",
              "      <td>True</td>\n",
              "      <td>True</td>\n",
              "      <td>False</td>\n",
              "      <td>False</td>\n",
              "      <td>False</td>\n",
              "      <td>False</td>\n",
              "      <td>0</td>\n",
              "      <td>0</td>\n",
              "      <td>...</td>\n",
              "      <td>0</td>\n",
              "      <td>0</td>\n",
              "      <td>0</td>\n",
              "      <td>1</td>\n",
              "      <td>0</td>\n",
              "      <td>0</td>\n",
              "      <td>0</td>\n",
              "      <td>0</td>\n",
              "      <td>0</td>\n",
              "      <td>0</td>\n",
              "    </tr>\n",
              "    <tr>\n",
              "      <th>3</th>\n",
              "      <td>1</td>\n",
              "      <td>True</td>\n",
              "      <td>True</td>\n",
              "      <td>False</td>\n",
              "      <td>False</td>\n",
              "      <td>False</td>\n",
              "      <td>False</td>\n",
              "      <td>False</td>\n",
              "      <td>0</td>\n",
              "      <td>0</td>\n",
              "      <td>...</td>\n",
              "      <td>0</td>\n",
              "      <td>0</td>\n",
              "      <td>0</td>\n",
              "      <td>0</td>\n",
              "      <td>0</td>\n",
              "      <td>1</td>\n",
              "      <td>0</td>\n",
              "      <td>0</td>\n",
              "      <td>0</td>\n",
              "      <td>0</td>\n",
              "    </tr>\n",
              "    <tr>\n",
              "      <th>4</th>\n",
              "      <td>0</td>\n",
              "      <td>False</td>\n",
              "      <td>False</td>\n",
              "      <td>False</td>\n",
              "      <td>False</td>\n",
              "      <td>False</td>\n",
              "      <td>True</td>\n",
              "      <td>True</td>\n",
              "      <td>0</td>\n",
              "      <td>0</td>\n",
              "      <td>...</td>\n",
              "      <td>0</td>\n",
              "      <td>0</td>\n",
              "      <td>0</td>\n",
              "      <td>0</td>\n",
              "      <td>1</td>\n",
              "      <td>0</td>\n",
              "      <td>0</td>\n",
              "      <td>0</td>\n",
              "      <td>0</td>\n",
              "      <td>0</td>\n",
              "    </tr>\n",
              "  </tbody>\n",
              "</table>\n",
              "<p>5 rows × 844 columns</p>\n",
              "</div>"
            ],
            "text/plain": [
              "   holiday_flg  0_days_to_holiday  1_days_to_holiday  2_days_to_holiday  \\\n",
              "0            0              False              False              False   \n",
              "1            0              False              False               True   \n",
              "2            0              False               True               True   \n",
              "3            1               True               True              False   \n",
              "4            0              False              False              False   \n",
              "\n",
              "   3_days_to_holiday  4_days_to_holiday  5_days_to_holiday  6_days_to_holiday  \\\n",
              "0               True               True              False              False   \n",
              "1               True              False              False              False   \n",
              "2              False              False              False              False   \n",
              "3              False              False              False              False   \n",
              "4              False              False               True               True   \n",
              "\n",
              "   air_store_id_air_00a91d42b08b08d9  air_store_id_air_0164b9927d20bcc3  \\\n",
              "0                                  0                                  0   \n",
              "1                                  0                                  0   \n",
              "2                                  0                                  0   \n",
              "3                                  0                                  0   \n",
              "4                                  0                                  0   \n",
              "\n",
              "           ...            air_store_id_air_fef9ccb3ba0da2f7  \\\n",
              "0          ...                                            0   \n",
              "1          ...                                            0   \n",
              "2          ...                                            0   \n",
              "3          ...                                            0   \n",
              "4          ...                                            0   \n",
              "\n",
              "   air_store_id_air_ffcc2d5087e1b476  air_store_id_air_fff68b929994bfbd  \\\n",
              "0                                  0                                  0   \n",
              "1                                  0                                  0   \n",
              "2                                  0                                  0   \n",
              "3                                  0                                  0   \n",
              "4                                  0                                  0   \n",
              "\n",
              "   day_of_week_Friday  day_of_week_Monday  day_of_week_Saturday  \\\n",
              "0                   0                   0                     0   \n",
              "1                   0                   0                     0   \n",
              "2                   1                   0                     0   \n",
              "3                   0                   0                     1   \n",
              "4                   0                   1                     0   \n",
              "\n",
              "   day_of_week_Sunday  day_of_week_Thursday  day_of_week_Tuesday  \\\n",
              "0                   0                     0                    0   \n",
              "1                   0                     1                    0   \n",
              "2                   0                     0                    0   \n",
              "3                   0                     0                    0   \n",
              "4                   0                     0                    0   \n",
              "\n",
              "   day_of_week_Wednesday  \n",
              "0                      1  \n",
              "1                      0  \n",
              "2                      0  \n",
              "3                      0  \n",
              "4                      0  \n",
              "\n",
              "[5 rows x 844 columns]"
            ]
          },
          "metadata": {
            "tags": []
          },
          "execution_count": 45
        }
      ]
    },
    {
      "metadata": {
        "id": "tFclIcCL55fK",
        "colab_type": "code",
        "colab": {
          "base_uri": "https://localhost:8080/",
          "height": 408
        },
        "outputId": "0053b368-4e37-45b7-a7a7-72c0a6e11b33"
      },
      "cell_type": "code",
      "source": [
        "print(X.dtypes[:10], '\\n\\n', X.dtypes[-10:])"
      ],
      "execution_count": 46,
      "outputs": [
        {
          "output_type": "stream",
          "text": [
            "holiday_flg                          int64\n",
            "0_days_to_holiday                     bool\n",
            "1_days_to_holiday                     bool\n",
            "2_days_to_holiday                     bool\n",
            "3_days_to_holiday                     bool\n",
            "4_days_to_holiday                     bool\n",
            "5_days_to_holiday                     bool\n",
            "6_days_to_holiday                     bool\n",
            "air_store_id_air_00a91d42b08b08d9    uint8\n",
            "air_store_id_air_0164b9927d20bcc3    uint8\n",
            "dtype: object \n",
            "\n",
            " air_store_id_air_fef9ccb3ba0da2f7    uint8\n",
            "air_store_id_air_ffcc2d5087e1b476    uint8\n",
            "air_store_id_air_fff68b929994bfbd    uint8\n",
            "day_of_week_Friday                   uint8\n",
            "day_of_week_Monday                   uint8\n",
            "day_of_week_Saturday                 uint8\n",
            "day_of_week_Sunday                   uint8\n",
            "day_of_week_Thursday                 uint8\n",
            "day_of_week_Tuesday                  uint8\n",
            "day_of_week_Wednesday                uint8\n",
            "dtype: object\n"
          ],
          "name": "stdout"
        }
      ]
    },
    {
      "metadata": {
        "id": "DtPYU91u55no",
        "colab_type": "code",
        "colab": {
          "base_uri": "https://localhost:8080/",
          "height": 34
        },
        "outputId": "d0833107-440a-4ef8-cf76-4f81f9084857"
      },
      "cell_type": "code",
      "source": [
        "X_train = X[:train.shape[0]]\n",
        "X_test = X[train.shape[0]:]\n",
        "print(X_train.shape, X_test.shape)"
      ],
      "execution_count": 47,
      "outputs": [
        {
          "output_type": "stream",
          "text": [
            "(252108, 844) (32019, 844)\n"
          ],
          "name": "stdout"
        }
      ]
    },
    {
      "metadata": {
        "id": "fEe4eUbz6Vow",
        "colab_type": "code",
        "colab": {
          "base_uri": "https://localhost:8080/",
          "height": 34
        },
        "outputId": "66ad3e80-4e8a-42e7-e20b-5148d1c88203"
      },
      "cell_type": "code",
      "source": [
        "y_train = train['visitors']\n",
        "print(y_train.shape)"
      ],
      "execution_count": 48,
      "outputs": [
        {
          "output_type": "stream",
          "text": [
            "(252108,)\n"
          ],
          "name": "stdout"
        }
      ]
    },
    {
      "metadata": {
        "id": "7ctTKk8Okcma",
        "colab_type": "code",
        "colab": {
          "base_uri": "https://localhost:8080/",
          "height": 119
        },
        "outputId": "4d51ca27-dc0f-436a-bf05-ec85f65c759a"
      },
      "cell_type": "code",
      "source": [
        "model = xgb.XGBRegressor()\n",
        "model.fit(X_train, y_train)"
      ],
      "execution_count": 49,
      "outputs": [
        {
          "output_type": "execute_result",
          "data": {
            "text/plain": [
              "XGBRegressor(base_score=0.5, booster='gbtree', colsample_bylevel=1,\n",
              "       colsample_bytree=1, gamma=0, learning_rate=0.1, max_delta_step=0,\n",
              "       max_depth=3, min_child_weight=1, missing=None, n_estimators=100,\n",
              "       n_jobs=1, nthread=None, objective='reg:linear', random_state=0,\n",
              "       reg_alpha=0, reg_lambda=1, scale_pos_weight=1, seed=None,\n",
              "       silent=True, subsample=1)"
            ]
          },
          "metadata": {
            "tags": []
          },
          "execution_count": 49
        }
      ]
    },
    {
      "metadata": {
        "id": "F6-XY0GfxvxH",
        "colab_type": "code",
        "colab": {}
      },
      "cell_type": "code",
      "source": [
        "predict = model.predict(X_test)"
      ],
      "execution_count": 0,
      "outputs": []
    },
    {
      "metadata": {
        "id": "YGCRmcfw0Ezg",
        "colab_type": "code",
        "colab": {
          "base_uri": "https://localhost:8080/",
          "height": 34
        },
        "outputId": "ccf7572f-eb30-4dbb-df35-0126509e1b14"
      },
      "cell_type": "code",
      "source": [
        "predict.shape"
      ],
      "execution_count": 52,
      "outputs": [
        {
          "output_type": "execute_result",
          "data": {
            "text/plain": [
              "(32019,)"
            ]
          },
          "metadata": {
            "tags": []
          },
          "execution_count": 52
        }
      ]
    },
    {
      "metadata": {
        "id": "AcLbCfYb8vgB",
        "colab_type": "code",
        "colab": {
          "base_uri": "https://localhost:8080/",
          "height": 204
        },
        "outputId": "cc2a73d2-6f35-4fba-a8db-68555d8c977b"
      },
      "cell_type": "code",
      "source": [
        "output = submission.copy()\n",
        "output.head()"
      ],
      "execution_count": 53,
      "outputs": [
        {
          "output_type": "execute_result",
          "data": {
            "text/html": [
              "<div>\n",
              "<style scoped>\n",
              "    .dataframe tbody tr th:only-of-type {\n",
              "        vertical-align: middle;\n",
              "    }\n",
              "\n",
              "    .dataframe tbody tr th {\n",
              "        vertical-align: top;\n",
              "    }\n",
              "\n",
              "    .dataframe thead th {\n",
              "        text-align: right;\n",
              "    }\n",
              "</style>\n",
              "<table border=\"1\" class=\"dataframe\">\n",
              "  <thead>\n",
              "    <tr style=\"text-align: right;\">\n",
              "      <th></th>\n",
              "      <th>id</th>\n",
              "      <th>visitors</th>\n",
              "    </tr>\n",
              "  </thead>\n",
              "  <tbody>\n",
              "    <tr>\n",
              "      <th>0</th>\n",
              "      <td>air_00a91d42b08b08d9_2017-04-23</td>\n",
              "      <td>0</td>\n",
              "    </tr>\n",
              "    <tr>\n",
              "      <th>1</th>\n",
              "      <td>air_00a91d42b08b08d9_2017-04-24</td>\n",
              "      <td>0</td>\n",
              "    </tr>\n",
              "    <tr>\n",
              "      <th>2</th>\n",
              "      <td>air_00a91d42b08b08d9_2017-04-25</td>\n",
              "      <td>0</td>\n",
              "    </tr>\n",
              "    <tr>\n",
              "      <th>3</th>\n",
              "      <td>air_00a91d42b08b08d9_2017-04-26</td>\n",
              "      <td>0</td>\n",
              "    </tr>\n",
              "    <tr>\n",
              "      <th>4</th>\n",
              "      <td>air_00a91d42b08b08d9_2017-04-27</td>\n",
              "      <td>0</td>\n",
              "    </tr>\n",
              "  </tbody>\n",
              "</table>\n",
              "</div>"
            ],
            "text/plain": [
              "                                id  visitors\n",
              "0  air_00a91d42b08b08d9_2017-04-23         0\n",
              "1  air_00a91d42b08b08d9_2017-04-24         0\n",
              "2  air_00a91d42b08b08d9_2017-04-25         0\n",
              "3  air_00a91d42b08b08d9_2017-04-26         0\n",
              "4  air_00a91d42b08b08d9_2017-04-27         0"
            ]
          },
          "metadata": {
            "tags": []
          },
          "execution_count": 53
        }
      ]
    },
    {
      "metadata": {
        "id": "-WZVjJIQ86Dh",
        "colab_type": "code",
        "colab": {}
      },
      "cell_type": "code",
      "source": [
        "output.visitors = predict"
      ],
      "execution_count": 0,
      "outputs": []
    },
    {
      "metadata": {
        "id": "8HZI7G9b89Zg",
        "colab_type": "code",
        "colab": {
          "base_uri": "https://localhost:8080/",
          "height": 204
        },
        "outputId": "ca1537b6-1330-443d-fb8f-82f11dbce056"
      },
      "cell_type": "code",
      "source": [
        "output.head()"
      ],
      "execution_count": 55,
      "outputs": [
        {
          "output_type": "execute_result",
          "data": {
            "text/html": [
              "<div>\n",
              "<style scoped>\n",
              "    .dataframe tbody tr th:only-of-type {\n",
              "        vertical-align: middle;\n",
              "    }\n",
              "\n",
              "    .dataframe tbody tr th {\n",
              "        vertical-align: top;\n",
              "    }\n",
              "\n",
              "    .dataframe thead th {\n",
              "        text-align: right;\n",
              "    }\n",
              "</style>\n",
              "<table border=\"1\" class=\"dataframe\">\n",
              "  <thead>\n",
              "    <tr style=\"text-align: right;\">\n",
              "      <th></th>\n",
              "      <th>id</th>\n",
              "      <th>visitors</th>\n",
              "    </tr>\n",
              "  </thead>\n",
              "  <tbody>\n",
              "    <tr>\n",
              "      <th>0</th>\n",
              "      <td>air_00a91d42b08b08d9_2017-04-23</td>\n",
              "      <td>22.199228</td>\n",
              "    </tr>\n",
              "    <tr>\n",
              "      <th>1</th>\n",
              "      <td>air_00a91d42b08b08d9_2017-04-24</td>\n",
              "      <td>17.394461</td>\n",
              "    </tr>\n",
              "    <tr>\n",
              "      <th>2</th>\n",
              "      <td>air_00a91d42b08b08d9_2017-04-25</td>\n",
              "      <td>17.774137</td>\n",
              "    </tr>\n",
              "    <tr>\n",
              "      <th>3</th>\n",
              "      <td>air_00a91d42b08b08d9_2017-04-26</td>\n",
              "      <td>17.944056</td>\n",
              "    </tr>\n",
              "    <tr>\n",
              "      <th>4</th>\n",
              "      <td>air_00a91d42b08b08d9_2017-04-27</td>\n",
              "      <td>17.944056</td>\n",
              "    </tr>\n",
              "  </tbody>\n",
              "</table>\n",
              "</div>"
            ],
            "text/plain": [
              "                                id   visitors\n",
              "0  air_00a91d42b08b08d9_2017-04-23  22.199228\n",
              "1  air_00a91d42b08b08d9_2017-04-24  17.394461\n",
              "2  air_00a91d42b08b08d9_2017-04-25  17.774137\n",
              "3  air_00a91d42b08b08d9_2017-04-26  17.944056\n",
              "4  air_00a91d42b08b08d9_2017-04-27  17.944056"
            ]
          },
          "metadata": {
            "tags": []
          },
          "execution_count": 55
        }
      ]
    },
    {
      "metadata": {
        "id": "v_CPorX88-18",
        "colab_type": "code",
        "colab": {}
      },
      "cell_type": "code",
      "source": [
        "output.to_csv('output.csv', index=False)"
      ],
      "execution_count": 0,
      "outputs": []
    },
    {
      "metadata": {
        "id": "jANUJVcb9HJ_",
        "colab_type": "code",
        "colab": {
          "base_uri": "https://localhost:8080/",
          "height": 68
        },
        "outputId": "f8fc305a-e475-40e6-f385-f96bada79309"
      },
      "cell_type": "code",
      "source": [
        "ls"
      ],
      "execution_count": 60,
      "outputs": [
        {
          "output_type": "stream",
          "text": [
            "air_reserve.csv     \u001b[0m\u001b[01;34mdatalab\u001b[0m/         hpg_store_info.csv  sample_submission.csv\r\n",
            "air_store_info.csv  date_info.csv    output.csv          storage.py\r\n",
            "air_visit_data.csv  hpg_reserve.csv  \u001b[01;34m__pycache__\u001b[0m/        store_id_relation.csv\r\n"
          ],
          "name": "stdout"
        }
      ]
    },
    {
      "metadata": {
        "id": "2CkpwyWj9HUM",
        "colab_type": "code",
        "colab": {}
      },
      "cell_type": "code",
      "source": [
        "files.download('output.csv')"
      ],
      "execution_count": 0,
      "outputs": []
    },
    {
      "metadata": {
        "id": "4AA8Ai119JRe",
        "colab_type": "code",
        "colab": {}
      },
      "cell_type": "code",
      "source": [
        ""
      ],
      "execution_count": 0,
      "outputs": []
    }
  ]
}