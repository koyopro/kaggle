{
  "nbformat": 4,
  "nbformat_minor": 0,
  "metadata": {
    "colab": {
      "name": "recruit.ipynb",
      "version": "0.3.2",
      "provenance": [],
      "collapsed_sections": []
    },
    "kernelspec": {
      "name": "python3",
      "display_name": "Python 3"
    }
  },
  "cells": [
    {
      "cell_type": "markdown",
      "metadata": {
        "id": "view-in-github",
        "colab_type": "text"
      },
      "source": [
        "[View in Colaboratory](https://colab.research.google.com/github/koyopro/kaggle/blob/master/recruit/recruit.ipynb)"
      ]
    },
    {
      "metadata": {
        "id": "q1NokUusZOIH",
        "colab_type": "text"
      },
      "cell_type": "markdown",
      "source": [
        "# Recruit Restaurant Visitor Forecasting\n",
        "\n",
        "https://www.kaggle.com/c/recruit-restaurant-visitor-forecasting  \n",
        "2018/05/17\n",
        "\n",
        "- 予約数から客数を予測する問題\n",
        "- お店毎に2017/4/23~2017/5/31の数を予測する？\n",
        "  - ゴールデンウィークを含むことに注意\n",
        "- 日付データは2016/01/01~2017/05/31\n",
        "- お店は全150店舗\n",
        "- 学習データ(実際の来店客数)はair_visit_data.csv\n",
        "  - 2016/01~2017/04/22までのデータ\n",
        "- 学習データとテストデータはairのIDなので、先にhpgは無視してairだけでやってみるのもアリか。"
      ]
    },
    {
      "metadata": {
        "id": "9oMMRr4QIEj_",
        "colab_type": "code",
        "colab": {}
      },
      "cell_type": "code",
      "source": [
        "import pandas as pd\n",
        "import os\n",
        "import requests\n",
        "import xgboost as xgb\n",
        "import numpy as np\n",
        "from sklearn import preprocessing\n",
        "import seaborn as sns\n",
        "import matplotlib.pyplot as plt\n",
        "%matplotlib inline \n",
        "from google.colab import files"
      ],
      "execution_count": 0,
      "outputs": []
    },
    {
      "metadata": {
        "id": "kevv0DB8YaGi",
        "colab_type": "code",
        "colab": {
          "base_uri": "https://localhost:8080/",
          "height": 306
        },
        "outputId": "dc316251-6f92-409e-f21b-f9a39c7b7673"
      },
      "cell_type": "code",
      "source": [
        "open('storage.py', 'wb').write(requests.get('https://www.dropbox.com/s/xaohy7hkltic6kv/storage.py?dl=1', allow_redirects=True).content)\n",
        "import storage\n",
        "storage.sync_from_storage('common')\n",
        "\n",
        "!pip install kaggle"
      ],
      "execution_count": 2,
      "outputs": [
        {
          "output_type": "stream",
          "text": [
            "gsutil rsync -r gs://staging.kaggle-ky.appspot.com/common .\n",
            "\n",
            "Collecting kaggle\n",
            "  Downloading https://files.pythonhosted.org/packages/74/9b/a6bdc22939c32e1cecc086a972b5e3f7c991b73d74dab0e5d82ff80c5968/kaggle-1.3.8.tar.gz\n",
            "Requirement already satisfied: urllib3>=1.15 in /usr/local/lib/python3.6/dist-packages (from kaggle) (1.22)\n",
            "Requirement already satisfied: six>=1.10 in /usr/local/lib/python3.6/dist-packages (from kaggle) (1.11.0)\n",
            "Requirement already satisfied: certifi in /usr/local/lib/python3.6/dist-packages (from kaggle) (2018.4.16)\n",
            "Requirement already satisfied: python-dateutil in /usr/local/lib/python3.6/dist-packages (from kaggle) (2.5.3)\n",
            "Requirement already satisfied: requests in /usr/local/lib/python3.6/dist-packages (from kaggle) (2.18.4)\n",
            "Requirement already satisfied: chardet<3.1.0,>=3.0.2 in /usr/local/lib/python3.6/dist-packages (from requests->kaggle) (3.0.4)\n",
            "Requirement already satisfied: idna<2.7,>=2.5 in /usr/local/lib/python3.6/dist-packages (from requests->kaggle) (2.6)\n",
            "Building wheels for collected packages: kaggle\n",
            "  Running setup.py bdist_wheel for kaggle ... \u001b[?25l-\b \b\\\b \bdone\n",
            "\u001b[?25h  Stored in directory: /content/.cache/pip/wheels/d6/3c/92/375decc0cf0a65b281db3cca9b8e21dc27b8ebc4d1ce29afca\n",
            "Successfully built kaggle\n",
            "Installing collected packages: kaggle\n",
            "Successfully installed kaggle-1.3.8\n"
          ],
          "name": "stdout"
        }
      ]
    },
    {
      "metadata": {
        "id": "Zl42G4ayYcE9",
        "colab_type": "code",
        "colab": {
          "base_uri": "https://localhost:8080/",
          "height": 34
        },
        "outputId": "016ceb57-3105-44c4-a9c9-ccf11587bd8a"
      },
      "cell_type": "code",
      "source": [
        "ls"
      ],
      "execution_count": 3,
      "outputs": [
        {
          "output_type": "stream",
          "text": [
            "\u001b[0m\u001b[01;34mdatalab\u001b[0m/  \u001b[01;34m__pycache__\u001b[0m/  storage.py\r\n"
          ],
          "name": "stdout"
        }
      ]
    },
    {
      "metadata": {
        "id": "kos9wE_lY6Ul",
        "colab_type": "code",
        "colab": {
          "base_uri": "https://localhost:8080/",
          "height": 51
        },
        "outputId": "a5e430dd-a7d3-424e-949f-dd14605f0e98"
      },
      "cell_type": "code",
      "source": [
        "storage.sync_from_storage('recruit')"
      ],
      "execution_count": 4,
      "outputs": [
        {
          "output_type": "stream",
          "text": [
            "gsutil rsync -r gs://staging.kaggle-ky.appspot.com/recruit .\n",
            "\n"
          ],
          "name": "stdout"
        }
      ]
    },
    {
      "metadata": {
        "id": "t4lcIdZwYqyQ",
        "colab_type": "code",
        "colab": {
          "base_uri": "https://localhost:8080/",
          "height": 85
        },
        "outputId": "ec6fc83a-57f4-4069-a9e2-682241e53145"
      },
      "cell_type": "code",
      "source": [
        "ls"
      ],
      "execution_count": 5,
      "outputs": [
        {
          "output_type": "stream",
          "text": [
            "air_reserve.csv     date_info.csv       sample_submission.csv\r\n",
            "air_store_info.csv  hpg_reserve.csv     storage.py\r\n",
            "air_visit_data.csv  hpg_store_info.csv  store_id_relation.csv\r\n",
            "\u001b[0m\u001b[01;34mdatalab\u001b[0m/            \u001b[01;34m__pycache__\u001b[0m/\r\n"
          ],
          "name": "stdout"
        }
      ]
    },
    {
      "metadata": {
        "id": "IG-cIZQFZJSH",
        "colab_type": "code",
        "colab": {}
      },
      "cell_type": "code",
      "source": [
        "submission = pd.read_csv('sample_submission.csv')"
      ],
      "execution_count": 0,
      "outputs": []
    },
    {
      "metadata": {
        "id": "pXeD10c-Zo4w",
        "colab_type": "code",
        "colab": {
          "base_uri": "https://localhost:8080/",
          "height": 204
        },
        "outputId": "13b508d7-36d8-43e2-cad5-fd9f0bb66d87"
      },
      "cell_type": "code",
      "source": [
        "submission.head()"
      ],
      "execution_count": 7,
      "outputs": [
        {
          "output_type": "execute_result",
          "data": {
            "text/html": [
              "<div>\n",
              "<style scoped>\n",
              "    .dataframe tbody tr th:only-of-type {\n",
              "        vertical-align: middle;\n",
              "    }\n",
              "\n",
              "    .dataframe tbody tr th {\n",
              "        vertical-align: top;\n",
              "    }\n",
              "\n",
              "    .dataframe thead th {\n",
              "        text-align: right;\n",
              "    }\n",
              "</style>\n",
              "<table border=\"1\" class=\"dataframe\">\n",
              "  <thead>\n",
              "    <tr style=\"text-align: right;\">\n",
              "      <th></th>\n",
              "      <th>id</th>\n",
              "      <th>visitors</th>\n",
              "    </tr>\n",
              "  </thead>\n",
              "  <tbody>\n",
              "    <tr>\n",
              "      <th>0</th>\n",
              "      <td>air_00a91d42b08b08d9_2017-04-23</td>\n",
              "      <td>0</td>\n",
              "    </tr>\n",
              "    <tr>\n",
              "      <th>1</th>\n",
              "      <td>air_00a91d42b08b08d9_2017-04-24</td>\n",
              "      <td>0</td>\n",
              "    </tr>\n",
              "    <tr>\n",
              "      <th>2</th>\n",
              "      <td>air_00a91d42b08b08d9_2017-04-25</td>\n",
              "      <td>0</td>\n",
              "    </tr>\n",
              "    <tr>\n",
              "      <th>3</th>\n",
              "      <td>air_00a91d42b08b08d9_2017-04-26</td>\n",
              "      <td>0</td>\n",
              "    </tr>\n",
              "    <tr>\n",
              "      <th>4</th>\n",
              "      <td>air_00a91d42b08b08d9_2017-04-27</td>\n",
              "      <td>0</td>\n",
              "    </tr>\n",
              "  </tbody>\n",
              "</table>\n",
              "</div>"
            ],
            "text/plain": [
              "                                id  visitors\n",
              "0  air_00a91d42b08b08d9_2017-04-23         0\n",
              "1  air_00a91d42b08b08d9_2017-04-24         0\n",
              "2  air_00a91d42b08b08d9_2017-04-25         0\n",
              "3  air_00a91d42b08b08d9_2017-04-26         0\n",
              "4  air_00a91d42b08b08d9_2017-04-27         0"
            ]
          },
          "metadata": {
            "tags": []
          },
          "execution_count": 7
        }
      ]
    },
    {
      "metadata": {
        "id": "ENvQeFv4Zp6P",
        "colab_type": "code",
        "colab": {
          "base_uri": "https://localhost:8080/",
          "height": 204
        },
        "outputId": "4d987241-508b-4ad1-f005-81c394d6adbb"
      },
      "cell_type": "code",
      "source": [
        "submission.tail()"
      ],
      "execution_count": 8,
      "outputs": [
        {
          "output_type": "execute_result",
          "data": {
            "text/html": [
              "<div>\n",
              "<style scoped>\n",
              "    .dataframe tbody tr th:only-of-type {\n",
              "        vertical-align: middle;\n",
              "    }\n",
              "\n",
              "    .dataframe tbody tr th {\n",
              "        vertical-align: top;\n",
              "    }\n",
              "\n",
              "    .dataframe thead th {\n",
              "        text-align: right;\n",
              "    }\n",
              "</style>\n",
              "<table border=\"1\" class=\"dataframe\">\n",
              "  <thead>\n",
              "    <tr style=\"text-align: right;\">\n",
              "      <th></th>\n",
              "      <th>id</th>\n",
              "      <th>visitors</th>\n",
              "    </tr>\n",
              "  </thead>\n",
              "  <tbody>\n",
              "    <tr>\n",
              "      <th>32014</th>\n",
              "      <td>air_fff68b929994bfbd_2017-05-27</td>\n",
              "      <td>0</td>\n",
              "    </tr>\n",
              "    <tr>\n",
              "      <th>32015</th>\n",
              "      <td>air_fff68b929994bfbd_2017-05-28</td>\n",
              "      <td>0</td>\n",
              "    </tr>\n",
              "    <tr>\n",
              "      <th>32016</th>\n",
              "      <td>air_fff68b929994bfbd_2017-05-29</td>\n",
              "      <td>0</td>\n",
              "    </tr>\n",
              "    <tr>\n",
              "      <th>32017</th>\n",
              "      <td>air_fff68b929994bfbd_2017-05-30</td>\n",
              "      <td>0</td>\n",
              "    </tr>\n",
              "    <tr>\n",
              "      <th>32018</th>\n",
              "      <td>air_fff68b929994bfbd_2017-05-31</td>\n",
              "      <td>0</td>\n",
              "    </tr>\n",
              "  </tbody>\n",
              "</table>\n",
              "</div>"
            ],
            "text/plain": [
              "                                    id  visitors\n",
              "32014  air_fff68b929994bfbd_2017-05-27         0\n",
              "32015  air_fff68b929994bfbd_2017-05-28         0\n",
              "32016  air_fff68b929994bfbd_2017-05-29         0\n",
              "32017  air_fff68b929994bfbd_2017-05-30         0\n",
              "32018  air_fff68b929994bfbd_2017-05-31         0"
            ]
          },
          "metadata": {
            "tags": []
          },
          "execution_count": 8
        }
      ]
    },
    {
      "metadata": {
        "id": "VjEjZs8oaUlu",
        "colab_type": "code",
        "colab": {}
      },
      "cell_type": "code",
      "source": [
        "date_info = pd.read_csv('date_info.csv')"
      ],
      "execution_count": 0,
      "outputs": []
    },
    {
      "metadata": {
        "id": "GJh1v3TaaZUe",
        "colab_type": "code",
        "colab": {
          "base_uri": "https://localhost:8080/",
          "height": 204
        },
        "outputId": "08eed01b-d4e2-49f4-bf55-0ba310ba5e94"
      },
      "cell_type": "code",
      "source": [
        "date_info.head()"
      ],
      "execution_count": 10,
      "outputs": [
        {
          "output_type": "execute_result",
          "data": {
            "text/html": [
              "<div>\n",
              "<style scoped>\n",
              "    .dataframe tbody tr th:only-of-type {\n",
              "        vertical-align: middle;\n",
              "    }\n",
              "\n",
              "    .dataframe tbody tr th {\n",
              "        vertical-align: top;\n",
              "    }\n",
              "\n",
              "    .dataframe thead th {\n",
              "        text-align: right;\n",
              "    }\n",
              "</style>\n",
              "<table border=\"1\" class=\"dataframe\">\n",
              "  <thead>\n",
              "    <tr style=\"text-align: right;\">\n",
              "      <th></th>\n",
              "      <th>calendar_date</th>\n",
              "      <th>day_of_week</th>\n",
              "      <th>holiday_flg</th>\n",
              "    </tr>\n",
              "  </thead>\n",
              "  <tbody>\n",
              "    <tr>\n",
              "      <th>0</th>\n",
              "      <td>2016-01-01</td>\n",
              "      <td>Friday</td>\n",
              "      <td>1</td>\n",
              "    </tr>\n",
              "    <tr>\n",
              "      <th>1</th>\n",
              "      <td>2016-01-02</td>\n",
              "      <td>Saturday</td>\n",
              "      <td>1</td>\n",
              "    </tr>\n",
              "    <tr>\n",
              "      <th>2</th>\n",
              "      <td>2016-01-03</td>\n",
              "      <td>Sunday</td>\n",
              "      <td>1</td>\n",
              "    </tr>\n",
              "    <tr>\n",
              "      <th>3</th>\n",
              "      <td>2016-01-04</td>\n",
              "      <td>Monday</td>\n",
              "      <td>0</td>\n",
              "    </tr>\n",
              "    <tr>\n",
              "      <th>4</th>\n",
              "      <td>2016-01-05</td>\n",
              "      <td>Tuesday</td>\n",
              "      <td>0</td>\n",
              "    </tr>\n",
              "  </tbody>\n",
              "</table>\n",
              "</div>"
            ],
            "text/plain": [
              "  calendar_date day_of_week  holiday_flg\n",
              "0    2016-01-01      Friday            1\n",
              "1    2016-01-02    Saturday            1\n",
              "2    2016-01-03      Sunday            1\n",
              "3    2016-01-04      Monday            0\n",
              "4    2016-01-05     Tuesday            0"
            ]
          },
          "metadata": {
            "tags": []
          },
          "execution_count": 10
        }
      ]
    },
    {
      "metadata": {
        "id": "iGWlhcHuaaRz",
        "colab_type": "code",
        "colab": {
          "base_uri": "https://localhost:8080/",
          "height": 204
        },
        "outputId": "b9dfba1d-5673-480d-dc92-6f2f4d1eb5e5"
      },
      "cell_type": "code",
      "source": [
        "date_info.tail()"
      ],
      "execution_count": 11,
      "outputs": [
        {
          "output_type": "execute_result",
          "data": {
            "text/html": [
              "<div>\n",
              "<style scoped>\n",
              "    .dataframe tbody tr th:only-of-type {\n",
              "        vertical-align: middle;\n",
              "    }\n",
              "\n",
              "    .dataframe tbody tr th {\n",
              "        vertical-align: top;\n",
              "    }\n",
              "\n",
              "    .dataframe thead th {\n",
              "        text-align: right;\n",
              "    }\n",
              "</style>\n",
              "<table border=\"1\" class=\"dataframe\">\n",
              "  <thead>\n",
              "    <tr style=\"text-align: right;\">\n",
              "      <th></th>\n",
              "      <th>calendar_date</th>\n",
              "      <th>day_of_week</th>\n",
              "      <th>holiday_flg</th>\n",
              "    </tr>\n",
              "  </thead>\n",
              "  <tbody>\n",
              "    <tr>\n",
              "      <th>512</th>\n",
              "      <td>2017-05-27</td>\n",
              "      <td>Saturday</td>\n",
              "      <td>0</td>\n",
              "    </tr>\n",
              "    <tr>\n",
              "      <th>513</th>\n",
              "      <td>2017-05-28</td>\n",
              "      <td>Sunday</td>\n",
              "      <td>0</td>\n",
              "    </tr>\n",
              "    <tr>\n",
              "      <th>514</th>\n",
              "      <td>2017-05-29</td>\n",
              "      <td>Monday</td>\n",
              "      <td>0</td>\n",
              "    </tr>\n",
              "    <tr>\n",
              "      <th>515</th>\n",
              "      <td>2017-05-30</td>\n",
              "      <td>Tuesday</td>\n",
              "      <td>0</td>\n",
              "    </tr>\n",
              "    <tr>\n",
              "      <th>516</th>\n",
              "      <td>2017-05-31</td>\n",
              "      <td>Wednesday</td>\n",
              "      <td>0</td>\n",
              "    </tr>\n",
              "  </tbody>\n",
              "</table>\n",
              "</div>"
            ],
            "text/plain": [
              "    calendar_date day_of_week  holiday_flg\n",
              "512    2017-05-27    Saturday            0\n",
              "513    2017-05-28      Sunday            0\n",
              "514    2017-05-29      Monday            0\n",
              "515    2017-05-30     Tuesday            0\n",
              "516    2017-05-31   Wednesday            0"
            ]
          },
          "metadata": {
            "tags": []
          },
          "execution_count": 11
        }
      ]
    },
    {
      "metadata": {
        "id": "YE02wDmYahES",
        "colab_type": "code",
        "colab": {
          "base_uri": "https://localhost:8080/",
          "height": 204
        },
        "outputId": "4a00e8aa-233d-4d89-d1de-3c22033987f2"
      },
      "cell_type": "code",
      "source": [
        "air_reserve = pd.read_csv('air_reserve.csv')\n",
        "air_reserve.head()"
      ],
      "execution_count": 12,
      "outputs": [
        {
          "output_type": "execute_result",
          "data": {
            "text/html": [
              "<div>\n",
              "<style scoped>\n",
              "    .dataframe tbody tr th:only-of-type {\n",
              "        vertical-align: middle;\n",
              "    }\n",
              "\n",
              "    .dataframe tbody tr th {\n",
              "        vertical-align: top;\n",
              "    }\n",
              "\n",
              "    .dataframe thead th {\n",
              "        text-align: right;\n",
              "    }\n",
              "</style>\n",
              "<table border=\"1\" class=\"dataframe\">\n",
              "  <thead>\n",
              "    <tr style=\"text-align: right;\">\n",
              "      <th></th>\n",
              "      <th>air_store_id</th>\n",
              "      <th>visit_datetime</th>\n",
              "      <th>reserve_datetime</th>\n",
              "      <th>reserve_visitors</th>\n",
              "    </tr>\n",
              "  </thead>\n",
              "  <tbody>\n",
              "    <tr>\n",
              "      <th>0</th>\n",
              "      <td>air_877f79706adbfb06</td>\n",
              "      <td>2016-01-01 19:00:00</td>\n",
              "      <td>2016-01-01 16:00:00</td>\n",
              "      <td>1</td>\n",
              "    </tr>\n",
              "    <tr>\n",
              "      <th>1</th>\n",
              "      <td>air_db4b38ebe7a7ceff</td>\n",
              "      <td>2016-01-01 19:00:00</td>\n",
              "      <td>2016-01-01 19:00:00</td>\n",
              "      <td>3</td>\n",
              "    </tr>\n",
              "    <tr>\n",
              "      <th>2</th>\n",
              "      <td>air_db4b38ebe7a7ceff</td>\n",
              "      <td>2016-01-01 19:00:00</td>\n",
              "      <td>2016-01-01 19:00:00</td>\n",
              "      <td>6</td>\n",
              "    </tr>\n",
              "    <tr>\n",
              "      <th>3</th>\n",
              "      <td>air_877f79706adbfb06</td>\n",
              "      <td>2016-01-01 20:00:00</td>\n",
              "      <td>2016-01-01 16:00:00</td>\n",
              "      <td>2</td>\n",
              "    </tr>\n",
              "    <tr>\n",
              "      <th>4</th>\n",
              "      <td>air_db80363d35f10926</td>\n",
              "      <td>2016-01-01 20:00:00</td>\n",
              "      <td>2016-01-01 01:00:00</td>\n",
              "      <td>5</td>\n",
              "    </tr>\n",
              "  </tbody>\n",
              "</table>\n",
              "</div>"
            ],
            "text/plain": [
              "           air_store_id       visit_datetime     reserve_datetime  \\\n",
              "0  air_877f79706adbfb06  2016-01-01 19:00:00  2016-01-01 16:00:00   \n",
              "1  air_db4b38ebe7a7ceff  2016-01-01 19:00:00  2016-01-01 19:00:00   \n",
              "2  air_db4b38ebe7a7ceff  2016-01-01 19:00:00  2016-01-01 19:00:00   \n",
              "3  air_877f79706adbfb06  2016-01-01 20:00:00  2016-01-01 16:00:00   \n",
              "4  air_db80363d35f10926  2016-01-01 20:00:00  2016-01-01 01:00:00   \n",
              "\n",
              "   reserve_visitors  \n",
              "0                 1  \n",
              "1                 3  \n",
              "2                 6  \n",
              "3                 2  \n",
              "4                 5  "
            ]
          },
          "metadata": {
            "tags": []
          },
          "execution_count": 12
        }
      ]
    },
    {
      "metadata": {
        "id": "KIUgr3kXa5VS",
        "colab_type": "code",
        "colab": {
          "base_uri": "https://localhost:8080/",
          "height": 204
        },
        "outputId": "cb3b2d86-3af9-4607-fca1-5a421d4c34f0"
      },
      "cell_type": "code",
      "source": [
        "air_reserve.tail()"
      ],
      "execution_count": 13,
      "outputs": [
        {
          "output_type": "execute_result",
          "data": {
            "text/html": [
              "<div>\n",
              "<style scoped>\n",
              "    .dataframe tbody tr th:only-of-type {\n",
              "        vertical-align: middle;\n",
              "    }\n",
              "\n",
              "    .dataframe tbody tr th {\n",
              "        vertical-align: top;\n",
              "    }\n",
              "\n",
              "    .dataframe thead th {\n",
              "        text-align: right;\n",
              "    }\n",
              "</style>\n",
              "<table border=\"1\" class=\"dataframe\">\n",
              "  <thead>\n",
              "    <tr style=\"text-align: right;\">\n",
              "      <th></th>\n",
              "      <th>air_store_id</th>\n",
              "      <th>visit_datetime</th>\n",
              "      <th>reserve_datetime</th>\n",
              "      <th>reserve_visitors</th>\n",
              "    </tr>\n",
              "  </thead>\n",
              "  <tbody>\n",
              "    <tr>\n",
              "      <th>92373</th>\n",
              "      <td>air_db4b38ebe7a7ceff</td>\n",
              "      <td>2017-05-29 18:00:00</td>\n",
              "      <td>2017-04-17 19:00:00</td>\n",
              "      <td>6</td>\n",
              "    </tr>\n",
              "    <tr>\n",
              "      <th>92374</th>\n",
              "      <td>air_1033310359ceeac1</td>\n",
              "      <td>2017-05-30 23:00:00</td>\n",
              "      <td>2017-04-19 17:00:00</td>\n",
              "      <td>8</td>\n",
              "    </tr>\n",
              "    <tr>\n",
              "      <th>92375</th>\n",
              "      <td>air_877f79706adbfb06</td>\n",
              "      <td>2017-05-31 20:00:00</td>\n",
              "      <td>2017-04-12 23:00:00</td>\n",
              "      <td>3</td>\n",
              "    </tr>\n",
              "    <tr>\n",
              "      <th>92376</th>\n",
              "      <td>air_900d755ebd2f7bbd</td>\n",
              "      <td>2017-05-31 20:00:00</td>\n",
              "      <td>2017-04-19 16:00:00</td>\n",
              "      <td>10</td>\n",
              "    </tr>\n",
              "    <tr>\n",
              "      <th>92377</th>\n",
              "      <td>air_3cad29d1a23209d2</td>\n",
              "      <td>2017-05-31 21:00:00</td>\n",
              "      <td>2017-04-22 10:00:00</td>\n",
              "      <td>3</td>\n",
              "    </tr>\n",
              "  </tbody>\n",
              "</table>\n",
              "</div>"
            ],
            "text/plain": [
              "               air_store_id       visit_datetime     reserve_datetime  \\\n",
              "92373  air_db4b38ebe7a7ceff  2017-05-29 18:00:00  2017-04-17 19:00:00   \n",
              "92374  air_1033310359ceeac1  2017-05-30 23:00:00  2017-04-19 17:00:00   \n",
              "92375  air_877f79706adbfb06  2017-05-31 20:00:00  2017-04-12 23:00:00   \n",
              "92376  air_900d755ebd2f7bbd  2017-05-31 20:00:00  2017-04-19 16:00:00   \n",
              "92377  air_3cad29d1a23209d2  2017-05-31 21:00:00  2017-04-22 10:00:00   \n",
              "\n",
              "       reserve_visitors  \n",
              "92373                 6  \n",
              "92374                 8  \n",
              "92375                 3  \n",
              "92376                10  \n",
              "92377                 3  "
            ]
          },
          "metadata": {
            "tags": []
          },
          "execution_count": 13
        }
      ]
    },
    {
      "metadata": {
        "id": "d3eUDyxta8KR",
        "colab_type": "code",
        "colab": {}
      },
      "cell_type": "code",
      "source": [
        "hpg_reserve = pd.read_csv('hpg_reserve.csv')"
      ],
      "execution_count": 0,
      "outputs": []
    },
    {
      "metadata": {
        "id": "mOxuyuGTbO9d",
        "colab_type": "code",
        "colab": {
          "base_uri": "https://localhost:8080/",
          "height": 204
        },
        "outputId": "b1fdaab9-d7f2-453b-ecfb-b5867c94292d"
      },
      "cell_type": "code",
      "source": [
        "hpg_reserve.head()"
      ],
      "execution_count": 15,
      "outputs": [
        {
          "output_type": "execute_result",
          "data": {
            "text/html": [
              "<div>\n",
              "<style scoped>\n",
              "    .dataframe tbody tr th:only-of-type {\n",
              "        vertical-align: middle;\n",
              "    }\n",
              "\n",
              "    .dataframe tbody tr th {\n",
              "        vertical-align: top;\n",
              "    }\n",
              "\n",
              "    .dataframe thead th {\n",
              "        text-align: right;\n",
              "    }\n",
              "</style>\n",
              "<table border=\"1\" class=\"dataframe\">\n",
              "  <thead>\n",
              "    <tr style=\"text-align: right;\">\n",
              "      <th></th>\n",
              "      <th>hpg_store_id</th>\n",
              "      <th>visit_datetime</th>\n",
              "      <th>reserve_datetime</th>\n",
              "      <th>reserve_visitors</th>\n",
              "    </tr>\n",
              "  </thead>\n",
              "  <tbody>\n",
              "    <tr>\n",
              "      <th>0</th>\n",
              "      <td>hpg_c63f6f42e088e50f</td>\n",
              "      <td>2016-01-01 11:00:00</td>\n",
              "      <td>2016-01-01 09:00:00</td>\n",
              "      <td>1</td>\n",
              "    </tr>\n",
              "    <tr>\n",
              "      <th>1</th>\n",
              "      <td>hpg_dac72789163a3f47</td>\n",
              "      <td>2016-01-01 13:00:00</td>\n",
              "      <td>2016-01-01 06:00:00</td>\n",
              "      <td>3</td>\n",
              "    </tr>\n",
              "    <tr>\n",
              "      <th>2</th>\n",
              "      <td>hpg_c8e24dcf51ca1eb5</td>\n",
              "      <td>2016-01-01 16:00:00</td>\n",
              "      <td>2016-01-01 14:00:00</td>\n",
              "      <td>2</td>\n",
              "    </tr>\n",
              "    <tr>\n",
              "      <th>3</th>\n",
              "      <td>hpg_24bb207e5fd49d4a</td>\n",
              "      <td>2016-01-01 17:00:00</td>\n",
              "      <td>2016-01-01 11:00:00</td>\n",
              "      <td>5</td>\n",
              "    </tr>\n",
              "    <tr>\n",
              "      <th>4</th>\n",
              "      <td>hpg_25291c542ebb3bc2</td>\n",
              "      <td>2016-01-01 17:00:00</td>\n",
              "      <td>2016-01-01 03:00:00</td>\n",
              "      <td>13</td>\n",
              "    </tr>\n",
              "  </tbody>\n",
              "</table>\n",
              "</div>"
            ],
            "text/plain": [
              "           hpg_store_id       visit_datetime     reserve_datetime  \\\n",
              "0  hpg_c63f6f42e088e50f  2016-01-01 11:00:00  2016-01-01 09:00:00   \n",
              "1  hpg_dac72789163a3f47  2016-01-01 13:00:00  2016-01-01 06:00:00   \n",
              "2  hpg_c8e24dcf51ca1eb5  2016-01-01 16:00:00  2016-01-01 14:00:00   \n",
              "3  hpg_24bb207e5fd49d4a  2016-01-01 17:00:00  2016-01-01 11:00:00   \n",
              "4  hpg_25291c542ebb3bc2  2016-01-01 17:00:00  2016-01-01 03:00:00   \n",
              "\n",
              "   reserve_visitors  \n",
              "0                 1  \n",
              "1                 3  \n",
              "2                 2  \n",
              "3                 5  \n",
              "4                13  "
            ]
          },
          "metadata": {
            "tags": []
          },
          "execution_count": 15
        }
      ]
    },
    {
      "metadata": {
        "id": "5WWuk43AbQC0",
        "colab_type": "code",
        "colab": {
          "base_uri": "https://localhost:8080/",
          "height": 204
        },
        "outputId": "791f108f-6a24-47c1-c56d-d074121cb117"
      },
      "cell_type": "code",
      "source": [
        "hpg_reserve.tail()"
      ],
      "execution_count": 16,
      "outputs": [
        {
          "output_type": "execute_result",
          "data": {
            "text/html": [
              "<div>\n",
              "<style scoped>\n",
              "    .dataframe tbody tr th:only-of-type {\n",
              "        vertical-align: middle;\n",
              "    }\n",
              "\n",
              "    .dataframe tbody tr th {\n",
              "        vertical-align: top;\n",
              "    }\n",
              "\n",
              "    .dataframe thead th {\n",
              "        text-align: right;\n",
              "    }\n",
              "</style>\n",
              "<table border=\"1\" class=\"dataframe\">\n",
              "  <thead>\n",
              "    <tr style=\"text-align: right;\">\n",
              "      <th></th>\n",
              "      <th>hpg_store_id</th>\n",
              "      <th>visit_datetime</th>\n",
              "      <th>reserve_datetime</th>\n",
              "      <th>reserve_visitors</th>\n",
              "    </tr>\n",
              "  </thead>\n",
              "  <tbody>\n",
              "    <tr>\n",
              "      <th>2000315</th>\n",
              "      <td>hpg_2b293477ea4642fb</td>\n",
              "      <td>2017-05-31 20:00:00</td>\n",
              "      <td>2017-04-19 07:00:00</td>\n",
              "      <td>2</td>\n",
              "    </tr>\n",
              "    <tr>\n",
              "      <th>2000316</th>\n",
              "      <td>hpg_f922aeca48ca5a29</td>\n",
              "      <td>2017-05-31 20:00:00</td>\n",
              "      <td>2017-03-19 00:00:00</td>\n",
              "      <td>3</td>\n",
              "    </tr>\n",
              "    <tr>\n",
              "      <th>2000317</th>\n",
              "      <td>hpg_e9151de687b93aa3</td>\n",
              "      <td>2017-05-31 21:00:00</td>\n",
              "      <td>2017-04-14 20:00:00</td>\n",
              "      <td>49</td>\n",
              "    </tr>\n",
              "    <tr>\n",
              "      <th>2000318</th>\n",
              "      <td>hpg_fae6c96189b4a122</td>\n",
              "      <td>2017-05-31 21:00:00</td>\n",
              "      <td>2017-04-19 17:00:00</td>\n",
              "      <td>9</td>\n",
              "    </tr>\n",
              "    <tr>\n",
              "      <th>2000319</th>\n",
              "      <td>hpg_0b70de808b55ad1e</td>\n",
              "      <td>2017-05-31 23:00:00</td>\n",
              "      <td>2017-04-21 13:00:00</td>\n",
              "      <td>6</td>\n",
              "    </tr>\n",
              "  </tbody>\n",
              "</table>\n",
              "</div>"
            ],
            "text/plain": [
              "                 hpg_store_id       visit_datetime     reserve_datetime  \\\n",
              "2000315  hpg_2b293477ea4642fb  2017-05-31 20:00:00  2017-04-19 07:00:00   \n",
              "2000316  hpg_f922aeca48ca5a29  2017-05-31 20:00:00  2017-03-19 00:00:00   \n",
              "2000317  hpg_e9151de687b93aa3  2017-05-31 21:00:00  2017-04-14 20:00:00   \n",
              "2000318  hpg_fae6c96189b4a122  2017-05-31 21:00:00  2017-04-19 17:00:00   \n",
              "2000319  hpg_0b70de808b55ad1e  2017-05-31 23:00:00  2017-04-21 13:00:00   \n",
              "\n",
              "         reserve_visitors  \n",
              "2000315                 2  \n",
              "2000316                 3  \n",
              "2000317                49  \n",
              "2000318                 9  \n",
              "2000319                 6  "
            ]
          },
          "metadata": {
            "tags": []
          },
          "execution_count": 16
        }
      ]
    },
    {
      "metadata": {
        "id": "r7TSEor5bQzs",
        "colab_type": "code",
        "colab": {}
      },
      "cell_type": "code",
      "source": [
        "store_id_relation = pd.read_csv('store_id_relation.csv')"
      ],
      "execution_count": 0,
      "outputs": []
    },
    {
      "metadata": {
        "id": "lnYZuXZ1cdAm",
        "colab_type": "code",
        "colab": {
          "base_uri": "https://localhost:8080/",
          "height": 204
        },
        "outputId": "82943538-45ba-4991-dfc7-feacb3527f0d"
      },
      "cell_type": "code",
      "source": [
        "store_id_relation.head()"
      ],
      "execution_count": 18,
      "outputs": [
        {
          "output_type": "execute_result",
          "data": {
            "text/html": [
              "<div>\n",
              "<style scoped>\n",
              "    .dataframe tbody tr th:only-of-type {\n",
              "        vertical-align: middle;\n",
              "    }\n",
              "\n",
              "    .dataframe tbody tr th {\n",
              "        vertical-align: top;\n",
              "    }\n",
              "\n",
              "    .dataframe thead th {\n",
              "        text-align: right;\n",
              "    }\n",
              "</style>\n",
              "<table border=\"1\" class=\"dataframe\">\n",
              "  <thead>\n",
              "    <tr style=\"text-align: right;\">\n",
              "      <th></th>\n",
              "      <th>air_store_id</th>\n",
              "      <th>hpg_store_id</th>\n",
              "    </tr>\n",
              "  </thead>\n",
              "  <tbody>\n",
              "    <tr>\n",
              "      <th>0</th>\n",
              "      <td>air_63b13c56b7201bd9</td>\n",
              "      <td>hpg_4bc649e72e2a239a</td>\n",
              "    </tr>\n",
              "    <tr>\n",
              "      <th>1</th>\n",
              "      <td>air_a24bf50c3e90d583</td>\n",
              "      <td>hpg_c34b496d0305a809</td>\n",
              "    </tr>\n",
              "    <tr>\n",
              "      <th>2</th>\n",
              "      <td>air_c7f78b4f3cba33ff</td>\n",
              "      <td>hpg_cd8ae0d9bbd58ff9</td>\n",
              "    </tr>\n",
              "    <tr>\n",
              "      <th>3</th>\n",
              "      <td>air_947eb2cae4f3e8f2</td>\n",
              "      <td>hpg_de24ea49dc25d6b8</td>\n",
              "    </tr>\n",
              "    <tr>\n",
              "      <th>4</th>\n",
              "      <td>air_965b2e0cf4119003</td>\n",
              "      <td>hpg_653238a84804d8e7</td>\n",
              "    </tr>\n",
              "  </tbody>\n",
              "</table>\n",
              "</div>"
            ],
            "text/plain": [
              "           air_store_id          hpg_store_id\n",
              "0  air_63b13c56b7201bd9  hpg_4bc649e72e2a239a\n",
              "1  air_a24bf50c3e90d583  hpg_c34b496d0305a809\n",
              "2  air_c7f78b4f3cba33ff  hpg_cd8ae0d9bbd58ff9\n",
              "3  air_947eb2cae4f3e8f2  hpg_de24ea49dc25d6b8\n",
              "4  air_965b2e0cf4119003  hpg_653238a84804d8e7"
            ]
          },
          "metadata": {
            "tags": []
          },
          "execution_count": 18
        }
      ]
    },
    {
      "metadata": {
        "id": "q0sIBH5Ncd7e",
        "colab_type": "code",
        "colab": {
          "base_uri": "https://localhost:8080/",
          "height": 34
        },
        "outputId": "b8d6aab6-20e7-4ec4-9e7c-6f0a603819c0"
      },
      "cell_type": "code",
      "source": [
        "store_id_relation.shape"
      ],
      "execution_count": 19,
      "outputs": [
        {
          "output_type": "execute_result",
          "data": {
            "text/plain": [
              "(150, 2)"
            ]
          },
          "metadata": {
            "tags": []
          },
          "execution_count": 19
        }
      ]
    },
    {
      "metadata": {
        "id": "5M7DJaNecebR",
        "colab_type": "code",
        "colab": {}
      },
      "cell_type": "code",
      "source": [
        "air_visit_data = pd.read_csv('air_visit_data.csv')"
      ],
      "execution_count": 0,
      "outputs": []
    },
    {
      "metadata": {
        "id": "CnoQF67Ic3hw",
        "colab_type": "code",
        "colab": {
          "base_uri": "https://localhost:8080/",
          "height": 204
        },
        "outputId": "53995d33-dec4-4d76-9cb7-b8bd33b345c5"
      },
      "cell_type": "code",
      "source": [
        "air_visit_data.head()"
      ],
      "execution_count": 21,
      "outputs": [
        {
          "output_type": "execute_result",
          "data": {
            "text/html": [
              "<div>\n",
              "<style scoped>\n",
              "    .dataframe tbody tr th:only-of-type {\n",
              "        vertical-align: middle;\n",
              "    }\n",
              "\n",
              "    .dataframe tbody tr th {\n",
              "        vertical-align: top;\n",
              "    }\n",
              "\n",
              "    .dataframe thead th {\n",
              "        text-align: right;\n",
              "    }\n",
              "</style>\n",
              "<table border=\"1\" class=\"dataframe\">\n",
              "  <thead>\n",
              "    <tr style=\"text-align: right;\">\n",
              "      <th></th>\n",
              "      <th>air_store_id</th>\n",
              "      <th>visit_date</th>\n",
              "      <th>visitors</th>\n",
              "    </tr>\n",
              "  </thead>\n",
              "  <tbody>\n",
              "    <tr>\n",
              "      <th>0</th>\n",
              "      <td>air_ba937bf13d40fb24</td>\n",
              "      <td>2016-01-13</td>\n",
              "      <td>25</td>\n",
              "    </tr>\n",
              "    <tr>\n",
              "      <th>1</th>\n",
              "      <td>air_ba937bf13d40fb24</td>\n",
              "      <td>2016-01-14</td>\n",
              "      <td>32</td>\n",
              "    </tr>\n",
              "    <tr>\n",
              "      <th>2</th>\n",
              "      <td>air_ba937bf13d40fb24</td>\n",
              "      <td>2016-01-15</td>\n",
              "      <td>29</td>\n",
              "    </tr>\n",
              "    <tr>\n",
              "      <th>3</th>\n",
              "      <td>air_ba937bf13d40fb24</td>\n",
              "      <td>2016-01-16</td>\n",
              "      <td>22</td>\n",
              "    </tr>\n",
              "    <tr>\n",
              "      <th>4</th>\n",
              "      <td>air_ba937bf13d40fb24</td>\n",
              "      <td>2016-01-18</td>\n",
              "      <td>6</td>\n",
              "    </tr>\n",
              "  </tbody>\n",
              "</table>\n",
              "</div>"
            ],
            "text/plain": [
              "           air_store_id  visit_date  visitors\n",
              "0  air_ba937bf13d40fb24  2016-01-13        25\n",
              "1  air_ba937bf13d40fb24  2016-01-14        32\n",
              "2  air_ba937bf13d40fb24  2016-01-15        29\n",
              "3  air_ba937bf13d40fb24  2016-01-16        22\n",
              "4  air_ba937bf13d40fb24  2016-01-18         6"
            ]
          },
          "metadata": {
            "tags": []
          },
          "execution_count": 21
        }
      ]
    },
    {
      "metadata": {
        "id": "Dw3ZpdyFc4eq",
        "colab_type": "code",
        "colab": {
          "base_uri": "https://localhost:8080/",
          "height": 204
        },
        "outputId": "f7583d47-cdec-4c1c-cd6b-72ad373f514d"
      },
      "cell_type": "code",
      "source": [
        "air_visit_data.tail()"
      ],
      "execution_count": 22,
      "outputs": [
        {
          "output_type": "execute_result",
          "data": {
            "text/html": [
              "<div>\n",
              "<style scoped>\n",
              "    .dataframe tbody tr th:only-of-type {\n",
              "        vertical-align: middle;\n",
              "    }\n",
              "\n",
              "    .dataframe tbody tr th {\n",
              "        vertical-align: top;\n",
              "    }\n",
              "\n",
              "    .dataframe thead th {\n",
              "        text-align: right;\n",
              "    }\n",
              "</style>\n",
              "<table border=\"1\" class=\"dataframe\">\n",
              "  <thead>\n",
              "    <tr style=\"text-align: right;\">\n",
              "      <th></th>\n",
              "      <th>air_store_id</th>\n",
              "      <th>visit_date</th>\n",
              "      <th>visitors</th>\n",
              "    </tr>\n",
              "  </thead>\n",
              "  <tbody>\n",
              "    <tr>\n",
              "      <th>252103</th>\n",
              "      <td>air_24e8414b9b07decb</td>\n",
              "      <td>2017-04-18</td>\n",
              "      <td>6</td>\n",
              "    </tr>\n",
              "    <tr>\n",
              "      <th>252104</th>\n",
              "      <td>air_24e8414b9b07decb</td>\n",
              "      <td>2017-04-19</td>\n",
              "      <td>6</td>\n",
              "    </tr>\n",
              "    <tr>\n",
              "      <th>252105</th>\n",
              "      <td>air_24e8414b9b07decb</td>\n",
              "      <td>2017-04-20</td>\n",
              "      <td>7</td>\n",
              "    </tr>\n",
              "    <tr>\n",
              "      <th>252106</th>\n",
              "      <td>air_24e8414b9b07decb</td>\n",
              "      <td>2017-04-21</td>\n",
              "      <td>8</td>\n",
              "    </tr>\n",
              "    <tr>\n",
              "      <th>252107</th>\n",
              "      <td>air_24e8414b9b07decb</td>\n",
              "      <td>2017-04-22</td>\n",
              "      <td>5</td>\n",
              "    </tr>\n",
              "  </tbody>\n",
              "</table>\n",
              "</div>"
            ],
            "text/plain": [
              "                air_store_id  visit_date  visitors\n",
              "252103  air_24e8414b9b07decb  2017-04-18         6\n",
              "252104  air_24e8414b9b07decb  2017-04-19         6\n",
              "252105  air_24e8414b9b07decb  2017-04-20         7\n",
              "252106  air_24e8414b9b07decb  2017-04-21         8\n",
              "252107  air_24e8414b9b07decb  2017-04-22         5"
            ]
          },
          "metadata": {
            "tags": []
          },
          "execution_count": 22
        }
      ]
    },
    {
      "metadata": {
        "id": "FA5EXBB2c5r-",
        "colab_type": "code",
        "colab": {
          "base_uri": "https://localhost:8080/",
          "height": 221
        },
        "outputId": "f7d32557-8fa9-4d01-dcf6-8edb9e7ce3a8"
      },
      "cell_type": "code",
      "source": [
        "dates = pd.DataFrame(np.unique(air_visit_data['visit_date']))\n",
        "print(dates.head())\n",
        "print(dates.tail())"
      ],
      "execution_count": 23,
      "outputs": [
        {
          "output_type": "stream",
          "text": [
            "            0\n",
            "0  2016-01-01\n",
            "1  2016-01-02\n",
            "2  2016-01-03\n",
            "3  2016-01-04\n",
            "4  2016-01-05\n",
            "              0\n",
            "473  2017-04-18\n",
            "474  2017-04-19\n",
            "475  2017-04-20\n",
            "476  2017-04-21\n",
            "477  2017-04-22\n"
          ],
          "name": "stdout"
        }
      ]
    },
    {
      "metadata": {
        "id": "CfJNebhldNHm",
        "colab_type": "code",
        "colab": {}
      },
      "cell_type": "code",
      "source": [
        "air_store_info = pd.read_csv('air_store_info.csv')"
      ],
      "execution_count": 0,
      "outputs": []
    },
    {
      "metadata": {
        "id": "LE_6UBbKfHjl",
        "colab_type": "code",
        "colab": {
          "base_uri": "https://localhost:8080/",
          "height": 204
        },
        "outputId": "3a7e57bc-d857-47d1-8f1b-63701edd9721"
      },
      "cell_type": "code",
      "source": [
        "air_store_info.head()"
      ],
      "execution_count": 25,
      "outputs": [
        {
          "output_type": "execute_result",
          "data": {
            "text/html": [
              "<div>\n",
              "<style scoped>\n",
              "    .dataframe tbody tr th:only-of-type {\n",
              "        vertical-align: middle;\n",
              "    }\n",
              "\n",
              "    .dataframe tbody tr th {\n",
              "        vertical-align: top;\n",
              "    }\n",
              "\n",
              "    .dataframe thead th {\n",
              "        text-align: right;\n",
              "    }\n",
              "</style>\n",
              "<table border=\"1\" class=\"dataframe\">\n",
              "  <thead>\n",
              "    <tr style=\"text-align: right;\">\n",
              "      <th></th>\n",
              "      <th>air_store_id</th>\n",
              "      <th>air_genre_name</th>\n",
              "      <th>air_area_name</th>\n",
              "      <th>latitude</th>\n",
              "      <th>longitude</th>\n",
              "    </tr>\n",
              "  </thead>\n",
              "  <tbody>\n",
              "    <tr>\n",
              "      <th>0</th>\n",
              "      <td>air_0f0cdeee6c9bf3d7</td>\n",
              "      <td>Italian/French</td>\n",
              "      <td>Hyōgo-ken Kōbe-shi Kumoidōri</td>\n",
              "      <td>34.695124</td>\n",
              "      <td>135.197852</td>\n",
              "    </tr>\n",
              "    <tr>\n",
              "      <th>1</th>\n",
              "      <td>air_7cc17a324ae5c7dc</td>\n",
              "      <td>Italian/French</td>\n",
              "      <td>Hyōgo-ken Kōbe-shi Kumoidōri</td>\n",
              "      <td>34.695124</td>\n",
              "      <td>135.197852</td>\n",
              "    </tr>\n",
              "    <tr>\n",
              "      <th>2</th>\n",
              "      <td>air_fee8dcf4d619598e</td>\n",
              "      <td>Italian/French</td>\n",
              "      <td>Hyōgo-ken Kōbe-shi Kumoidōri</td>\n",
              "      <td>34.695124</td>\n",
              "      <td>135.197852</td>\n",
              "    </tr>\n",
              "    <tr>\n",
              "      <th>3</th>\n",
              "      <td>air_a17f0778617c76e2</td>\n",
              "      <td>Italian/French</td>\n",
              "      <td>Hyōgo-ken Kōbe-shi Kumoidōri</td>\n",
              "      <td>34.695124</td>\n",
              "      <td>135.197852</td>\n",
              "    </tr>\n",
              "    <tr>\n",
              "      <th>4</th>\n",
              "      <td>air_83db5aff8f50478e</td>\n",
              "      <td>Italian/French</td>\n",
              "      <td>Tōkyō-to Minato-ku Shibakōen</td>\n",
              "      <td>35.658068</td>\n",
              "      <td>139.751599</td>\n",
              "    </tr>\n",
              "  </tbody>\n",
              "</table>\n",
              "</div>"
            ],
            "text/plain": [
              "           air_store_id  air_genre_name                 air_area_name  \\\n",
              "0  air_0f0cdeee6c9bf3d7  Italian/French  Hyōgo-ken Kōbe-shi Kumoidōri   \n",
              "1  air_7cc17a324ae5c7dc  Italian/French  Hyōgo-ken Kōbe-shi Kumoidōri   \n",
              "2  air_fee8dcf4d619598e  Italian/French  Hyōgo-ken Kōbe-shi Kumoidōri   \n",
              "3  air_a17f0778617c76e2  Italian/French  Hyōgo-ken Kōbe-shi Kumoidōri   \n",
              "4  air_83db5aff8f50478e  Italian/French  Tōkyō-to Minato-ku Shibakōen   \n",
              "\n",
              "    latitude   longitude  \n",
              "0  34.695124  135.197852  \n",
              "1  34.695124  135.197852  \n",
              "2  34.695124  135.197852  \n",
              "3  34.695124  135.197852  \n",
              "4  35.658068  139.751599  "
            ]
          },
          "metadata": {
            "tags": []
          },
          "execution_count": 25
        }
      ]
    },
    {
      "metadata": {
        "id": "Ps_dAt6gfIMc",
        "colab_type": "code",
        "colab": {
          "base_uri": "https://localhost:8080/",
          "height": 204
        },
        "outputId": "9e7654ac-e85c-4663-be7a-fcf00d89ced4"
      },
      "cell_type": "code",
      "source": [
        "air_store_info.tail()"
      ],
      "execution_count": 26,
      "outputs": [
        {
          "output_type": "execute_result",
          "data": {
            "text/html": [
              "<div>\n",
              "<style scoped>\n",
              "    .dataframe tbody tr th:only-of-type {\n",
              "        vertical-align: middle;\n",
              "    }\n",
              "\n",
              "    .dataframe tbody tr th {\n",
              "        vertical-align: top;\n",
              "    }\n",
              "\n",
              "    .dataframe thead th {\n",
              "        text-align: right;\n",
              "    }\n",
              "</style>\n",
              "<table border=\"1\" class=\"dataframe\">\n",
              "  <thead>\n",
              "    <tr style=\"text-align: right;\">\n",
              "      <th></th>\n",
              "      <th>air_store_id</th>\n",
              "      <th>air_genre_name</th>\n",
              "      <th>air_area_name</th>\n",
              "      <th>latitude</th>\n",
              "      <th>longitude</th>\n",
              "    </tr>\n",
              "  </thead>\n",
              "  <tbody>\n",
              "    <tr>\n",
              "      <th>824</th>\n",
              "      <td>air_9bf595ef095572fb</td>\n",
              "      <td>International cuisine</td>\n",
              "      <td>Tōkyō-to Shibuya-ku Shibuya</td>\n",
              "      <td>35.661777</td>\n",
              "      <td>139.704051</td>\n",
              "    </tr>\n",
              "    <tr>\n",
              "      <th>825</th>\n",
              "      <td>air_764f71040a413d4d</td>\n",
              "      <td>Asian</td>\n",
              "      <td>Tōkyō-to Shibuya-ku Shibuya</td>\n",
              "      <td>35.661777</td>\n",
              "      <td>139.704051</td>\n",
              "    </tr>\n",
              "    <tr>\n",
              "      <th>826</th>\n",
              "      <td>air_10bbe8acd943d8f6</td>\n",
              "      <td>Asian</td>\n",
              "      <td>Tōkyō-to Shibuya-ku Shibuya</td>\n",
              "      <td>35.661777</td>\n",
              "      <td>139.704051</td>\n",
              "    </tr>\n",
              "    <tr>\n",
              "      <th>827</th>\n",
              "      <td>air_7514d90009613cd6</td>\n",
              "      <td>Karaoke/Party</td>\n",
              "      <td>Hokkaidō Sapporo-shi Minami 3 Jōnishi</td>\n",
              "      <td>43.055460</td>\n",
              "      <td>141.340956</td>\n",
              "    </tr>\n",
              "    <tr>\n",
              "      <th>828</th>\n",
              "      <td>air_c8fe396d6c46275d</td>\n",
              "      <td>Karaoke/Party</td>\n",
              "      <td>Hokkaidō Sapporo-shi Minami 3 Jōnishi</td>\n",
              "      <td>43.055460</td>\n",
              "      <td>141.340956</td>\n",
              "    </tr>\n",
              "  </tbody>\n",
              "</table>\n",
              "</div>"
            ],
            "text/plain": [
              "             air_store_id         air_genre_name  \\\n",
              "824  air_9bf595ef095572fb  International cuisine   \n",
              "825  air_764f71040a413d4d                  Asian   \n",
              "826  air_10bbe8acd943d8f6                  Asian   \n",
              "827  air_7514d90009613cd6          Karaoke/Party   \n",
              "828  air_c8fe396d6c46275d          Karaoke/Party   \n",
              "\n",
              "                             air_area_name   latitude   longitude  \n",
              "824            Tōkyō-to Shibuya-ku Shibuya  35.661777  139.704051  \n",
              "825            Tōkyō-to Shibuya-ku Shibuya  35.661777  139.704051  \n",
              "826            Tōkyō-to Shibuya-ku Shibuya  35.661777  139.704051  \n",
              "827  Hokkaidō Sapporo-shi Minami 3 Jōnishi  43.055460  141.340956  \n",
              "828  Hokkaidō Sapporo-shi Minami 3 Jōnishi  43.055460  141.340956  "
            ]
          },
          "metadata": {
            "tags": []
          },
          "execution_count": 26
        }
      ]
    },
    {
      "metadata": {
        "id": "-sFHUcF1lSgx",
        "colab_type": "code",
        "colab": {
          "base_uri": "https://localhost:8080/",
          "height": 34
        },
        "outputId": "870a87f6-938a-484c-c90f-876c47bd3c6c"
      },
      "cell_type": "code",
      "source": [
        "air_store_info.shape"
      ],
      "execution_count": 27,
      "outputs": [
        {
          "output_type": "execute_result",
          "data": {
            "text/plain": [
              "(829, 5)"
            ]
          },
          "metadata": {
            "tags": []
          },
          "execution_count": 27
        }
      ]
    },
    {
      "metadata": {
        "id": "B9kH6gfsfJJw",
        "colab_type": "code",
        "colab": {}
      },
      "cell_type": "code",
      "source": [
        "hpg_store_info = pd.read_csv('hpg_store_info.csv')"
      ],
      "execution_count": 0,
      "outputs": []
    },
    {
      "metadata": {
        "id": "CM5v0hBNg6Do",
        "colab_type": "code",
        "colab": {
          "base_uri": "https://localhost:8080/",
          "height": 204
        },
        "outputId": "af83d2b4-7fd5-4ede-a313-6b42c51f6b19"
      },
      "cell_type": "code",
      "source": [
        "hpg_store_info.head()"
      ],
      "execution_count": 29,
      "outputs": [
        {
          "output_type": "execute_result",
          "data": {
            "text/html": [
              "<div>\n",
              "<style scoped>\n",
              "    .dataframe tbody tr th:only-of-type {\n",
              "        vertical-align: middle;\n",
              "    }\n",
              "\n",
              "    .dataframe tbody tr th {\n",
              "        vertical-align: top;\n",
              "    }\n",
              "\n",
              "    .dataframe thead th {\n",
              "        text-align: right;\n",
              "    }\n",
              "</style>\n",
              "<table border=\"1\" class=\"dataframe\">\n",
              "  <thead>\n",
              "    <tr style=\"text-align: right;\">\n",
              "      <th></th>\n",
              "      <th>hpg_store_id</th>\n",
              "      <th>hpg_genre_name</th>\n",
              "      <th>hpg_area_name</th>\n",
              "      <th>latitude</th>\n",
              "      <th>longitude</th>\n",
              "    </tr>\n",
              "  </thead>\n",
              "  <tbody>\n",
              "    <tr>\n",
              "      <th>0</th>\n",
              "      <td>hpg_6622b62385aec8bf</td>\n",
              "      <td>Japanese style</td>\n",
              "      <td>Tōkyō-to Setagaya-ku Taishidō</td>\n",
              "      <td>35.643675</td>\n",
              "      <td>139.668221</td>\n",
              "    </tr>\n",
              "    <tr>\n",
              "      <th>1</th>\n",
              "      <td>hpg_e9e068dd49c5fa00</td>\n",
              "      <td>Japanese style</td>\n",
              "      <td>Tōkyō-to Setagaya-ku Taishidō</td>\n",
              "      <td>35.643675</td>\n",
              "      <td>139.668221</td>\n",
              "    </tr>\n",
              "    <tr>\n",
              "      <th>2</th>\n",
              "      <td>hpg_2976f7acb4b3a3bc</td>\n",
              "      <td>Japanese style</td>\n",
              "      <td>Tōkyō-to Setagaya-ku Taishidō</td>\n",
              "      <td>35.643675</td>\n",
              "      <td>139.668221</td>\n",
              "    </tr>\n",
              "    <tr>\n",
              "      <th>3</th>\n",
              "      <td>hpg_e51a522e098f024c</td>\n",
              "      <td>Japanese style</td>\n",
              "      <td>Tōkyō-to Setagaya-ku Taishidō</td>\n",
              "      <td>35.643675</td>\n",
              "      <td>139.668221</td>\n",
              "    </tr>\n",
              "    <tr>\n",
              "      <th>4</th>\n",
              "      <td>hpg_e3d0e1519894f275</td>\n",
              "      <td>Japanese style</td>\n",
              "      <td>Tōkyō-to Setagaya-ku Taishidō</td>\n",
              "      <td>35.643675</td>\n",
              "      <td>139.668221</td>\n",
              "    </tr>\n",
              "  </tbody>\n",
              "</table>\n",
              "</div>"
            ],
            "text/plain": [
              "           hpg_store_id  hpg_genre_name                  hpg_area_name  \\\n",
              "0  hpg_6622b62385aec8bf  Japanese style  Tōkyō-to Setagaya-ku Taishidō   \n",
              "1  hpg_e9e068dd49c5fa00  Japanese style  Tōkyō-to Setagaya-ku Taishidō   \n",
              "2  hpg_2976f7acb4b3a3bc  Japanese style  Tōkyō-to Setagaya-ku Taishidō   \n",
              "3  hpg_e51a522e098f024c  Japanese style  Tōkyō-to Setagaya-ku Taishidō   \n",
              "4  hpg_e3d0e1519894f275  Japanese style  Tōkyō-to Setagaya-ku Taishidō   \n",
              "\n",
              "    latitude   longitude  \n",
              "0  35.643675  139.668221  \n",
              "1  35.643675  139.668221  \n",
              "2  35.643675  139.668221  \n",
              "3  35.643675  139.668221  \n",
              "4  35.643675  139.668221  "
            ]
          },
          "metadata": {
            "tags": []
          },
          "execution_count": 29
        }
      ]
    },
    {
      "metadata": {
        "id": "G5rNCPKeg6zY",
        "colab_type": "code",
        "colab": {
          "base_uri": "https://localhost:8080/",
          "height": 204
        },
        "outputId": "64082ddb-61d4-4d31-fe7c-ea591a2fefac"
      },
      "cell_type": "code",
      "source": [
        "hpg_store_info.tail()"
      ],
      "execution_count": 30,
      "outputs": [
        {
          "output_type": "execute_result",
          "data": {
            "text/html": [
              "<div>\n",
              "<style scoped>\n",
              "    .dataframe tbody tr th:only-of-type {\n",
              "        vertical-align: middle;\n",
              "    }\n",
              "\n",
              "    .dataframe tbody tr th {\n",
              "        vertical-align: top;\n",
              "    }\n",
              "\n",
              "    .dataframe thead th {\n",
              "        text-align: right;\n",
              "    }\n",
              "</style>\n",
              "<table border=\"1\" class=\"dataframe\">\n",
              "  <thead>\n",
              "    <tr style=\"text-align: right;\">\n",
              "      <th></th>\n",
              "      <th>hpg_store_id</th>\n",
              "      <th>hpg_genre_name</th>\n",
              "      <th>hpg_area_name</th>\n",
              "      <th>latitude</th>\n",
              "      <th>longitude</th>\n",
              "    </tr>\n",
              "  </thead>\n",
              "  <tbody>\n",
              "    <tr>\n",
              "      <th>4685</th>\n",
              "      <td>hpg_c6ed353a48c7c93e</td>\n",
              "      <td>Sichuan food</td>\n",
              "      <td>Tōkyō-to Chiyoda-ku None</td>\n",
              "      <td>35.695780</td>\n",
              "      <td>139.768453</td>\n",
              "    </tr>\n",
              "    <tr>\n",
              "      <th>4686</th>\n",
              "      <td>hpg_a58d2423360b2fb4</td>\n",
              "      <td>Sichuan food</td>\n",
              "      <td>Tōkyō-to Minato-ku Roppongi</td>\n",
              "      <td>35.666137</td>\n",
              "      <td>139.733978</td>\n",
              "    </tr>\n",
              "    <tr>\n",
              "      <th>4687</th>\n",
              "      <td>hpg_d2021704076cdd70</td>\n",
              "      <td>Shanghai food</td>\n",
              "      <td>Tōkyō-to Chiyoda-ku None</td>\n",
              "      <td>35.695780</td>\n",
              "      <td>139.768453</td>\n",
              "    </tr>\n",
              "    <tr>\n",
              "      <th>4688</th>\n",
              "      <td>hpg_602472570d65e219</td>\n",
              "      <td>Spain/Mediterranean cuisine</td>\n",
              "      <td>Tōkyō-to Toshima-ku None</td>\n",
              "      <td>35.730068</td>\n",
              "      <td>139.711742</td>\n",
              "    </tr>\n",
              "    <tr>\n",
              "      <th>4689</th>\n",
              "      <td>hpg_11801306ce8bfb4f</td>\n",
              "      <td>Udon/Soba</td>\n",
              "      <td>Osaka Prefecture Osaka None</td>\n",
              "      <td>34.701519</td>\n",
              "      <td>135.498859</td>\n",
              "    </tr>\n",
              "  </tbody>\n",
              "</table>\n",
              "</div>"
            ],
            "text/plain": [
              "              hpg_store_id               hpg_genre_name  \\\n",
              "4685  hpg_c6ed353a48c7c93e                 Sichuan food   \n",
              "4686  hpg_a58d2423360b2fb4                 Sichuan food   \n",
              "4687  hpg_d2021704076cdd70                Shanghai food   \n",
              "4688  hpg_602472570d65e219  Spain/Mediterranean cuisine   \n",
              "4689  hpg_11801306ce8bfb4f                    Udon/Soba   \n",
              "\n",
              "                    hpg_area_name   latitude   longitude  \n",
              "4685     Tōkyō-to Chiyoda-ku None  35.695780  139.768453  \n",
              "4686  Tōkyō-to Minato-ku Roppongi  35.666137  139.733978  \n",
              "4687     Tōkyō-to Chiyoda-ku None  35.695780  139.768453  \n",
              "4688     Tōkyō-to Toshima-ku None  35.730068  139.711742  \n",
              "4689  Osaka Prefecture Osaka None  34.701519  135.498859  "
            ]
          },
          "metadata": {
            "tags": []
          },
          "execution_count": 30
        }
      ]
    },
    {
      "metadata": {
        "id": "w95I-KYdg8X3",
        "colab_type": "text"
      },
      "cell_type": "markdown",
      "source": [
        "hpg_store_id多くない…？\n",
        "よく見たらair_store_idも828あるわ。\n",
        "そういうことか。air_storeの828が正だけど、hpg_storeにも入ってるのはそのうち150店だけで、\n",
        "予測と関係ない店も4500件くらい入ってるわけね…。"
      ]
    },
    {
      "metadata": {
        "id": "SU9pEHTQiEy8",
        "colab_type": "text"
      },
      "cell_type": "markdown",
      "source": [
        "とりあえずどんな特徴でやるか。  \n",
        "- air_store_id\n",
        "- 休日の何日前か(休日なら0)\n",
        "- 前日のvisitor数\n",
        "- 前回の休日のvisitor数\n",
        "- 前回の平日のvisitor数\n",
        "\n",
        "よく見たらholiday_flgは祝日だけ1なんやな"
      ]
    },
    {
      "metadata": {
        "id": "bXCNX7m3oACW",
        "colab_type": "code",
        "colab": {}
      },
      "cell_type": "code",
      "source": [
        "df = air_visit_data.copy()"
      ],
      "execution_count": 0,
      "outputs": []
    },
    {
      "metadata": {
        "id": "Sm1h2fhFok2T",
        "colab_type": "code",
        "colab": {
          "base_uri": "https://localhost:8080/",
          "height": 204
        },
        "outputId": "283cabe8-9640-42e3-c718-5088e2683f93"
      },
      "cell_type": "code",
      "source": [
        "df.head()"
      ],
      "execution_count": 145,
      "outputs": [
        {
          "output_type": "execute_result",
          "data": {
            "text/html": [
              "<div>\n",
              "<style scoped>\n",
              "    .dataframe tbody tr th:only-of-type {\n",
              "        vertical-align: middle;\n",
              "    }\n",
              "\n",
              "    .dataframe tbody tr th {\n",
              "        vertical-align: top;\n",
              "    }\n",
              "\n",
              "    .dataframe thead th {\n",
              "        text-align: right;\n",
              "    }\n",
              "</style>\n",
              "<table border=\"1\" class=\"dataframe\">\n",
              "  <thead>\n",
              "    <tr style=\"text-align: right;\">\n",
              "      <th></th>\n",
              "      <th>air_store_id</th>\n",
              "      <th>visit_date</th>\n",
              "      <th>visitors</th>\n",
              "    </tr>\n",
              "  </thead>\n",
              "  <tbody>\n",
              "    <tr>\n",
              "      <th>0</th>\n",
              "      <td>air_ba937bf13d40fb24</td>\n",
              "      <td>2016-01-13</td>\n",
              "      <td>25</td>\n",
              "    </tr>\n",
              "    <tr>\n",
              "      <th>1</th>\n",
              "      <td>air_ba937bf13d40fb24</td>\n",
              "      <td>2016-01-14</td>\n",
              "      <td>32</td>\n",
              "    </tr>\n",
              "    <tr>\n",
              "      <th>2</th>\n",
              "      <td>air_ba937bf13d40fb24</td>\n",
              "      <td>2016-01-15</td>\n",
              "      <td>29</td>\n",
              "    </tr>\n",
              "    <tr>\n",
              "      <th>3</th>\n",
              "      <td>air_ba937bf13d40fb24</td>\n",
              "      <td>2016-01-16</td>\n",
              "      <td>22</td>\n",
              "    </tr>\n",
              "    <tr>\n",
              "      <th>4</th>\n",
              "      <td>air_ba937bf13d40fb24</td>\n",
              "      <td>2016-01-18</td>\n",
              "      <td>6</td>\n",
              "    </tr>\n",
              "  </tbody>\n",
              "</table>\n",
              "</div>"
            ],
            "text/plain": [
              "           air_store_id  visit_date  visitors\n",
              "0  air_ba937bf13d40fb24  2016-01-13        25\n",
              "1  air_ba937bf13d40fb24  2016-01-14        32\n",
              "2  air_ba937bf13d40fb24  2016-01-15        29\n",
              "3  air_ba937bf13d40fb24  2016-01-16        22\n",
              "4  air_ba937bf13d40fb24  2016-01-18         6"
            ]
          },
          "metadata": {
            "tags": []
          },
          "execution_count": 145
        }
      ]
    },
    {
      "metadata": {
        "id": "Bjhf5b_molPo",
        "colab_type": "code",
        "colab": {
          "base_uri": "https://localhost:8080/",
          "height": 204
        },
        "outputId": "b79d7483-db64-4c00-b686-8d8ec4db2373"
      },
      "cell_type": "code",
      "source": [
        "date_info = pd.read_csv('date_info.csv')\n",
        "date_info.head()"
      ],
      "execution_count": 146,
      "outputs": [
        {
          "output_type": "execute_result",
          "data": {
            "text/html": [
              "<div>\n",
              "<style scoped>\n",
              "    .dataframe tbody tr th:only-of-type {\n",
              "        vertical-align: middle;\n",
              "    }\n",
              "\n",
              "    .dataframe tbody tr th {\n",
              "        vertical-align: top;\n",
              "    }\n",
              "\n",
              "    .dataframe thead th {\n",
              "        text-align: right;\n",
              "    }\n",
              "</style>\n",
              "<table border=\"1\" class=\"dataframe\">\n",
              "  <thead>\n",
              "    <tr style=\"text-align: right;\">\n",
              "      <th></th>\n",
              "      <th>calendar_date</th>\n",
              "      <th>day_of_week</th>\n",
              "      <th>holiday_flg</th>\n",
              "    </tr>\n",
              "  </thead>\n",
              "  <tbody>\n",
              "    <tr>\n",
              "      <th>0</th>\n",
              "      <td>2016-01-01</td>\n",
              "      <td>Friday</td>\n",
              "      <td>1</td>\n",
              "    </tr>\n",
              "    <tr>\n",
              "      <th>1</th>\n",
              "      <td>2016-01-02</td>\n",
              "      <td>Saturday</td>\n",
              "      <td>1</td>\n",
              "    </tr>\n",
              "    <tr>\n",
              "      <th>2</th>\n",
              "      <td>2016-01-03</td>\n",
              "      <td>Sunday</td>\n",
              "      <td>1</td>\n",
              "    </tr>\n",
              "    <tr>\n",
              "      <th>3</th>\n",
              "      <td>2016-01-04</td>\n",
              "      <td>Monday</td>\n",
              "      <td>0</td>\n",
              "    </tr>\n",
              "    <tr>\n",
              "      <th>4</th>\n",
              "      <td>2016-01-05</td>\n",
              "      <td>Tuesday</td>\n",
              "      <td>0</td>\n",
              "    </tr>\n",
              "  </tbody>\n",
              "</table>\n",
              "</div>"
            ],
            "text/plain": [
              "  calendar_date day_of_week  holiday_flg\n",
              "0    2016-01-01      Friday            1\n",
              "1    2016-01-02    Saturday            1\n",
              "2    2016-01-03      Sunday            1\n",
              "3    2016-01-04      Monday            0\n",
              "4    2016-01-05     Tuesday            0"
            ]
          },
          "metadata": {
            "tags": []
          },
          "execution_count": 146
        }
      ]
    },
    {
      "metadata": {
        "id": "OWkUioWYsAqd",
        "colab_type": "code",
        "colab": {}
      },
      "cell_type": "code",
      "source": [
        "_df = pd.DataFrame({\n",
        "    'calendar_date': ['2017-06-01', '2017-06-02', '2017-06-03', '2017-06-04', '2017-06-05', '2017-06-06', '2017-06-07'],\n",
        "    'day_of_week': ['Tuesday', 'Wednesday', 'Thursday', 'Friday', 'Saturday', 'Sunday', 'Monday'],\n",
        "    'holiday_flg': [0, 0, 0, 0, 1, 1, 0],\n",
        "})\n",
        "date_info = pd.concat([date_info, _df]).reset_index(drop=True)"
      ],
      "execution_count": 0,
      "outputs": []
    },
    {
      "metadata": {
        "id": "WK7zIXQ4ybJJ",
        "colab_type": "code",
        "colab": {}
      },
      "cell_type": "code",
      "source": [
        "saturday = date_info['day_of_week'] == 'Saturday'\n",
        "sunday = date_info['day_of_week'] == 'Sunday'\n",
        "date_info.loc[saturday | sunday, 'holiday_flg'] = 1"
      ],
      "execution_count": 0,
      "outputs": []
    },
    {
      "metadata": {
        "id": "SKGO2mk0o7Jt",
        "colab_type": "code",
        "colab": {}
      },
      "cell_type": "code",
      "source": [
        "for i in range(7):\n",
        "  key = f'{i}_days_to_holiday'\n",
        "  date_info[key] = date_info['holiday_flg'][i:].reset_index(drop=True).astype('bool')\n",
        "  date_info[key] = date_info[key].astype('bool')"
      ],
      "execution_count": 0,
      "outputs": []
    },
    {
      "metadata": {
        "id": "s_htsno_lyKs",
        "colab_type": "code",
        "colab": {
          "base_uri": "https://localhost:8080/",
          "height": 221
        },
        "outputId": "e7d07b8e-6d06-4f6c-eb1c-559502cb50d6"
      },
      "cell_type": "code",
      "source": [
        "print(date_info.shape)\n",
        "date_info.dtypes"
      ],
      "execution_count": 150,
      "outputs": [
        {
          "output_type": "stream",
          "text": [
            "(524, 10)\n"
          ],
          "name": "stdout"
        },
        {
          "output_type": "execute_result",
          "data": {
            "text/plain": [
              "calendar_date        object\n",
              "day_of_week          object\n",
              "holiday_flg           int64\n",
              "0_days_to_holiday      bool\n",
              "1_days_to_holiday      bool\n",
              "2_days_to_holiday      bool\n",
              "3_days_to_holiday      bool\n",
              "4_days_to_holiday      bool\n",
              "5_days_to_holiday      bool\n",
              "6_days_to_holiday      bool\n",
              "dtype: object"
            ]
          },
          "metadata": {
            "tags": []
          },
          "execution_count": 150
        }
      ]
    },
    {
      "metadata": {
        "id": "vbzhpPzwpP1C",
        "colab_type": "code",
        "colab": {
          "base_uri": "https://localhost:8080/",
          "height": 359
        },
        "outputId": "741e3b5d-932a-4a3e-ef56-c7c342552d26"
      },
      "cell_type": "code",
      "source": [
        "date_info.head(10)"
      ],
      "execution_count": 151,
      "outputs": [
        {
          "output_type": "execute_result",
          "data": {
            "text/html": [
              "<div>\n",
              "<style scoped>\n",
              "    .dataframe tbody tr th:only-of-type {\n",
              "        vertical-align: middle;\n",
              "    }\n",
              "\n",
              "    .dataframe tbody tr th {\n",
              "        vertical-align: top;\n",
              "    }\n",
              "\n",
              "    .dataframe thead th {\n",
              "        text-align: right;\n",
              "    }\n",
              "</style>\n",
              "<table border=\"1\" class=\"dataframe\">\n",
              "  <thead>\n",
              "    <tr style=\"text-align: right;\">\n",
              "      <th></th>\n",
              "      <th>calendar_date</th>\n",
              "      <th>day_of_week</th>\n",
              "      <th>holiday_flg</th>\n",
              "      <th>0_days_to_holiday</th>\n",
              "      <th>1_days_to_holiday</th>\n",
              "      <th>2_days_to_holiday</th>\n",
              "      <th>3_days_to_holiday</th>\n",
              "      <th>4_days_to_holiday</th>\n",
              "      <th>5_days_to_holiday</th>\n",
              "      <th>6_days_to_holiday</th>\n",
              "    </tr>\n",
              "  </thead>\n",
              "  <tbody>\n",
              "    <tr>\n",
              "      <th>0</th>\n",
              "      <td>2016-01-01</td>\n",
              "      <td>Friday</td>\n",
              "      <td>1</td>\n",
              "      <td>True</td>\n",
              "      <td>True</td>\n",
              "      <td>True</td>\n",
              "      <td>False</td>\n",
              "      <td>False</td>\n",
              "      <td>False</td>\n",
              "      <td>False</td>\n",
              "    </tr>\n",
              "    <tr>\n",
              "      <th>1</th>\n",
              "      <td>2016-01-02</td>\n",
              "      <td>Saturday</td>\n",
              "      <td>1</td>\n",
              "      <td>True</td>\n",
              "      <td>True</td>\n",
              "      <td>False</td>\n",
              "      <td>False</td>\n",
              "      <td>False</td>\n",
              "      <td>False</td>\n",
              "      <td>False</td>\n",
              "    </tr>\n",
              "    <tr>\n",
              "      <th>2</th>\n",
              "      <td>2016-01-03</td>\n",
              "      <td>Sunday</td>\n",
              "      <td>1</td>\n",
              "      <td>True</td>\n",
              "      <td>False</td>\n",
              "      <td>False</td>\n",
              "      <td>False</td>\n",
              "      <td>False</td>\n",
              "      <td>False</td>\n",
              "      <td>True</td>\n",
              "    </tr>\n",
              "    <tr>\n",
              "      <th>3</th>\n",
              "      <td>2016-01-04</td>\n",
              "      <td>Monday</td>\n",
              "      <td>0</td>\n",
              "      <td>False</td>\n",
              "      <td>False</td>\n",
              "      <td>False</td>\n",
              "      <td>False</td>\n",
              "      <td>False</td>\n",
              "      <td>True</td>\n",
              "      <td>True</td>\n",
              "    </tr>\n",
              "    <tr>\n",
              "      <th>4</th>\n",
              "      <td>2016-01-05</td>\n",
              "      <td>Tuesday</td>\n",
              "      <td>0</td>\n",
              "      <td>False</td>\n",
              "      <td>False</td>\n",
              "      <td>False</td>\n",
              "      <td>False</td>\n",
              "      <td>True</td>\n",
              "      <td>True</td>\n",
              "      <td>True</td>\n",
              "    </tr>\n",
              "    <tr>\n",
              "      <th>5</th>\n",
              "      <td>2016-01-06</td>\n",
              "      <td>Wednesday</td>\n",
              "      <td>0</td>\n",
              "      <td>False</td>\n",
              "      <td>False</td>\n",
              "      <td>False</td>\n",
              "      <td>True</td>\n",
              "      <td>True</td>\n",
              "      <td>True</td>\n",
              "      <td>False</td>\n",
              "    </tr>\n",
              "    <tr>\n",
              "      <th>6</th>\n",
              "      <td>2016-01-07</td>\n",
              "      <td>Thursday</td>\n",
              "      <td>0</td>\n",
              "      <td>False</td>\n",
              "      <td>False</td>\n",
              "      <td>True</td>\n",
              "      <td>True</td>\n",
              "      <td>True</td>\n",
              "      <td>False</td>\n",
              "      <td>False</td>\n",
              "    </tr>\n",
              "    <tr>\n",
              "      <th>7</th>\n",
              "      <td>2016-01-08</td>\n",
              "      <td>Friday</td>\n",
              "      <td>0</td>\n",
              "      <td>False</td>\n",
              "      <td>True</td>\n",
              "      <td>True</td>\n",
              "      <td>True</td>\n",
              "      <td>False</td>\n",
              "      <td>False</td>\n",
              "      <td>False</td>\n",
              "    </tr>\n",
              "    <tr>\n",
              "      <th>8</th>\n",
              "      <td>2016-01-09</td>\n",
              "      <td>Saturday</td>\n",
              "      <td>1</td>\n",
              "      <td>True</td>\n",
              "      <td>True</td>\n",
              "      <td>True</td>\n",
              "      <td>False</td>\n",
              "      <td>False</td>\n",
              "      <td>False</td>\n",
              "      <td>False</td>\n",
              "    </tr>\n",
              "    <tr>\n",
              "      <th>9</th>\n",
              "      <td>2016-01-10</td>\n",
              "      <td>Sunday</td>\n",
              "      <td>1</td>\n",
              "      <td>True</td>\n",
              "      <td>True</td>\n",
              "      <td>False</td>\n",
              "      <td>False</td>\n",
              "      <td>False</td>\n",
              "      <td>False</td>\n",
              "      <td>True</td>\n",
              "    </tr>\n",
              "  </tbody>\n",
              "</table>\n",
              "</div>"
            ],
            "text/plain": [
              "  calendar_date day_of_week  holiday_flg  0_days_to_holiday  \\\n",
              "0    2016-01-01      Friday            1               True   \n",
              "1    2016-01-02    Saturday            1               True   \n",
              "2    2016-01-03      Sunday            1               True   \n",
              "3    2016-01-04      Monday            0              False   \n",
              "4    2016-01-05     Tuesday            0              False   \n",
              "5    2016-01-06   Wednesday            0              False   \n",
              "6    2016-01-07    Thursday            0              False   \n",
              "7    2016-01-08      Friday            0              False   \n",
              "8    2016-01-09    Saturday            1               True   \n",
              "9    2016-01-10      Sunday            1               True   \n",
              "\n",
              "   1_days_to_holiday  2_days_to_holiday  3_days_to_holiday  4_days_to_holiday  \\\n",
              "0               True               True              False              False   \n",
              "1               True              False              False              False   \n",
              "2              False              False              False              False   \n",
              "3              False              False              False              False   \n",
              "4              False              False              False               True   \n",
              "5              False              False               True               True   \n",
              "6              False               True               True               True   \n",
              "7               True               True               True              False   \n",
              "8               True               True              False              False   \n",
              "9               True              False              False              False   \n",
              "\n",
              "   5_days_to_holiday  6_days_to_holiday  \n",
              "0              False              False  \n",
              "1              False              False  \n",
              "2              False               True  \n",
              "3               True               True  \n",
              "4               True               True  \n",
              "5               True              False  \n",
              "6              False              False  \n",
              "7              False              False  \n",
              "8              False              False  \n",
              "9              False               True  "
            ]
          },
          "metadata": {
            "tags": []
          },
          "execution_count": 151
        }
      ]
    },
    {
      "metadata": {
        "id": "WNmHqSw1p35-",
        "colab_type": "code",
        "colab": {
          "base_uri": "https://localhost:8080/",
          "height": 359
        },
        "outputId": "6dc71638-2214-473b-f7bd-e394d55e9abc"
      },
      "cell_type": "code",
      "source": [
        "date_info.tail(10)"
      ],
      "execution_count": 152,
      "outputs": [
        {
          "output_type": "execute_result",
          "data": {
            "text/html": [
              "<div>\n",
              "<style scoped>\n",
              "    .dataframe tbody tr th:only-of-type {\n",
              "        vertical-align: middle;\n",
              "    }\n",
              "\n",
              "    .dataframe tbody tr th {\n",
              "        vertical-align: top;\n",
              "    }\n",
              "\n",
              "    .dataframe thead th {\n",
              "        text-align: right;\n",
              "    }\n",
              "</style>\n",
              "<table border=\"1\" class=\"dataframe\">\n",
              "  <thead>\n",
              "    <tr style=\"text-align: right;\">\n",
              "      <th></th>\n",
              "      <th>calendar_date</th>\n",
              "      <th>day_of_week</th>\n",
              "      <th>holiday_flg</th>\n",
              "      <th>0_days_to_holiday</th>\n",
              "      <th>1_days_to_holiday</th>\n",
              "      <th>2_days_to_holiday</th>\n",
              "      <th>3_days_to_holiday</th>\n",
              "      <th>4_days_to_holiday</th>\n",
              "      <th>5_days_to_holiday</th>\n",
              "      <th>6_days_to_holiday</th>\n",
              "    </tr>\n",
              "  </thead>\n",
              "  <tbody>\n",
              "    <tr>\n",
              "      <th>514</th>\n",
              "      <td>2017-05-29</td>\n",
              "      <td>Monday</td>\n",
              "      <td>0</td>\n",
              "      <td>False</td>\n",
              "      <td>False</td>\n",
              "      <td>False</td>\n",
              "      <td>False</td>\n",
              "      <td>False</td>\n",
              "      <td>False</td>\n",
              "      <td>False</td>\n",
              "    </tr>\n",
              "    <tr>\n",
              "      <th>515</th>\n",
              "      <td>2017-05-30</td>\n",
              "      <td>Tuesday</td>\n",
              "      <td>0</td>\n",
              "      <td>False</td>\n",
              "      <td>False</td>\n",
              "      <td>False</td>\n",
              "      <td>False</td>\n",
              "      <td>False</td>\n",
              "      <td>False</td>\n",
              "      <td>True</td>\n",
              "    </tr>\n",
              "    <tr>\n",
              "      <th>516</th>\n",
              "      <td>2017-05-31</td>\n",
              "      <td>Wednesday</td>\n",
              "      <td>0</td>\n",
              "      <td>False</td>\n",
              "      <td>False</td>\n",
              "      <td>False</td>\n",
              "      <td>False</td>\n",
              "      <td>False</td>\n",
              "      <td>True</td>\n",
              "      <td>True</td>\n",
              "    </tr>\n",
              "    <tr>\n",
              "      <th>517</th>\n",
              "      <td>2017-06-01</td>\n",
              "      <td>Tuesday</td>\n",
              "      <td>0</td>\n",
              "      <td>False</td>\n",
              "      <td>False</td>\n",
              "      <td>False</td>\n",
              "      <td>False</td>\n",
              "      <td>True</td>\n",
              "      <td>True</td>\n",
              "      <td>False</td>\n",
              "    </tr>\n",
              "    <tr>\n",
              "      <th>518</th>\n",
              "      <td>2017-06-02</td>\n",
              "      <td>Wednesday</td>\n",
              "      <td>0</td>\n",
              "      <td>False</td>\n",
              "      <td>False</td>\n",
              "      <td>False</td>\n",
              "      <td>True</td>\n",
              "      <td>True</td>\n",
              "      <td>False</td>\n",
              "      <td>True</td>\n",
              "    </tr>\n",
              "    <tr>\n",
              "      <th>519</th>\n",
              "      <td>2017-06-03</td>\n",
              "      <td>Thursday</td>\n",
              "      <td>0</td>\n",
              "      <td>False</td>\n",
              "      <td>False</td>\n",
              "      <td>True</td>\n",
              "      <td>True</td>\n",
              "      <td>False</td>\n",
              "      <td>True</td>\n",
              "      <td>True</td>\n",
              "    </tr>\n",
              "    <tr>\n",
              "      <th>520</th>\n",
              "      <td>2017-06-04</td>\n",
              "      <td>Friday</td>\n",
              "      <td>0</td>\n",
              "      <td>False</td>\n",
              "      <td>True</td>\n",
              "      <td>True</td>\n",
              "      <td>False</td>\n",
              "      <td>True</td>\n",
              "      <td>True</td>\n",
              "      <td>True</td>\n",
              "    </tr>\n",
              "    <tr>\n",
              "      <th>521</th>\n",
              "      <td>2017-06-05</td>\n",
              "      <td>Saturday</td>\n",
              "      <td>1</td>\n",
              "      <td>True</td>\n",
              "      <td>True</td>\n",
              "      <td>False</td>\n",
              "      <td>True</td>\n",
              "      <td>True</td>\n",
              "      <td>True</td>\n",
              "      <td>True</td>\n",
              "    </tr>\n",
              "    <tr>\n",
              "      <th>522</th>\n",
              "      <td>2017-06-06</td>\n",
              "      <td>Sunday</td>\n",
              "      <td>1</td>\n",
              "      <td>True</td>\n",
              "      <td>False</td>\n",
              "      <td>True</td>\n",
              "      <td>True</td>\n",
              "      <td>True</td>\n",
              "      <td>True</td>\n",
              "      <td>True</td>\n",
              "    </tr>\n",
              "    <tr>\n",
              "      <th>523</th>\n",
              "      <td>2017-06-07</td>\n",
              "      <td>Monday</td>\n",
              "      <td>0</td>\n",
              "      <td>False</td>\n",
              "      <td>True</td>\n",
              "      <td>True</td>\n",
              "      <td>True</td>\n",
              "      <td>True</td>\n",
              "      <td>True</td>\n",
              "      <td>True</td>\n",
              "    </tr>\n",
              "  </tbody>\n",
              "</table>\n",
              "</div>"
            ],
            "text/plain": [
              "    calendar_date day_of_week  holiday_flg  0_days_to_holiday  \\\n",
              "514    2017-05-29      Monday            0              False   \n",
              "515    2017-05-30     Tuesday            0              False   \n",
              "516    2017-05-31   Wednesday            0              False   \n",
              "517    2017-06-01     Tuesday            0              False   \n",
              "518    2017-06-02   Wednesday            0              False   \n",
              "519    2017-06-03    Thursday            0              False   \n",
              "520    2017-06-04      Friday            0              False   \n",
              "521    2017-06-05    Saturday            1               True   \n",
              "522    2017-06-06      Sunday            1               True   \n",
              "523    2017-06-07      Monday            0              False   \n",
              "\n",
              "     1_days_to_holiday  2_days_to_holiday  3_days_to_holiday  \\\n",
              "514              False              False              False   \n",
              "515              False              False              False   \n",
              "516              False              False              False   \n",
              "517              False              False              False   \n",
              "518              False              False               True   \n",
              "519              False               True               True   \n",
              "520               True               True              False   \n",
              "521               True              False               True   \n",
              "522              False               True               True   \n",
              "523               True               True               True   \n",
              "\n",
              "     4_days_to_holiday  5_days_to_holiday  6_days_to_holiday  \n",
              "514              False              False              False  \n",
              "515              False              False               True  \n",
              "516              False               True               True  \n",
              "517               True               True              False  \n",
              "518               True              False               True  \n",
              "519              False               True               True  \n",
              "520               True               True               True  \n",
              "521               True               True               True  \n",
              "522               True               True               True  \n",
              "523               True               True               True  "
            ]
          },
          "metadata": {
            "tags": []
          },
          "execution_count": 152
        }
      ]
    },
    {
      "metadata": {
        "id": "Tnrv5IgUrEae",
        "colab_type": "code",
        "colab": {
          "base_uri": "https://localhost:8080/",
          "height": 204
        },
        "outputId": "20881bb4-bf1f-44b2-fa5d-ef2cfdb71fb1"
      },
      "cell_type": "code",
      "source": [
        "df.head()"
      ],
      "execution_count": 153,
      "outputs": [
        {
          "output_type": "execute_result",
          "data": {
            "text/html": [
              "<div>\n",
              "<style scoped>\n",
              "    .dataframe tbody tr th:only-of-type {\n",
              "        vertical-align: middle;\n",
              "    }\n",
              "\n",
              "    .dataframe tbody tr th {\n",
              "        vertical-align: top;\n",
              "    }\n",
              "\n",
              "    .dataframe thead th {\n",
              "        text-align: right;\n",
              "    }\n",
              "</style>\n",
              "<table border=\"1\" class=\"dataframe\">\n",
              "  <thead>\n",
              "    <tr style=\"text-align: right;\">\n",
              "      <th></th>\n",
              "      <th>air_store_id</th>\n",
              "      <th>visit_date</th>\n",
              "      <th>visitors</th>\n",
              "    </tr>\n",
              "  </thead>\n",
              "  <tbody>\n",
              "    <tr>\n",
              "      <th>0</th>\n",
              "      <td>air_ba937bf13d40fb24</td>\n",
              "      <td>2016-01-13</td>\n",
              "      <td>25</td>\n",
              "    </tr>\n",
              "    <tr>\n",
              "      <th>1</th>\n",
              "      <td>air_ba937bf13d40fb24</td>\n",
              "      <td>2016-01-14</td>\n",
              "      <td>32</td>\n",
              "    </tr>\n",
              "    <tr>\n",
              "      <th>2</th>\n",
              "      <td>air_ba937bf13d40fb24</td>\n",
              "      <td>2016-01-15</td>\n",
              "      <td>29</td>\n",
              "    </tr>\n",
              "    <tr>\n",
              "      <th>3</th>\n",
              "      <td>air_ba937bf13d40fb24</td>\n",
              "      <td>2016-01-16</td>\n",
              "      <td>22</td>\n",
              "    </tr>\n",
              "    <tr>\n",
              "      <th>4</th>\n",
              "      <td>air_ba937bf13d40fb24</td>\n",
              "      <td>2016-01-18</td>\n",
              "      <td>6</td>\n",
              "    </tr>\n",
              "  </tbody>\n",
              "</table>\n",
              "</div>"
            ],
            "text/plain": [
              "           air_store_id  visit_date  visitors\n",
              "0  air_ba937bf13d40fb24  2016-01-13        25\n",
              "1  air_ba937bf13d40fb24  2016-01-14        32\n",
              "2  air_ba937bf13d40fb24  2016-01-15        29\n",
              "3  air_ba937bf13d40fb24  2016-01-16        22\n",
              "4  air_ba937bf13d40fb24  2016-01-18         6"
            ]
          },
          "metadata": {
            "tags": []
          },
          "execution_count": 153
        }
      ]
    },
    {
      "metadata": {
        "id": "tK5udGi5u_6K",
        "colab_type": "code",
        "colab": {}
      },
      "cell_type": "code",
      "source": [
        "df = pd.merge(df, date_info, how='left', left_on='visit_date', right_on='calendar_date')"
      ],
      "execution_count": 0,
      "outputs": []
    },
    {
      "metadata": {
        "id": "qBQRqisCvK2M",
        "colab_type": "code",
        "colab": {
          "base_uri": "https://localhost:8080/",
          "height": 359
        },
        "outputId": "85ad2f75-c66e-4410-d182-6c539a35f218"
      },
      "cell_type": "code",
      "source": [
        "df = df.drop(columns=['visit_date', 'calendar_date'])\n",
        "df.head(10)"
      ],
      "execution_count": 182,
      "outputs": [
        {
          "output_type": "execute_result",
          "data": {
            "text/html": [
              "<div>\n",
              "<style scoped>\n",
              "    .dataframe tbody tr th:only-of-type {\n",
              "        vertical-align: middle;\n",
              "    }\n",
              "\n",
              "    .dataframe tbody tr th {\n",
              "        vertical-align: top;\n",
              "    }\n",
              "\n",
              "    .dataframe thead th {\n",
              "        text-align: right;\n",
              "    }\n",
              "</style>\n",
              "<table border=\"1\" class=\"dataframe\">\n",
              "  <thead>\n",
              "    <tr style=\"text-align: right;\">\n",
              "      <th></th>\n",
              "      <th>air_store_id</th>\n",
              "      <th>visitors</th>\n",
              "      <th>day_of_week</th>\n",
              "      <th>holiday_flg</th>\n",
              "      <th>0_days_to_holiday</th>\n",
              "      <th>1_days_to_holiday</th>\n",
              "      <th>2_days_to_holiday</th>\n",
              "      <th>3_days_to_holiday</th>\n",
              "      <th>4_days_to_holiday</th>\n",
              "      <th>5_days_to_holiday</th>\n",
              "      <th>6_days_to_holiday</th>\n",
              "    </tr>\n",
              "  </thead>\n",
              "  <tbody>\n",
              "    <tr>\n",
              "      <th>0</th>\n",
              "      <td>air_ba937bf13d40fb24</td>\n",
              "      <td>25</td>\n",
              "      <td>Wednesday</td>\n",
              "      <td>0</td>\n",
              "      <td>False</td>\n",
              "      <td>False</td>\n",
              "      <td>False</td>\n",
              "      <td>True</td>\n",
              "      <td>True</td>\n",
              "      <td>False</td>\n",
              "      <td>False</td>\n",
              "    </tr>\n",
              "    <tr>\n",
              "      <th>1</th>\n",
              "      <td>air_ba937bf13d40fb24</td>\n",
              "      <td>32</td>\n",
              "      <td>Thursday</td>\n",
              "      <td>0</td>\n",
              "      <td>False</td>\n",
              "      <td>False</td>\n",
              "      <td>True</td>\n",
              "      <td>True</td>\n",
              "      <td>False</td>\n",
              "      <td>False</td>\n",
              "      <td>False</td>\n",
              "    </tr>\n",
              "    <tr>\n",
              "      <th>2</th>\n",
              "      <td>air_ba937bf13d40fb24</td>\n",
              "      <td>29</td>\n",
              "      <td>Friday</td>\n",
              "      <td>0</td>\n",
              "      <td>False</td>\n",
              "      <td>True</td>\n",
              "      <td>True</td>\n",
              "      <td>False</td>\n",
              "      <td>False</td>\n",
              "      <td>False</td>\n",
              "      <td>False</td>\n",
              "    </tr>\n",
              "    <tr>\n",
              "      <th>3</th>\n",
              "      <td>air_ba937bf13d40fb24</td>\n",
              "      <td>22</td>\n",
              "      <td>Saturday</td>\n",
              "      <td>1</td>\n",
              "      <td>True</td>\n",
              "      <td>True</td>\n",
              "      <td>False</td>\n",
              "      <td>False</td>\n",
              "      <td>False</td>\n",
              "      <td>False</td>\n",
              "      <td>False</td>\n",
              "    </tr>\n",
              "    <tr>\n",
              "      <th>4</th>\n",
              "      <td>air_ba937bf13d40fb24</td>\n",
              "      <td>6</td>\n",
              "      <td>Monday</td>\n",
              "      <td>0</td>\n",
              "      <td>False</td>\n",
              "      <td>False</td>\n",
              "      <td>False</td>\n",
              "      <td>False</td>\n",
              "      <td>False</td>\n",
              "      <td>True</td>\n",
              "      <td>True</td>\n",
              "    </tr>\n",
              "    <tr>\n",
              "      <th>5</th>\n",
              "      <td>air_ba937bf13d40fb24</td>\n",
              "      <td>9</td>\n",
              "      <td>Tuesday</td>\n",
              "      <td>0</td>\n",
              "      <td>False</td>\n",
              "      <td>False</td>\n",
              "      <td>False</td>\n",
              "      <td>False</td>\n",
              "      <td>True</td>\n",
              "      <td>True</td>\n",
              "      <td>False</td>\n",
              "    </tr>\n",
              "    <tr>\n",
              "      <th>6</th>\n",
              "      <td>air_ba937bf13d40fb24</td>\n",
              "      <td>31</td>\n",
              "      <td>Wednesday</td>\n",
              "      <td>0</td>\n",
              "      <td>False</td>\n",
              "      <td>False</td>\n",
              "      <td>False</td>\n",
              "      <td>True</td>\n",
              "      <td>True</td>\n",
              "      <td>False</td>\n",
              "      <td>False</td>\n",
              "    </tr>\n",
              "    <tr>\n",
              "      <th>7</th>\n",
              "      <td>air_ba937bf13d40fb24</td>\n",
              "      <td>21</td>\n",
              "      <td>Thursday</td>\n",
              "      <td>0</td>\n",
              "      <td>False</td>\n",
              "      <td>False</td>\n",
              "      <td>True</td>\n",
              "      <td>True</td>\n",
              "      <td>False</td>\n",
              "      <td>False</td>\n",
              "      <td>False</td>\n",
              "    </tr>\n",
              "    <tr>\n",
              "      <th>8</th>\n",
              "      <td>air_ba937bf13d40fb24</td>\n",
              "      <td>18</td>\n",
              "      <td>Friday</td>\n",
              "      <td>0</td>\n",
              "      <td>False</td>\n",
              "      <td>True</td>\n",
              "      <td>True</td>\n",
              "      <td>False</td>\n",
              "      <td>False</td>\n",
              "      <td>False</td>\n",
              "      <td>False</td>\n",
              "    </tr>\n",
              "    <tr>\n",
              "      <th>9</th>\n",
              "      <td>air_ba937bf13d40fb24</td>\n",
              "      <td>26</td>\n",
              "      <td>Saturday</td>\n",
              "      <td>1</td>\n",
              "      <td>True</td>\n",
              "      <td>True</td>\n",
              "      <td>False</td>\n",
              "      <td>False</td>\n",
              "      <td>False</td>\n",
              "      <td>False</td>\n",
              "      <td>False</td>\n",
              "    </tr>\n",
              "  </tbody>\n",
              "</table>\n",
              "</div>"
            ],
            "text/plain": [
              "           air_store_id  visitors day_of_week  holiday_flg  0_days_to_holiday  \\\n",
              "0  air_ba937bf13d40fb24        25   Wednesday            0              False   \n",
              "1  air_ba937bf13d40fb24        32    Thursday            0              False   \n",
              "2  air_ba937bf13d40fb24        29      Friday            0              False   \n",
              "3  air_ba937bf13d40fb24        22    Saturday            1               True   \n",
              "4  air_ba937bf13d40fb24         6      Monday            0              False   \n",
              "5  air_ba937bf13d40fb24         9     Tuesday            0              False   \n",
              "6  air_ba937bf13d40fb24        31   Wednesday            0              False   \n",
              "7  air_ba937bf13d40fb24        21    Thursday            0              False   \n",
              "8  air_ba937bf13d40fb24        18      Friday            0              False   \n",
              "9  air_ba937bf13d40fb24        26    Saturday            1               True   \n",
              "\n",
              "   1_days_to_holiday  2_days_to_holiday  3_days_to_holiday  4_days_to_holiday  \\\n",
              "0              False              False               True               True   \n",
              "1              False               True               True              False   \n",
              "2               True               True              False              False   \n",
              "3               True              False              False              False   \n",
              "4              False              False              False              False   \n",
              "5              False              False              False               True   \n",
              "6              False              False               True               True   \n",
              "7              False               True               True              False   \n",
              "8               True               True              False              False   \n",
              "9               True              False              False              False   \n",
              "\n",
              "   5_days_to_holiday  6_days_to_holiday  \n",
              "0              False              False  \n",
              "1              False              False  \n",
              "2              False              False  \n",
              "3              False              False  \n",
              "4               True               True  \n",
              "5               True              False  \n",
              "6              False              False  \n",
              "7              False              False  \n",
              "8              False              False  \n",
              "9              False              False  "
            ]
          },
          "metadata": {
            "tags": []
          },
          "execution_count": 182
        }
      ]
    },
    {
      "metadata": {
        "id": "7TVu2Zryk13o",
        "colab_type": "code",
        "colab": {
          "base_uri": "https://localhost:8080/",
          "height": 221
        },
        "outputId": "13813484-6f82-4157-d420-83c89ae1a8b2"
      },
      "cell_type": "code",
      "source": [
        "df.dtypes"
      ],
      "execution_count": 183,
      "outputs": [
        {
          "output_type": "execute_result",
          "data": {
            "text/plain": [
              "air_store_id         object\n",
              "visitors              int64\n",
              "day_of_week          object\n",
              "holiday_flg           int64\n",
              "0_days_to_holiday      bool\n",
              "1_days_to_holiday      bool\n",
              "2_days_to_holiday      bool\n",
              "3_days_to_holiday      bool\n",
              "4_days_to_holiday      bool\n",
              "5_days_to_holiday      bool\n",
              "6_days_to_holiday      bool\n",
              "dtype: object"
            ]
          },
          "metadata": {
            "tags": []
          },
          "execution_count": 183
        }
      ]
    },
    {
      "metadata": {
        "id": "Brf3ITwvk69X",
        "colab_type": "code",
        "colab": {}
      },
      "cell_type": "code",
      "source": [
        "df2 = pd.get_dummies(df)"
      ],
      "execution_count": 0,
      "outputs": []
    },
    {
      "metadata": {
        "id": "NGEO2dBNlHw9",
        "colab_type": "code",
        "colab": {
          "base_uri": "https://localhost:8080/",
          "height": 253
        },
        "outputId": "a86d1b5d-68a8-4d42-fea9-dd2ece90ae6b"
      },
      "cell_type": "code",
      "source": [
        "df2.head()"
      ],
      "execution_count": 185,
      "outputs": [
        {
          "output_type": "execute_result",
          "data": {
            "text/html": [
              "<div>\n",
              "<style scoped>\n",
              "    .dataframe tbody tr th:only-of-type {\n",
              "        vertical-align: middle;\n",
              "    }\n",
              "\n",
              "    .dataframe tbody tr th {\n",
              "        vertical-align: top;\n",
              "    }\n",
              "\n",
              "    .dataframe thead th {\n",
              "        text-align: right;\n",
              "    }\n",
              "</style>\n",
              "<table border=\"1\" class=\"dataframe\">\n",
              "  <thead>\n",
              "    <tr style=\"text-align: right;\">\n",
              "      <th></th>\n",
              "      <th>visitors</th>\n",
              "      <th>holiday_flg</th>\n",
              "      <th>0_days_to_holiday</th>\n",
              "      <th>1_days_to_holiday</th>\n",
              "      <th>2_days_to_holiday</th>\n",
              "      <th>3_days_to_holiday</th>\n",
              "      <th>4_days_to_holiday</th>\n",
              "      <th>5_days_to_holiday</th>\n",
              "      <th>6_days_to_holiday</th>\n",
              "      <th>air_store_id_air_00a91d42b08b08d9</th>\n",
              "      <th>...</th>\n",
              "      <th>air_store_id_air_fef9ccb3ba0da2f7</th>\n",
              "      <th>air_store_id_air_ffcc2d5087e1b476</th>\n",
              "      <th>air_store_id_air_fff68b929994bfbd</th>\n",
              "      <th>day_of_week_Friday</th>\n",
              "      <th>day_of_week_Monday</th>\n",
              "      <th>day_of_week_Saturday</th>\n",
              "      <th>day_of_week_Sunday</th>\n",
              "      <th>day_of_week_Thursday</th>\n",
              "      <th>day_of_week_Tuesday</th>\n",
              "      <th>day_of_week_Wednesday</th>\n",
              "    </tr>\n",
              "  </thead>\n",
              "  <tbody>\n",
              "    <tr>\n",
              "      <th>0</th>\n",
              "      <td>25</td>\n",
              "      <td>0</td>\n",
              "      <td>False</td>\n",
              "      <td>False</td>\n",
              "      <td>False</td>\n",
              "      <td>True</td>\n",
              "      <td>True</td>\n",
              "      <td>False</td>\n",
              "      <td>False</td>\n",
              "      <td>0</td>\n",
              "      <td>...</td>\n",
              "      <td>0</td>\n",
              "      <td>0</td>\n",
              "      <td>0</td>\n",
              "      <td>0</td>\n",
              "      <td>0</td>\n",
              "      <td>0</td>\n",
              "      <td>0</td>\n",
              "      <td>0</td>\n",
              "      <td>0</td>\n",
              "      <td>1</td>\n",
              "    </tr>\n",
              "    <tr>\n",
              "      <th>1</th>\n",
              "      <td>32</td>\n",
              "      <td>0</td>\n",
              "      <td>False</td>\n",
              "      <td>False</td>\n",
              "      <td>True</td>\n",
              "      <td>True</td>\n",
              "      <td>False</td>\n",
              "      <td>False</td>\n",
              "      <td>False</td>\n",
              "      <td>0</td>\n",
              "      <td>...</td>\n",
              "      <td>0</td>\n",
              "      <td>0</td>\n",
              "      <td>0</td>\n",
              "      <td>0</td>\n",
              "      <td>0</td>\n",
              "      <td>0</td>\n",
              "      <td>0</td>\n",
              "      <td>1</td>\n",
              "      <td>0</td>\n",
              "      <td>0</td>\n",
              "    </tr>\n",
              "    <tr>\n",
              "      <th>2</th>\n",
              "      <td>29</td>\n",
              "      <td>0</td>\n",
              "      <td>False</td>\n",
              "      <td>True</td>\n",
              "      <td>True</td>\n",
              "      <td>False</td>\n",
              "      <td>False</td>\n",
              "      <td>False</td>\n",
              "      <td>False</td>\n",
              "      <td>0</td>\n",
              "      <td>...</td>\n",
              "      <td>0</td>\n",
              "      <td>0</td>\n",
              "      <td>0</td>\n",
              "      <td>1</td>\n",
              "      <td>0</td>\n",
              "      <td>0</td>\n",
              "      <td>0</td>\n",
              "      <td>0</td>\n",
              "      <td>0</td>\n",
              "      <td>0</td>\n",
              "    </tr>\n",
              "    <tr>\n",
              "      <th>3</th>\n",
              "      <td>22</td>\n",
              "      <td>1</td>\n",
              "      <td>True</td>\n",
              "      <td>True</td>\n",
              "      <td>False</td>\n",
              "      <td>False</td>\n",
              "      <td>False</td>\n",
              "      <td>False</td>\n",
              "      <td>False</td>\n",
              "      <td>0</td>\n",
              "      <td>...</td>\n",
              "      <td>0</td>\n",
              "      <td>0</td>\n",
              "      <td>0</td>\n",
              "      <td>0</td>\n",
              "      <td>0</td>\n",
              "      <td>1</td>\n",
              "      <td>0</td>\n",
              "      <td>0</td>\n",
              "      <td>0</td>\n",
              "      <td>0</td>\n",
              "    </tr>\n",
              "    <tr>\n",
              "      <th>4</th>\n",
              "      <td>6</td>\n",
              "      <td>0</td>\n",
              "      <td>False</td>\n",
              "      <td>False</td>\n",
              "      <td>False</td>\n",
              "      <td>False</td>\n",
              "      <td>False</td>\n",
              "      <td>True</td>\n",
              "      <td>True</td>\n",
              "      <td>0</td>\n",
              "      <td>...</td>\n",
              "      <td>0</td>\n",
              "      <td>0</td>\n",
              "      <td>0</td>\n",
              "      <td>0</td>\n",
              "      <td>1</td>\n",
              "      <td>0</td>\n",
              "      <td>0</td>\n",
              "      <td>0</td>\n",
              "      <td>0</td>\n",
              "      <td>0</td>\n",
              "    </tr>\n",
              "  </tbody>\n",
              "</table>\n",
              "<p>5 rows × 845 columns</p>\n",
              "</div>"
            ],
            "text/plain": [
              "   visitors  holiday_flg  0_days_to_holiday  1_days_to_holiday  \\\n",
              "0        25            0              False              False   \n",
              "1        32            0              False              False   \n",
              "2        29            0              False               True   \n",
              "3        22            1               True               True   \n",
              "4         6            0              False              False   \n",
              "\n",
              "   2_days_to_holiday  3_days_to_holiday  4_days_to_holiday  5_days_to_holiday  \\\n",
              "0              False               True               True              False   \n",
              "1               True               True              False              False   \n",
              "2               True              False              False              False   \n",
              "3              False              False              False              False   \n",
              "4              False              False              False               True   \n",
              "\n",
              "   6_days_to_holiday  air_store_id_air_00a91d42b08b08d9  \\\n",
              "0              False                                  0   \n",
              "1              False                                  0   \n",
              "2              False                                  0   \n",
              "3              False                                  0   \n",
              "4               True                                  0   \n",
              "\n",
              "           ...            air_store_id_air_fef9ccb3ba0da2f7  \\\n",
              "0          ...                                            0   \n",
              "1          ...                                            0   \n",
              "2          ...                                            0   \n",
              "3          ...                                            0   \n",
              "4          ...                                            0   \n",
              "\n",
              "   air_store_id_air_ffcc2d5087e1b476  air_store_id_air_fff68b929994bfbd  \\\n",
              "0                                  0                                  0   \n",
              "1                                  0                                  0   \n",
              "2                                  0                                  0   \n",
              "3                                  0                                  0   \n",
              "4                                  0                                  0   \n",
              "\n",
              "   day_of_week_Friday  day_of_week_Monday  day_of_week_Saturday  \\\n",
              "0                   0                   0                     0   \n",
              "1                   0                   0                     0   \n",
              "2                   1                   0                     0   \n",
              "3                   0                   0                     1   \n",
              "4                   0                   1                     0   \n",
              "\n",
              "   day_of_week_Sunday  day_of_week_Thursday  day_of_week_Tuesday  \\\n",
              "0                   0                     0                    0   \n",
              "1                   0                     1                    0   \n",
              "2                   0                     0                    0   \n",
              "3                   0                     0                    0   \n",
              "4                   0                     0                    0   \n",
              "\n",
              "   day_of_week_Wednesday  \n",
              "0                      1  \n",
              "1                      0  \n",
              "2                      0  \n",
              "3                      0  \n",
              "4                      0  \n",
              "\n",
              "[5 rows x 845 columns]"
            ]
          },
          "metadata": {
            "tags": []
          },
          "execution_count": 185
        }
      ]
    },
    {
      "metadata": {
        "id": "KBHhjrmalPRX",
        "colab_type": "code",
        "colab": {
          "base_uri": "https://localhost:8080/",
          "height": 1071
        },
        "outputId": "7ec0f63a-b6f9-4ed0-91c4-001af0bab4f1"
      },
      "cell_type": "code",
      "source": [
        "df2.dtypes"
      ],
      "execution_count": 186,
      "outputs": [
        {
          "output_type": "execute_result",
          "data": {
            "text/plain": [
              "visitors                             int64\n",
              "holiday_flg                          int64\n",
              "0_days_to_holiday                     bool\n",
              "1_days_to_holiday                     bool\n",
              "2_days_to_holiday                     bool\n",
              "3_days_to_holiday                     bool\n",
              "4_days_to_holiday                     bool\n",
              "5_days_to_holiday                     bool\n",
              "6_days_to_holiday                     bool\n",
              "air_store_id_air_00a91d42b08b08d9    uint8\n",
              "air_store_id_air_0164b9927d20bcc3    uint8\n",
              "air_store_id_air_0241aa3964b7f861    uint8\n",
              "air_store_id_air_0328696196e46f18    uint8\n",
              "air_store_id_air_034a3d5b40d5b1b1    uint8\n",
              "air_store_id_air_036d4f1ee7285390    uint8\n",
              "air_store_id_air_0382c794b73b51ad    uint8\n",
              "air_store_id_air_03963426c9312048    uint8\n",
              "air_store_id_air_04341b588bde96cd    uint8\n",
              "air_store_id_air_049f6d5b402a31b2    uint8\n",
              "air_store_id_air_04cae7c1bc9b2a0b    uint8\n",
              "air_store_id_air_0585011fa179bcce    uint8\n",
              "air_store_id_air_05c325d315cc17f5    uint8\n",
              "air_store_id_air_0647f17b4dc041c8    uint8\n",
              "air_store_id_air_064e203265ee5753    uint8\n",
              "air_store_id_air_066f0221b8a4d533    uint8\n",
              "air_store_id_air_06f95ac5c33aca10    uint8\n",
              "air_store_id_air_0728814bd98f7367    uint8\n",
              "air_store_id_air_0768ab3910f7967f    uint8\n",
              "air_store_id_air_07b314d83059c4d2    uint8\n",
              "air_store_id_air_07bb665f9cdfbdfb    uint8\n",
              "                                     ...  \n",
              "air_store_id_air_f9168b23fdfc1e52    uint8\n",
              "air_store_id_air_f927b2da69a82341    uint8\n",
              "air_store_id_air_f957c6d6467d4d90    uint8\n",
              "air_store_id_air_f96765e800907c77    uint8\n",
              "air_store_id_air_fa12b40b02fecfd8    uint8\n",
              "air_store_id_air_fa4ffc9057812fa2    uint8\n",
              "air_store_id_air_fab092c35776a9b1    uint8\n",
              "air_store_id_air_fb44f566d4f64a4e    uint8\n",
              "air_store_id_air_fbadf737162a5ce3    uint8\n",
              "air_store_id_air_fc477473134e9ae5    uint8\n",
              "air_store_id_air_fcd4492c83f1c6b9    uint8\n",
              "air_store_id_air_fcfbdcf7b1f82c6e    uint8\n",
              "air_store_id_air_fd154088b1de6fa7    uint8\n",
              "air_store_id_air_fd6aac1043520e83    uint8\n",
              "air_store_id_air_fdc02ec4a3d21ea4    uint8\n",
              "air_store_id_air_fdcfef8bd859f650    uint8\n",
              "air_store_id_air_fe22ef5a9cbef123    uint8\n",
              "air_store_id_air_fe58c074ec1445ea    uint8\n",
              "air_store_id_air_fea5dc9594450608    uint8\n",
              "air_store_id_air_fee8dcf4d619598e    uint8\n",
              "air_store_id_air_fef9ccb3ba0da2f7    uint8\n",
              "air_store_id_air_ffcc2d5087e1b476    uint8\n",
              "air_store_id_air_fff68b929994bfbd    uint8\n",
              "day_of_week_Friday                   uint8\n",
              "day_of_week_Monday                   uint8\n",
              "day_of_week_Saturday                 uint8\n",
              "day_of_week_Sunday                   uint8\n",
              "day_of_week_Thursday                 uint8\n",
              "day_of_week_Tuesday                  uint8\n",
              "day_of_week_Wednesday                uint8\n",
              "Length: 845, dtype: object"
            ]
          },
          "metadata": {
            "tags": []
          },
          "execution_count": 186
        }
      ]
    },
    {
      "metadata": {
        "id": "Q8GMrL_slTwU",
        "colab_type": "code",
        "colab": {}
      },
      "cell_type": "code",
      "source": [
        "X_train = df2.drop(columns=['visitors'])"
      ],
      "execution_count": 0,
      "outputs": []
    },
    {
      "metadata": {
        "id": "uYdMmRYgwANJ",
        "colab_type": "code",
        "colab": {
          "base_uri": "https://localhost:8080/",
          "height": 119
        },
        "outputId": "dc1a73e1-bf82-481f-ea04-a7027f874f58"
      },
      "cell_type": "code",
      "source": [
        "y_train = df.loc[:, 'visitors']\n",
        "y_train.head()"
      ],
      "execution_count": 190,
      "outputs": [
        {
          "output_type": "execute_result",
          "data": {
            "text/plain": [
              "0    25\n",
              "1    32\n",
              "2    29\n",
              "3    22\n",
              "4     6\n",
              "Name: visitors, dtype: int64"
            ]
          },
          "metadata": {
            "tags": []
          },
          "execution_count": 190
        }
      ]
    },
    {
      "metadata": {
        "id": "0Hy1Aihivx5h",
        "colab_type": "code",
        "colab": {
          "base_uri": "https://localhost:8080/",
          "height": 51
        },
        "outputId": "58d67e02-35f7-4178-9dfa-7e966658cc97"
      },
      "cell_type": "code",
      "source": [
        "print(X_train.shape)\n",
        "print(y_train.shape)"
      ],
      "execution_count": 191,
      "outputs": [
        {
          "output_type": "stream",
          "text": [
            "(252108, 844)\n",
            "(252108,)\n"
          ],
          "name": "stdout"
        }
      ]
    },
    {
      "metadata": {
        "id": "7ctTKk8Okcma",
        "colab_type": "code",
        "colab": {
          "base_uri": "https://localhost:8080/",
          "height": 119
        },
        "outputId": "7607b06f-873a-4548-a535-31463093ec7c"
      },
      "cell_type": "code",
      "source": [
        "model = xgb.XGBRegressor()\n",
        "model.fit(X_train, y_train)"
      ],
      "execution_count": 169,
      "outputs": [
        {
          "output_type": "execute_result",
          "data": {
            "text/plain": [
              "XGBRegressor(base_score=0.5, booster='gbtree', colsample_bylevel=1,\n",
              "       colsample_bytree=1, gamma=0, learning_rate=0.1, max_delta_step=0,\n",
              "       max_depth=3, min_child_weight=1, missing=None, n_estimators=100,\n",
              "       n_jobs=1, nthread=None, objective='reg:linear', random_state=0,\n",
              "       reg_alpha=0, reg_lambda=1, scale_pos_weight=1, seed=None,\n",
              "       silent=True, subsample=1)"
            ]
          },
          "metadata": {
            "tags": []
          },
          "execution_count": 169
        }
      ]
    },
    {
      "metadata": {
        "id": "jSEhdSKfv1o_",
        "colab_type": "code",
        "colab": {
          "base_uri": "https://localhost:8080/",
          "height": 289
        },
        "outputId": "85009621-1af6-46ce-f946-a3350ca49dc3"
      },
      "cell_type": "code",
      "source": [
        "submission = pd.read_csv('sample_submission.csv')\n",
        "submission.head()"
      ],
      "execution_count": 170,
      "outputs": [
        {
          "output_type": "stream",
          "text": [
            "Exception ignored in: <bound method DMatrix.__del__ of <xgboost.core.DMatrix object at 0x7fb2e7fb5ba8>>\n",
            "Traceback (most recent call last):\n",
            "  File \"/usr/local/lib/python3.6/dist-packages/xgboost/core.py\", line 368, in __del__\n",
            "    if self.handle is not None:\n",
            "AttributeError: 'DMatrix' object has no attribute 'handle'\n"
          ],
          "name": "stderr"
        },
        {
          "output_type": "execute_result",
          "data": {
            "text/html": [
              "<div>\n",
              "<style scoped>\n",
              "    .dataframe tbody tr th:only-of-type {\n",
              "        vertical-align: middle;\n",
              "    }\n",
              "\n",
              "    .dataframe tbody tr th {\n",
              "        vertical-align: top;\n",
              "    }\n",
              "\n",
              "    .dataframe thead th {\n",
              "        text-align: right;\n",
              "    }\n",
              "</style>\n",
              "<table border=\"1\" class=\"dataframe\">\n",
              "  <thead>\n",
              "    <tr style=\"text-align: right;\">\n",
              "      <th></th>\n",
              "      <th>id</th>\n",
              "      <th>visitors</th>\n",
              "    </tr>\n",
              "  </thead>\n",
              "  <tbody>\n",
              "    <tr>\n",
              "      <th>0</th>\n",
              "      <td>air_00a91d42b08b08d9_2017-04-23</td>\n",
              "      <td>0</td>\n",
              "    </tr>\n",
              "    <tr>\n",
              "      <th>1</th>\n",
              "      <td>air_00a91d42b08b08d9_2017-04-24</td>\n",
              "      <td>0</td>\n",
              "    </tr>\n",
              "    <tr>\n",
              "      <th>2</th>\n",
              "      <td>air_00a91d42b08b08d9_2017-04-25</td>\n",
              "      <td>0</td>\n",
              "    </tr>\n",
              "    <tr>\n",
              "      <th>3</th>\n",
              "      <td>air_00a91d42b08b08d9_2017-04-26</td>\n",
              "      <td>0</td>\n",
              "    </tr>\n",
              "    <tr>\n",
              "      <th>4</th>\n",
              "      <td>air_00a91d42b08b08d9_2017-04-27</td>\n",
              "      <td>0</td>\n",
              "    </tr>\n",
              "  </tbody>\n",
              "</table>\n",
              "</div>"
            ],
            "text/plain": [
              "                                id  visitors\n",
              "0  air_00a91d42b08b08d9_2017-04-23         0\n",
              "1  air_00a91d42b08b08d9_2017-04-24         0\n",
              "2  air_00a91d42b08b08d9_2017-04-25         0\n",
              "3  air_00a91d42b08b08d9_2017-04-26         0\n",
              "4  air_00a91d42b08b08d9_2017-04-27         0"
            ]
          },
          "metadata": {
            "tags": []
          },
          "execution_count": 170
        }
      ]
    },
    {
      "metadata": {
        "id": "FEXfNv0FwxZ6",
        "colab_type": "code",
        "colab": {
          "base_uri": "https://localhost:8080/",
          "height": 204
        },
        "outputId": "4ec1eb20-f948-4ef8-b9d0-fe1b9b71361d"
      },
      "cell_type": "code",
      "source": [
        "sub = submission['id'].str.split('_', expand=True)\n",
        "sub.columns = ['air', 'store_id', 'visit_date']\n",
        "sub['air_store_id'] = sub['air'] + '_' + sub['store_id']\n",
        "sub.head()"
      ],
      "execution_count": 175,
      "outputs": [
        {
          "output_type": "execute_result",
          "data": {
            "text/html": [
              "<div>\n",
              "<style scoped>\n",
              "    .dataframe tbody tr th:only-of-type {\n",
              "        vertical-align: middle;\n",
              "    }\n",
              "\n",
              "    .dataframe tbody tr th {\n",
              "        vertical-align: top;\n",
              "    }\n",
              "\n",
              "    .dataframe thead th {\n",
              "        text-align: right;\n",
              "    }\n",
              "</style>\n",
              "<table border=\"1\" class=\"dataframe\">\n",
              "  <thead>\n",
              "    <tr style=\"text-align: right;\">\n",
              "      <th></th>\n",
              "      <th>air</th>\n",
              "      <th>store_id</th>\n",
              "      <th>visit_date</th>\n",
              "      <th>air_store_id</th>\n",
              "    </tr>\n",
              "  </thead>\n",
              "  <tbody>\n",
              "    <tr>\n",
              "      <th>0</th>\n",
              "      <td>air</td>\n",
              "      <td>00a91d42b08b08d9</td>\n",
              "      <td>2017-04-23</td>\n",
              "      <td>air_00a91d42b08b08d9</td>\n",
              "    </tr>\n",
              "    <tr>\n",
              "      <th>1</th>\n",
              "      <td>air</td>\n",
              "      <td>00a91d42b08b08d9</td>\n",
              "      <td>2017-04-24</td>\n",
              "      <td>air_00a91d42b08b08d9</td>\n",
              "    </tr>\n",
              "    <tr>\n",
              "      <th>2</th>\n",
              "      <td>air</td>\n",
              "      <td>00a91d42b08b08d9</td>\n",
              "      <td>2017-04-25</td>\n",
              "      <td>air_00a91d42b08b08d9</td>\n",
              "    </tr>\n",
              "    <tr>\n",
              "      <th>3</th>\n",
              "      <td>air</td>\n",
              "      <td>00a91d42b08b08d9</td>\n",
              "      <td>2017-04-26</td>\n",
              "      <td>air_00a91d42b08b08d9</td>\n",
              "    </tr>\n",
              "    <tr>\n",
              "      <th>4</th>\n",
              "      <td>air</td>\n",
              "      <td>00a91d42b08b08d9</td>\n",
              "      <td>2017-04-27</td>\n",
              "      <td>air_00a91d42b08b08d9</td>\n",
              "    </tr>\n",
              "  </tbody>\n",
              "</table>\n",
              "</div>"
            ],
            "text/plain": [
              "   air          store_id  visit_date          air_store_id\n",
              "0  air  00a91d42b08b08d9  2017-04-23  air_00a91d42b08b08d9\n",
              "1  air  00a91d42b08b08d9  2017-04-24  air_00a91d42b08b08d9\n",
              "2  air  00a91d42b08b08d9  2017-04-25  air_00a91d42b08b08d9\n",
              "3  air  00a91d42b08b08d9  2017-04-26  air_00a91d42b08b08d9\n",
              "4  air  00a91d42b08b08d9  2017-04-27  air_00a91d42b08b08d9"
            ]
          },
          "metadata": {
            "tags": []
          },
          "execution_count": 175
        }
      ]
    },
    {
      "metadata": {
        "id": "r7Y0FylrxFMr",
        "colab_type": "code",
        "colab": {
          "base_uri": "https://localhost:8080/",
          "height": 204
        },
        "outputId": "dadfa355-6846-4e15-f74f-0d2dc7d697f0"
      },
      "cell_type": "code",
      "source": [
        "test = pd.merge(sub, date_info, how='left', left_on='visit_date', right_on='calendar_date')\n",
        "test = test.drop(columns=['visit_date', 'calendar_date', 'air', 'store_id'])\n",
        "test.head()"
      ],
      "execution_count": 188,
      "outputs": [
        {
          "output_type": "execute_result",
          "data": {
            "text/html": [
              "<div>\n",
              "<style scoped>\n",
              "    .dataframe tbody tr th:only-of-type {\n",
              "        vertical-align: middle;\n",
              "    }\n",
              "\n",
              "    .dataframe tbody tr th {\n",
              "        vertical-align: top;\n",
              "    }\n",
              "\n",
              "    .dataframe thead th {\n",
              "        text-align: right;\n",
              "    }\n",
              "</style>\n",
              "<table border=\"1\" class=\"dataframe\">\n",
              "  <thead>\n",
              "    <tr style=\"text-align: right;\">\n",
              "      <th></th>\n",
              "      <th>air_store_id</th>\n",
              "      <th>day_of_week</th>\n",
              "      <th>holiday_flg</th>\n",
              "      <th>0_days_to_holiday</th>\n",
              "      <th>1_days_to_holiday</th>\n",
              "      <th>2_days_to_holiday</th>\n",
              "      <th>3_days_to_holiday</th>\n",
              "      <th>4_days_to_holiday</th>\n",
              "      <th>5_days_to_holiday</th>\n",
              "      <th>6_days_to_holiday</th>\n",
              "    </tr>\n",
              "  </thead>\n",
              "  <tbody>\n",
              "    <tr>\n",
              "      <th>0</th>\n",
              "      <td>air_00a91d42b08b08d9</td>\n",
              "      <td>Sunday</td>\n",
              "      <td>1</td>\n",
              "      <td>True</td>\n",
              "      <td>False</td>\n",
              "      <td>False</td>\n",
              "      <td>False</td>\n",
              "      <td>False</td>\n",
              "      <td>False</td>\n",
              "      <td>True</td>\n",
              "    </tr>\n",
              "    <tr>\n",
              "      <th>1</th>\n",
              "      <td>air_00a91d42b08b08d9</td>\n",
              "      <td>Monday</td>\n",
              "      <td>0</td>\n",
              "      <td>False</td>\n",
              "      <td>False</td>\n",
              "      <td>False</td>\n",
              "      <td>False</td>\n",
              "      <td>False</td>\n",
              "      <td>True</td>\n",
              "      <td>True</td>\n",
              "    </tr>\n",
              "    <tr>\n",
              "      <th>2</th>\n",
              "      <td>air_00a91d42b08b08d9</td>\n",
              "      <td>Tuesday</td>\n",
              "      <td>0</td>\n",
              "      <td>False</td>\n",
              "      <td>False</td>\n",
              "      <td>False</td>\n",
              "      <td>False</td>\n",
              "      <td>True</td>\n",
              "      <td>True</td>\n",
              "      <td>False</td>\n",
              "    </tr>\n",
              "    <tr>\n",
              "      <th>3</th>\n",
              "      <td>air_00a91d42b08b08d9</td>\n",
              "      <td>Wednesday</td>\n",
              "      <td>0</td>\n",
              "      <td>False</td>\n",
              "      <td>False</td>\n",
              "      <td>False</td>\n",
              "      <td>True</td>\n",
              "      <td>True</td>\n",
              "      <td>False</td>\n",
              "      <td>False</td>\n",
              "    </tr>\n",
              "    <tr>\n",
              "      <th>4</th>\n",
              "      <td>air_00a91d42b08b08d9</td>\n",
              "      <td>Thursday</td>\n",
              "      <td>0</td>\n",
              "      <td>False</td>\n",
              "      <td>False</td>\n",
              "      <td>True</td>\n",
              "      <td>True</td>\n",
              "      <td>False</td>\n",
              "      <td>False</td>\n",
              "      <td>True</td>\n",
              "    </tr>\n",
              "  </tbody>\n",
              "</table>\n",
              "</div>"
            ],
            "text/plain": [
              "           air_store_id day_of_week  holiday_flg  0_days_to_holiday  \\\n",
              "0  air_00a91d42b08b08d9      Sunday            1               True   \n",
              "1  air_00a91d42b08b08d9      Monday            0              False   \n",
              "2  air_00a91d42b08b08d9     Tuesday            0              False   \n",
              "3  air_00a91d42b08b08d9   Wednesday            0              False   \n",
              "4  air_00a91d42b08b08d9    Thursday            0              False   \n",
              "\n",
              "   1_days_to_holiday  2_days_to_holiday  3_days_to_holiday  4_days_to_holiday  \\\n",
              "0              False              False              False              False   \n",
              "1              False              False              False              False   \n",
              "2              False              False              False               True   \n",
              "3              False              False               True               True   \n",
              "4              False               True               True              False   \n",
              "\n",
              "   5_days_to_holiday  6_days_to_holiday  \n",
              "0              False               True  \n",
              "1               True               True  \n",
              "2               True              False  \n",
              "3              False              False  \n",
              "4              False               True  "
            ]
          },
          "metadata": {
            "tags": []
          },
          "execution_count": 188
        }
      ]
    },
    {
      "metadata": {
        "id": "5ZeUI5Rjxptb",
        "colab_type": "code",
        "colab": {
          "base_uri": "https://localhost:8080/",
          "height": 253
        },
        "outputId": "47339784-29e8-4ba0-83f0-1855c2cc4540"
      },
      "cell_type": "code",
      "source": [
        "df3 = pd.get_dummies(test)\n",
        "df3.head()"
      ],
      "execution_count": 192,
      "outputs": [
        {
          "output_type": "execute_result",
          "data": {
            "text/html": [
              "<div>\n",
              "<style scoped>\n",
              "    .dataframe tbody tr th:only-of-type {\n",
              "        vertical-align: middle;\n",
              "    }\n",
              "\n",
              "    .dataframe tbody tr th {\n",
              "        vertical-align: top;\n",
              "    }\n",
              "\n",
              "    .dataframe thead th {\n",
              "        text-align: right;\n",
              "    }\n",
              "</style>\n",
              "<table border=\"1\" class=\"dataframe\">\n",
              "  <thead>\n",
              "    <tr style=\"text-align: right;\">\n",
              "      <th></th>\n",
              "      <th>holiday_flg</th>\n",
              "      <th>0_days_to_holiday</th>\n",
              "      <th>1_days_to_holiday</th>\n",
              "      <th>2_days_to_holiday</th>\n",
              "      <th>3_days_to_holiday</th>\n",
              "      <th>4_days_to_holiday</th>\n",
              "      <th>5_days_to_holiday</th>\n",
              "      <th>6_days_to_holiday</th>\n",
              "      <th>air_store_id_air_00a91d42b08b08d9</th>\n",
              "      <th>air_store_id_air_0164b9927d20bcc3</th>\n",
              "      <th>...</th>\n",
              "      <th>air_store_id_air_fef9ccb3ba0da2f7</th>\n",
              "      <th>air_store_id_air_ffcc2d5087e1b476</th>\n",
              "      <th>air_store_id_air_fff68b929994bfbd</th>\n",
              "      <th>day_of_week_Friday</th>\n",
              "      <th>day_of_week_Monday</th>\n",
              "      <th>day_of_week_Saturday</th>\n",
              "      <th>day_of_week_Sunday</th>\n",
              "      <th>day_of_week_Thursday</th>\n",
              "      <th>day_of_week_Tuesday</th>\n",
              "      <th>day_of_week_Wednesday</th>\n",
              "    </tr>\n",
              "  </thead>\n",
              "  <tbody>\n",
              "    <tr>\n",
              "      <th>0</th>\n",
              "      <td>1</td>\n",
              "      <td>True</td>\n",
              "      <td>False</td>\n",
              "      <td>False</td>\n",
              "      <td>False</td>\n",
              "      <td>False</td>\n",
              "      <td>False</td>\n",
              "      <td>True</td>\n",
              "      <td>1</td>\n",
              "      <td>0</td>\n",
              "      <td>...</td>\n",
              "      <td>0</td>\n",
              "      <td>0</td>\n",
              "      <td>0</td>\n",
              "      <td>0</td>\n",
              "      <td>0</td>\n",
              "      <td>0</td>\n",
              "      <td>1</td>\n",
              "      <td>0</td>\n",
              "      <td>0</td>\n",
              "      <td>0</td>\n",
              "    </tr>\n",
              "    <tr>\n",
              "      <th>1</th>\n",
              "      <td>0</td>\n",
              "      <td>False</td>\n",
              "      <td>False</td>\n",
              "      <td>False</td>\n",
              "      <td>False</td>\n",
              "      <td>False</td>\n",
              "      <td>True</td>\n",
              "      <td>True</td>\n",
              "      <td>1</td>\n",
              "      <td>0</td>\n",
              "      <td>...</td>\n",
              "      <td>0</td>\n",
              "      <td>0</td>\n",
              "      <td>0</td>\n",
              "      <td>0</td>\n",
              "      <td>1</td>\n",
              "      <td>0</td>\n",
              "      <td>0</td>\n",
              "      <td>0</td>\n",
              "      <td>0</td>\n",
              "      <td>0</td>\n",
              "    </tr>\n",
              "    <tr>\n",
              "      <th>2</th>\n",
              "      <td>0</td>\n",
              "      <td>False</td>\n",
              "      <td>False</td>\n",
              "      <td>False</td>\n",
              "      <td>False</td>\n",
              "      <td>True</td>\n",
              "      <td>True</td>\n",
              "      <td>False</td>\n",
              "      <td>1</td>\n",
              "      <td>0</td>\n",
              "      <td>...</td>\n",
              "      <td>0</td>\n",
              "      <td>0</td>\n",
              "      <td>0</td>\n",
              "      <td>0</td>\n",
              "      <td>0</td>\n",
              "      <td>0</td>\n",
              "      <td>0</td>\n",
              "      <td>0</td>\n",
              "      <td>1</td>\n",
              "      <td>0</td>\n",
              "    </tr>\n",
              "    <tr>\n",
              "      <th>3</th>\n",
              "      <td>0</td>\n",
              "      <td>False</td>\n",
              "      <td>False</td>\n",
              "      <td>False</td>\n",
              "      <td>True</td>\n",
              "      <td>True</td>\n",
              "      <td>False</td>\n",
              "      <td>False</td>\n",
              "      <td>1</td>\n",
              "      <td>0</td>\n",
              "      <td>...</td>\n",
              "      <td>0</td>\n",
              "      <td>0</td>\n",
              "      <td>0</td>\n",
              "      <td>0</td>\n",
              "      <td>0</td>\n",
              "      <td>0</td>\n",
              "      <td>0</td>\n",
              "      <td>0</td>\n",
              "      <td>0</td>\n",
              "      <td>1</td>\n",
              "    </tr>\n",
              "    <tr>\n",
              "      <th>4</th>\n",
              "      <td>0</td>\n",
              "      <td>False</td>\n",
              "      <td>False</td>\n",
              "      <td>True</td>\n",
              "      <td>True</td>\n",
              "      <td>False</td>\n",
              "      <td>False</td>\n",
              "      <td>True</td>\n",
              "      <td>1</td>\n",
              "      <td>0</td>\n",
              "      <td>...</td>\n",
              "      <td>0</td>\n",
              "      <td>0</td>\n",
              "      <td>0</td>\n",
              "      <td>0</td>\n",
              "      <td>0</td>\n",
              "      <td>0</td>\n",
              "      <td>0</td>\n",
              "      <td>1</td>\n",
              "      <td>0</td>\n",
              "      <td>0</td>\n",
              "    </tr>\n",
              "  </tbody>\n",
              "</table>\n",
              "<p>5 rows × 836 columns</p>\n",
              "</div>"
            ],
            "text/plain": [
              "   holiday_flg  0_days_to_holiday  1_days_to_holiday  2_days_to_holiday  \\\n",
              "0            1               True              False              False   \n",
              "1            0              False              False              False   \n",
              "2            0              False              False              False   \n",
              "3            0              False              False              False   \n",
              "4            0              False              False               True   \n",
              "\n",
              "   3_days_to_holiday  4_days_to_holiday  5_days_to_holiday  6_days_to_holiday  \\\n",
              "0              False              False              False               True   \n",
              "1              False              False               True               True   \n",
              "2              False               True               True              False   \n",
              "3               True               True              False              False   \n",
              "4               True              False              False               True   \n",
              "\n",
              "   air_store_id_air_00a91d42b08b08d9  air_store_id_air_0164b9927d20bcc3  \\\n",
              "0                                  1                                  0   \n",
              "1                                  1                                  0   \n",
              "2                                  1                                  0   \n",
              "3                                  1                                  0   \n",
              "4                                  1                                  0   \n",
              "\n",
              "           ...            air_store_id_air_fef9ccb3ba0da2f7  \\\n",
              "0          ...                                            0   \n",
              "1          ...                                            0   \n",
              "2          ...                                            0   \n",
              "3          ...                                            0   \n",
              "4          ...                                            0   \n",
              "\n",
              "   air_store_id_air_ffcc2d5087e1b476  air_store_id_air_fff68b929994bfbd  \\\n",
              "0                                  0                                  0   \n",
              "1                                  0                                  0   \n",
              "2                                  0                                  0   \n",
              "3                                  0                                  0   \n",
              "4                                  0                                  0   \n",
              "\n",
              "   day_of_week_Friday  day_of_week_Monday  day_of_week_Saturday  \\\n",
              "0                   0                   0                     0   \n",
              "1                   0                   1                     0   \n",
              "2                   0                   0                     0   \n",
              "3                   0                   0                     0   \n",
              "4                   0                   0                     0   \n",
              "\n",
              "   day_of_week_Sunday  day_of_week_Thursday  day_of_week_Tuesday  \\\n",
              "0                   1                     0                    0   \n",
              "1                   0                     0                    0   \n",
              "2                   0                     0                    1   \n",
              "3                   0                     0                    0   \n",
              "4                   0                     1                    0   \n",
              "\n",
              "   day_of_week_Wednesday  \n",
              "0                      0  \n",
              "1                      0  \n",
              "2                      0  \n",
              "3                      1  \n",
              "4                      0  \n",
              "\n",
              "[5 rows x 836 columns]"
            ]
          },
          "metadata": {
            "tags": []
          },
          "execution_count": 192
        }
      ]
    },
    {
      "metadata": {
        "id": "FvJV7p3kxuWT",
        "colab_type": "code",
        "colab": {
          "base_uri": "https://localhost:8080/",
          "height": 1071
        },
        "outputId": "c5d04a00-a394-4116-8ca1-b52e00a194d3"
      },
      "cell_type": "code",
      "source": [
        "df3.dtypes"
      ],
      "execution_count": 178,
      "outputs": [
        {
          "output_type": "execute_result",
          "data": {
            "text/plain": [
              "holiday_flg                  int64\n",
              "0_days_to_holiday             bool\n",
              "1_days_to_holiday             bool\n",
              "2_days_to_holiday             bool\n",
              "3_days_to_holiday             bool\n",
              "4_days_to_holiday             bool\n",
              "5_days_to_holiday             bool\n",
              "6_days_to_holiday             bool\n",
              "air_air                      uint8\n",
              "store_id_00a91d42b08b08d9    uint8\n",
              "store_id_0164b9927d20bcc3    uint8\n",
              "store_id_0241aa3964b7f861    uint8\n",
              "store_id_0328696196e46f18    uint8\n",
              "store_id_034a3d5b40d5b1b1    uint8\n",
              "store_id_036d4f1ee7285390    uint8\n",
              "store_id_0382c794b73b51ad    uint8\n",
              "store_id_03963426c9312048    uint8\n",
              "store_id_04341b588bde96cd    uint8\n",
              "store_id_049f6d5b402a31b2    uint8\n",
              "store_id_04cae7c1bc9b2a0b    uint8\n",
              "store_id_0585011fa179bcce    uint8\n",
              "store_id_05c325d315cc17f5    uint8\n",
              "store_id_0647f17b4dc041c8    uint8\n",
              "store_id_064e203265ee5753    uint8\n",
              "store_id_066f0221b8a4d533    uint8\n",
              "store_id_06f95ac5c33aca10    uint8\n",
              "store_id_0728814bd98f7367    uint8\n",
              "store_id_0768ab3910f7967f    uint8\n",
              "store_id_07b314d83059c4d2    uint8\n",
              "store_id_07bb665f9cdfbdfb    uint8\n",
              "                             ...  \n",
              "calendar_date_2017-05-09     uint8\n",
              "calendar_date_2017-05-10     uint8\n",
              "calendar_date_2017-05-11     uint8\n",
              "calendar_date_2017-05-12     uint8\n",
              "calendar_date_2017-05-13     uint8\n",
              "calendar_date_2017-05-14     uint8\n",
              "calendar_date_2017-05-15     uint8\n",
              "calendar_date_2017-05-16     uint8\n",
              "calendar_date_2017-05-17     uint8\n",
              "calendar_date_2017-05-18     uint8\n",
              "calendar_date_2017-05-19     uint8\n",
              "calendar_date_2017-05-20     uint8\n",
              "calendar_date_2017-05-21     uint8\n",
              "calendar_date_2017-05-22     uint8\n",
              "calendar_date_2017-05-23     uint8\n",
              "calendar_date_2017-05-24     uint8\n",
              "calendar_date_2017-05-25     uint8\n",
              "calendar_date_2017-05-26     uint8\n",
              "calendar_date_2017-05-27     uint8\n",
              "calendar_date_2017-05-28     uint8\n",
              "calendar_date_2017-05-29     uint8\n",
              "calendar_date_2017-05-30     uint8\n",
              "calendar_date_2017-05-31     uint8\n",
              "day_of_week_Friday           uint8\n",
              "day_of_week_Monday           uint8\n",
              "day_of_week_Saturday         uint8\n",
              "day_of_week_Sunday           uint8\n",
              "day_of_week_Thursday         uint8\n",
              "day_of_week_Tuesday          uint8\n",
              "day_of_week_Wednesday        uint8\n",
              "Length: 1736, dtype: object"
            ]
          },
          "metadata": {
            "tags": []
          },
          "execution_count": 178
        }
      ]
    },
    {
      "metadata": {
        "id": "F6-XY0GfxvxH",
        "colab_type": "code",
        "colab": {
          "base_uri": "https://localhost:8080/",
          "height": 579
        },
        "outputId": "5d7b96a0-f844-4661-f0b0-890621b143e4"
      },
      "cell_type": "code",
      "source": [
        "predict = model.predict(df3)"
      ],
      "execution_count": 181,
      "outputs": [
        {
          "output_type": "error",
          "ename": "ValueError",
          "evalue": "ignored",
          "traceback": [
            "\u001b[0;31m---------------------------------------------------------------------------\u001b[0m",
            "\u001b[0;31mValueError\u001b[0m                                Traceback (most recent call last)",
            "\u001b[0;32m<ipython-input-181-6cf37d2c01a0>\u001b[0m in \u001b[0;36m<module>\u001b[0;34m()\u001b[0m\n\u001b[0;32m----> 1\u001b[0;31m \u001b[0mpredict\u001b[0m \u001b[0;34m=\u001b[0m \u001b[0mmodel\u001b[0m\u001b[0;34m.\u001b[0m\u001b[0mpredict\u001b[0m\u001b[0;34m(\u001b[0m\u001b[0mdf3\u001b[0m\u001b[0;34m)\u001b[0m\u001b[0;34m\u001b[0m\u001b[0m\n\u001b[0m",
            "\u001b[0;32m/usr/local/lib/python3.6/dist-packages/xgboost/sklearn.py\u001b[0m in \u001b[0;36mpredict\u001b[0;34m(self, data, output_margin, ntree_limit)\u001b[0m\n\u001b[1;32m    310\u001b[0m         return self.get_booster().predict(test_dmatrix,\n\u001b[1;32m    311\u001b[0m                                           \u001b[0moutput_margin\u001b[0m\u001b[0;34m=\u001b[0m\u001b[0moutput_margin\u001b[0m\u001b[0;34m,\u001b[0m\u001b[0;34m\u001b[0m\u001b[0m\n\u001b[0;32m--> 312\u001b[0;31m                                           ntree_limit=ntree_limit)\n\u001b[0m\u001b[1;32m    313\u001b[0m \u001b[0;34m\u001b[0m\u001b[0m\n\u001b[1;32m    314\u001b[0m     \u001b[0;32mdef\u001b[0m \u001b[0mapply\u001b[0m\u001b[0;34m(\u001b[0m\u001b[0mself\u001b[0m\u001b[0;34m,\u001b[0m \u001b[0mX\u001b[0m\u001b[0;34m,\u001b[0m \u001b[0mntree_limit\u001b[0m\u001b[0;34m=\u001b[0m\u001b[0;36m0\u001b[0m\u001b[0;34m)\u001b[0m\u001b[0;34m:\u001b[0m\u001b[0;34m\u001b[0m\u001b[0m\n",
            "\u001b[0;32m/usr/local/lib/python3.6/dist-packages/xgboost/core.py\u001b[0m in \u001b[0;36mpredict\u001b[0;34m(self, data, output_margin, ntree_limit, pred_leaf, pred_contribs, approx_contribs)\u001b[0m\n\u001b[1;32m   1042\u001b[0m             \u001b[0moption_mask\u001b[0m \u001b[0;34m|=\u001b[0m \u001b[0;36m0x08\u001b[0m\u001b[0;34m\u001b[0m\u001b[0m\n\u001b[1;32m   1043\u001b[0m \u001b[0;34m\u001b[0m\u001b[0m\n\u001b[0;32m-> 1044\u001b[0;31m         \u001b[0mself\u001b[0m\u001b[0;34m.\u001b[0m\u001b[0m_validate_features\u001b[0m\u001b[0;34m(\u001b[0m\u001b[0mdata\u001b[0m\u001b[0;34m)\u001b[0m\u001b[0;34m\u001b[0m\u001b[0m\n\u001b[0m\u001b[1;32m   1045\u001b[0m \u001b[0;34m\u001b[0m\u001b[0m\n\u001b[1;32m   1046\u001b[0m         \u001b[0mlength\u001b[0m \u001b[0;34m=\u001b[0m \u001b[0mc_bst_ulong\u001b[0m\u001b[0;34m(\u001b[0m\u001b[0;34m)\u001b[0m\u001b[0;34m\u001b[0m\u001b[0m\n",
            "\u001b[0;32m/usr/local/lib/python3.6/dist-packages/xgboost/core.py\u001b[0m in \u001b[0;36m_validate_features\u001b[0;34m(self, data)\u001b[0m\n\u001b[1;32m   1286\u001b[0m \u001b[0;34m\u001b[0m\u001b[0m\n\u001b[1;32m   1287\u001b[0m                 raise ValueError(msg.format(self.feature_names,\n\u001b[0;32m-> 1288\u001b[0;31m                                             data.feature_names))\n\u001b[0m\u001b[1;32m   1289\u001b[0m \u001b[0;34m\u001b[0m\u001b[0m\n\u001b[1;32m   1290\u001b[0m     \u001b[0;32mdef\u001b[0m \u001b[0mget_split_value_histogram\u001b[0m\u001b[0;34m(\u001b[0m\u001b[0mself\u001b[0m\u001b[0;34m,\u001b[0m \u001b[0mfeature\u001b[0m\u001b[0;34m,\u001b[0m \u001b[0mfmap\u001b[0m\u001b[0;34m=\u001b[0m\u001b[0;34m''\u001b[0m\u001b[0;34m,\u001b[0m \u001b[0mbins\u001b[0m\u001b[0;34m=\u001b[0m\u001b[0;32mNone\u001b[0m\u001b[0;34m,\u001b[0m \u001b[0mas_pandas\u001b[0m\u001b[0;34m=\u001b[0m\u001b[0;32mTrue\u001b[0m\u001b[0;34m)\u001b[0m\u001b[0;34m:\u001b[0m\u001b[0;34m\u001b[0m\u001b[0m\n",
            "\u001b[0;31mValueError\u001b[0m: feature_names mismatch: ['holiday_flg', '0_days_to_holiday', '1_days_to_holiday', '2_days_to_holiday', '3_days_to_holiday', '4_days_to_holiday', '5_days_to_holiday', '6_days_to_holiday', 'air_store_id_air_00a91d42b08b08d9', 'air_store_id_air_0164b9927d20bcc3', 'air_store_id_air_0241aa3964b7f861', 'air_store_id_air_0328696196e46f18', 'air_store_id_air_034a3d5b40d5b1b1', 'air_store_id_air_036d4f1ee7285390', 'air_store_id_air_0382c794b73b51ad', 'air_store_id_air_03963426c9312048', 'air_store_id_air_04341b588bde96cd', 'air_store_id_air_049f6d5b402a31b2', 'air_store_id_air_04cae7c1bc9b2a0b', 'air_store_id_air_0585011fa179bcce', 'air_store_id_air_05c325d315cc17f5', 'air_store_id_air_0647f17b4dc041c8', 'air_store_id_air_064e203265ee5753', 'air_store_id_air_066f0221b8a4d533', 'air_store_id_air_06f95ac5c33aca10', 'air_store_id_air_0728814bd98f7367', 'air_store_id_air_0768ab3910f7967f', 'air_store_id_air_07b314d83059c4d2', 'air_store_id_air_07bb665f9cdfbdfb', 'air_store_id_air_082908692355165e', 'air_store_id_air_083ddc520ea47e1e', 'air_store_id_air_0845d8395f30c6bb', 'air_store_id_air_084d98859256acf0', 'air_store_id_air_0867f7bebad6a649', 'air_store_id_air_08ba8cd01b3ba010', 'air_store_id_air_08cb3c4ee6cd6a22', 'air_store_id_air_08ef81d5b7a0d13f', 'air_store_id_air_08f994758a1e76d4', 'air_store_id_air_09040f6df960ddb8', 'air_store_id_air_0919d54f0c9a24b8', 'air_store_id_air_09661c0f3259cc04', 'air_store_id_air_09a845d5b5944b01', 'air_store_id_air_09fd1f5c585...\nexpected visit_date_2016-06-23, visit_date_2016-12-07, calendar_date_2016-07-27, visit_date_2016-05-13, calendar_date_2017-01-21, visit_date_2016-01-21, visit_date_2016-10-20, visit_date_2017-04-01, visit_date_2016-08-26, air_store_id_air_b2d8bc9c88b85f96, calendar_date_2016-06-18, visit_date_2016-04-27, calendar_date_2016-06-26, visit_date_2016-07-25, calendar_date_2016-03-23, visit_date_2016-02-07, visit_date_2017-03-23, visit_date_2016-02-15, visit_date_2016-08-10, calendar_date_2016-12-20, visit_date_2017-01-22, calendar_date_2016-01-27, visit_date_2016-06-28, calendar_date_2017-03-20, calendar_date_2016-06-22, visit_date_2016-04-13, visit_date_2016-04-06, calendar_date_2016-11-03, calendar_date_2016-12-14, visit_date_2016-04-01, calendar_date_2016-02-18, calendar_date_2017-02-27, visit_date_2016-10-26, visit_date_2016-10-28, calendar_date_2016-03-25, calendar_date_2016-06-04, calendar_date_2016-10-31, visit_date_2016-07-18, visit_date_2016-08-22, calendar_date_2017-01-04, visit_date_2017-01-23, visit_date_2017-04-08, calendar_date_2017-01-28, calendar_date_2016-04-11, visit_date_2016-12-26, calendar_date_2016-07-05, calendar_date_2016-08-31, visit_date_2016-03-03, calendar_date_2016-02-26, visit_date_2016-05-21, calendar_date_2017-01-18, calendar_date_2016-03-19, visit_date_2016-01-08, calendar_date_2017-02-18, calendar_date_2016-01-02, calendar_date_2017-03-09, visit_date_2016-05-31, calendar_date_2016-04-27, calendar_date_2017-02-15, calendar_date_2016-06-07, visit_...\ntraining data did not have the following fields: store_id_614e2f7e76dff854, store_id_3caef3f76b8f26c5, store_id_c3585b0fba3998d0, store_id_efd70b04de878f25, store_id_947eb2cae4f3e8f2, store_id_31c753b48a657b6c, store_id_9d5a980b211e1795, store_id_4cab91146e3d1897, store_id_789466e488705c93, store_id_47beaffd3806c979, store_id_f267dd70a6a6b5d3, visit_date_2017-04-29, store_id_aa0049fe3cc6f4d6, store_id_91236b89d29567af, store_id_05c325d315cc17f5, store_id_d97dabf7aae60da5, store_id_f6bfd27e2e174d16, store_id_ac7a7427c9ae12a5, store_id_8523d6a70de49e6c, store_id_138ff410757b845f, store_id_abf06fcca748dca5, store_id_78df4dc6a7e83e41, store_id_0382c794b73b51ad, store_id_84060403939d8216, store_id_7f3dc18494bce98b, store_id_0f2f96335f274801, calendar_date_2017-05-28, store_id_71903025d39a4571, store_id_dabfbd0ec951925a, store_id_82a6ae14151953ba, store_id_900d755ebd2f7bbd, store_id_ab9746a0f83084b7, store_id_5a9a6cbeeb434c08, store_id_fcd4492c83f1c6b9, store_id_96005f79124e12bf, store_id_de803f7e324936b8, store_id_4481a87c1d7c9896, store_id_452100f5305dde64, store_id_88f31db64991768a, store_id_6d65dd11d96e00fb, store_id_b259b4e4a51a690d, store_id_eb20a89bba7dd3d0, store_id_60a7057184ec7ec7, store_id_0328696196e46f18, store_id_4beac252540f865e, store_id_df507aec929ce5f6, store_id_6d64dba2edd4fc0c, store_id_dbf64f1ce38c7442, store_id_fa12b40b02fecfd8, store_id_97b2a9f975fc702c, store_id_346ade7d29230634, store_id_9bf0ccac497c4af3, store_id_48f4da6223571da4, store_id_a9a380530c1e1..."
          ]
        }
      ]
    },
    {
      "metadata": {
        "id": "YGCRmcfw0Ezg",
        "colab_type": "code",
        "colab": {}
      },
      "cell_type": "code",
      "source": [
        ""
      ],
      "execution_count": 0,
      "outputs": []
    }
  ]
}